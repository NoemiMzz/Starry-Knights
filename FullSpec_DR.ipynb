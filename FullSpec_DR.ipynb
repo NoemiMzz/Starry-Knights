{
 "cells": [
  {
   "cell_type": "code",
   "execution_count": 1,
   "id": "f51dd89a-355f-4380-9c93-461324c8f443",
   "metadata": {},
   "outputs": [],
   "source": [
    "from obspy import UTCDateTime\n",
    "from obspy import read_inventory\n",
    "from obspy.clients.filesystem.sds import Client as wClient\n",
    "from obspy.clients.fdsn import Client as nClient\n",
    "import numpy as np\n",
    "import math\n",
    "from matplotlib import mlab\n",
    "from matplotlib.dates import date2num\n",
    "from scipy import signal\n",
    "import scipy.io\n",
    "from obspy.clients.fdsn.header import FDSNNoDataException"
   ]
  },
  {
   "cell_type": "code",
   "execution_count": 2,
   "id": "562bd1a7-eb1c-437d-94ed-456927076530",
   "metadata": {
    "tags": []
   },
   "outputs": [],
   "source": [
    "# projection for ET sensitivity\n",
    "# A = PSD displacement\n",
    "def ET_proj(F,A):\n",
    "    rho0=2.7e3\n",
    "    G=6.67e-11\n",
    "    armL=10000\n",
    "    h_NN = (1/((2*np.pi*F)**4))*np.sqrt(A)*(4*np.pi/3)*rho0*G*2*np.sqrt(2)/(armL)\n",
    "    return h_NN"
   ]
  },
  {
   "cell_type": "code",
   "execution_count": 3,
   "id": "b62ff44d-4f75-4793-8639-b97b042c5090",
   "metadata": {},
   "outputs": [],
   "source": [
    "# Start and Stop date/time\n",
    "startdate=UTCDateTime('2021-12-21T00:00:00.000')\n",
    "stopdate= UTCDateTime('2023-12-21T00:00:00.000') # P2...\n",
    "#startdate=UTCDateTime('2023-09-13T00:00:00.000') # Terziet\n",
    "#stopdate= UTCDateTime('2023-08-14T00:00:00.000')\n",
    "#stopdate= UTCDateTime('2023-11-20T00:00:00.000')\n",
    "\n",
    "# Name of data channel\n",
    "#network='ET'\n",
    "network='NL' # Terziet\n",
    "## 00 is the surface seismometer, 01 is the uderground\n",
    "location='01'\n",
    "#location='00'\n",
    "#location=''\n",
    "#station='P2'\n",
    "#station='P3'\n",
    "#station='SOE0'\n",
    "#station='SOE2'\n",
    "station='TERZ' # Terziet\n",
    "#channel='HH1'\n",
    "#channel='HH2'\n",
    "#channel='HHN'\n",
    "#channel='HHE'\n",
    "channel='HHZ'\n",
    "FullName=network+'.'+station+'.'+location+'.'+channel\n",
    "\n",
    "#remote=0\n",
    "remote=1 # Terziet\n",
    "\n",
    "# Set savespec to 1 to save the spectra also\n",
    "savespec=0"
   ]
  },
  {
   "cell_type": "code",
   "execution_count": 4,
   "id": "9fd3d005-087a-40b7-8f0d-5d38c2231fe4",
   "metadata": {},
   "outputs": [],
   "source": [
    "#Data Path\n",
    "Path='/mnt/sites-data/sosenattos/ETSCOPE'\n",
    "dist='KNMI'\n",
    "if remote==0:\n",
    "    waves=wClient(Path)\n",
    "    invfile='ETScope.xml'    \n",
    "else:\n",
    "    waves=nClient(dist)\n",
    "    invfile='TERZ_network.xml'"
   ]
  },
  {
   "cell_type": "code",
   "execution_count": 5,
   "id": "5f5735dc-70f8-41cf-aa2b-71b498341eec",
   "metadata": {},
   "outputs": [
    {
     "name": "stdout",
     "output_type": "stream",
     "text": [
      "200.0\n"
     ]
    }
   ],
   "source": [
    "# Sampling frequency\n",
    "st=waves.get_waveforms(station=station,channel=channel,network=network,location=location,starttime=startdate,endtime=startdate+1)\n",
    "st.merge()\n",
    "tr=st[0]\n",
    "fs=tr.stats.sampling_rate\n",
    "print(tr.stats.sampling_rate)\n",
    "delta=1.0/fs"
   ]
  },
  {
   "cell_type": "code",
   "execution_count": 6,
   "id": "1e2c47e8-1d02-41ba-9695-521e3c58d7cf",
   "metadata": {},
   "outputs": [],
   "source": [
    "# Inventory\n",
    "\n",
    "inv=read_inventory(invfile)"
   ]
  },
  {
   "cell_type": "code",
   "execution_count": 7,
   "id": "87d116d9-2df7-4b91-b357-36091c8e6f06",
   "metadata": {},
   "outputs": [],
   "source": [
    "# Number of day of each block\n",
    "Nday = 1\n",
    "# Time duration of each block of data extraced in the archive\n",
    "TLong=24*3600*Nday\n",
    "# Interval for saving spectra\n",
    "Tsave=24*3600*Nday\n",
    "# Time duration of data used to compute a power spectrum (eventually it is an average of severl periodograms)\n",
    "T=120\n",
    "# Overlap of each power spectrum\n",
    "Ovl=0.5\n",
    "# Time duration of a single periodogram\n",
    "Tfft=120\n",
    "# Overlap for each periodogram\n",
    "Ovlfft=0.5\n",
    "# minimum and maximum frequency to integrate\n",
    "fmin=0.1\n",
    "fmax=50\n",
    "NN_fmin=2\n",
    "NN_fmin1=3\n",
    "NN_fmax=10"
   ]
  },
  {
   "cell_type": "code",
   "execution_count": 8,
   "id": "4f50fc12-57b0-4c02-975c-db4c948e26e8",
   "metadata": {},
   "outputs": [],
   "source": [
    "dT=TLong+T*Ovl\n",
    "\n",
    "Num=int(T*fs)\n",
    "Numfft=int(Tfft*fs)\n",
    "NOvl=int(Ovlfft*Numfft)\n",
    "\n",
    "M=int((dT-T)/(T*(1-Ovl))+1)\n",
    "\n",
    "K=int((stopdate-startdate)/(T*(1-Ovl)))\n",
    "Ksave=int((Tsave)/(T*(1-Ovl)))"
   ]
  },
  {
   "cell_type": "code",
   "execution_count": 9,
   "id": "a52ff26b-85e9-4c91-b498-902cc539a7b8",
   "metadata": {},
   "outputs": [],
   "source": [
    "_,f=mlab.psd(np.ones(Numfft),NFFT=Numfft,Fs=fs)\n",
    "\n",
    "df=f[1]\n",
    "\n",
    "# find index for minimum and maximum frequencies to save spectra\n",
    "imin = (np.abs(f-fmin)).argmin()\n",
    "imax = (np.abs(f-fmax)).argmin()\n",
    "# and to compute the projection of NN on ET\n",
    "NNimin = (np.abs(f-NN_fmin)).argmin()\n",
    "NNimin1 = (np.abs(f-NN_fmin1)).argmin()\n",
    "NNimax = (np.abs(f-NN_fmax)).argmin()\n",
    "\n",
    "t=startdate\n",
    "\n",
    "v=np.zeros((Ksave,imax-imin+1))\n",
    "v_NN_Ros=np.zeros((Ksave,imax-imin+1))\n",
    "v_NN1_Ros=np.zeros((Ksave,imax-imin+1))\n",
    "v_NN=np.zeros((Ksave,imax-imin+1))\n",
    "v_NN1=np.zeros((Ksave,imax-imin+1))\n",
    "\n",
    "ET_NN=np.empty(K)\n",
    "ET_NN1=np.empty(K)\n",
    "\n",
    "ET_DR=np.empty(K)\n",
    "ET_DR1=np.empty(K)\n",
    "\n",
    "d=np.empty(K)\n",
    "dsave=np.empty(Ksave)\n",
    "\n",
    "k=0\n",
    "ksave=0\n",
    "Nsave=0"
   ]
  },
  {
   "cell_type": "code",
   "execution_count": 10,
   "id": "7dc85fd8-ac9b-4979-9fbc-e534576d0794",
   "metadata": {},
   "outputs": [],
   "source": [
    "# load ET nominal sensitivity\n",
    "ET_sens=scipy.io.loadmat('ET_D.mat')\n",
    "ET_f=ET_sens['freq'][0]\n",
    "ET_HF=ET_sens['ET_D_HF_strain_ASD'][0]\n",
    "ET_LF=ET_sens['ET_D_LF_strain_ASD'][0]\n",
    "ET_ASD_1=np.minimum(ET_LF,ET_HF)\n",
    "ET_ASD=np.interp(f,ET_f,ET_ASD_1)"
   ]
  },
  {
   "cell_type": "code",
   "execution_count": 11,
   "id": "057153cb-24aa-4d79-b64b-df05d51a9360",
   "metadata": {},
   "outputs": [],
   "source": [
    "# load ET computed with and without NN\n",
    "ET_Noise_file = scipy.io.loadmat('ETNoiseNN.mat')\n",
    "ET_Noise_f = ET_Noise_file['Freq_ETall'][0]\n",
    "ASD_ETall = ET_Noise_file['ASD_ETall'][0]\n",
    "PSD_ETLF_noNN = ET_Noise_file['PSD_ETLF_noNN'][0]\n",
    "PSD_ETHF_noNN = ET_Noise_file['PSD_ETHF_noNN'][0]\n",
    "ASD_ET_int = np.interp(f,ET_Noise_f,ASD_ETall)\n",
    "PSD_ETLF_noNN_int = np.interp(f,ET_Noise_f,PSD_ETLF_noNN)\n",
    "PSD_ETHF_noNN_int = np.interp(f,ET_Noise_f,PSD_ETHF_noNN)"
   ]
  },
  {
   "cell_type": "code",
   "execution_count": 12,
   "id": "55247004-827c-4f6f-b525-d430933c45ab",
   "metadata": {},
   "outputs": [
    {
     "name": "stdout",
     "output_type": "stream",
     "text": [
      "Processing from date:  2021-12-21T00:00:00.000000Z\n"
     ]
    },
    {
     "name": "stderr",
     "output_type": "stream",
     "text": [
      " WARNING (norm_resp): computed and reported sensitivities differ by more than 5 percent. \n",
      "\t Execution continuing.\n"
     ]
    },
    {
     "name": "stdout",
     "output_type": "stream",
     "text": [
      "Processing from date:  2021-12-22T00:00:00.000000Z\n"
     ]
    },
    {
     "name": "stderr",
     "output_type": "stream",
     "text": [
      " WARNING (norm_resp): computed and reported sensitivities differ by more than 5 percent. \n",
      "\t Execution continuing.\n"
     ]
    },
    {
     "name": "stdout",
     "output_type": "stream",
     "text": [
      "Processing from date:  2021-12-23T00:00:00.000000Z\n"
     ]
    },
    {
     "name": "stderr",
     "output_type": "stream",
     "text": [
      " WARNING (norm_resp): computed and reported sensitivities differ by more than 5 percent. \n",
      "\t Execution continuing.\n"
     ]
    },
    {
     "name": "stdout",
     "output_type": "stream",
     "text": [
      "Processing from date:  2021-12-24T00:00:00.000000Z\n"
     ]
    },
    {
     "name": "stderr",
     "output_type": "stream",
     "text": [
      " WARNING (norm_resp): computed and reported sensitivities differ by more than 5 percent. \n",
      "\t Execution continuing.\n"
     ]
    },
    {
     "name": "stdout",
     "output_type": "stream",
     "text": [
      "Processing from date:  2021-12-25T00:00:00.000000Z\n"
     ]
    },
    {
     "name": "stderr",
     "output_type": "stream",
     "text": [
      " WARNING (norm_resp): computed and reported sensitivities differ by more than 5 percent. \n",
      "\t Execution continuing.\n"
     ]
    },
    {
     "name": "stdout",
     "output_type": "stream",
     "text": [
      "Processing from date:  2021-12-26T00:00:00.000000Z\n"
     ]
    },
    {
     "name": "stderr",
     "output_type": "stream",
     "text": [
      " WARNING (norm_resp): computed and reported sensitivities differ by more than 5 percent. \n",
      "\t Execution continuing.\n"
     ]
    },
    {
     "name": "stdout",
     "output_type": "stream",
     "text": [
      "Processing from date:  2021-12-27T00:00:00.000000Z\n"
     ]
    },
    {
     "name": "stderr",
     "output_type": "stream",
     "text": [
      " WARNING (norm_resp): computed and reported sensitivities differ by more than 5 percent. \n",
      "\t Execution continuing.\n"
     ]
    },
    {
     "name": "stdout",
     "output_type": "stream",
     "text": [
      "Processing from date:  2021-12-28T00:00:00.000000Z\n"
     ]
    },
    {
     "name": "stderr",
     "output_type": "stream",
     "text": [
      " WARNING (norm_resp): computed and reported sensitivities differ by more than 5 percent. \n",
      "\t Execution continuing.\n"
     ]
    },
    {
     "name": "stdout",
     "output_type": "stream",
     "text": [
      "Processing from date:  2021-12-29T00:00:00.000000Z\n"
     ]
    },
    {
     "name": "stderr",
     "output_type": "stream",
     "text": [
      " WARNING (norm_resp): computed and reported sensitivities differ by more than 5 percent. \n",
      "\t Execution continuing.\n"
     ]
    },
    {
     "name": "stdout",
     "output_type": "stream",
     "text": [
      "Processing from date:  2021-12-30T00:00:00.000000Z\n"
     ]
    },
    {
     "name": "stderr",
     "output_type": "stream",
     "text": [
      " WARNING (norm_resp): computed and reported sensitivities differ by more than 5 percent. \n",
      "\t Execution continuing.\n"
     ]
    },
    {
     "name": "stdout",
     "output_type": "stream",
     "text": [
      "Processing from date:  2021-12-31T00:00:00.000000Z\n"
     ]
    },
    {
     "name": "stderr",
     "output_type": "stream",
     "text": [
      " WARNING (norm_resp): computed and reported sensitivities differ by more than 5 percent. \n",
      "\t Execution continuing.\n"
     ]
    },
    {
     "name": "stdout",
     "output_type": "stream",
     "text": [
      "Processing from date:  2022-01-01T00:00:00.000000Z\n"
     ]
    },
    {
     "name": "stderr",
     "output_type": "stream",
     "text": [
      " WARNING (norm_resp): computed and reported sensitivities differ by more than 5 percent. \n",
      "\t Execution continuing.\n"
     ]
    },
    {
     "name": "stdout",
     "output_type": "stream",
     "text": [
      "Processing from date:  2022-01-02T00:00:00.000000Z\n"
     ]
    },
    {
     "name": "stderr",
     "output_type": "stream",
     "text": [
      " WARNING (norm_resp): computed and reported sensitivities differ by more than 5 percent. \n",
      "\t Execution continuing.\n"
     ]
    },
    {
     "name": "stdout",
     "output_type": "stream",
     "text": [
      "Processing from date:  2022-01-03T00:00:00.000000Z\n"
     ]
    },
    {
     "name": "stderr",
     "output_type": "stream",
     "text": [
      " WARNING (norm_resp): computed and reported sensitivities differ by more than 5 percent. \n",
      "\t Execution continuing.\n"
     ]
    },
    {
     "name": "stdout",
     "output_type": "stream",
     "text": [
      "Processing from date:  2022-01-04T00:00:00.000000Z\n"
     ]
    },
    {
     "name": "stderr",
     "output_type": "stream",
     "text": [
      " WARNING (norm_resp): computed and reported sensitivities differ by more than 5 percent. \n",
      "\t Execution continuing.\n"
     ]
    },
    {
     "name": "stdout",
     "output_type": "stream",
     "text": [
      "Processing from date:  2022-01-05T00:00:00.000000Z\n"
     ]
    },
    {
     "name": "stderr",
     "output_type": "stream",
     "text": [
      " WARNING (norm_resp): computed and reported sensitivities differ by more than 5 percent. \n",
      "\t Execution continuing.\n"
     ]
    },
    {
     "name": "stdout",
     "output_type": "stream",
     "text": [
      "Processing from date:  2022-01-06T00:00:00.000000Z\n"
     ]
    },
    {
     "name": "stderr",
     "output_type": "stream",
     "text": [
      " WARNING (norm_resp): computed and reported sensitivities differ by more than 5 percent. \n",
      "\t Execution continuing.\n"
     ]
    },
    {
     "name": "stdout",
     "output_type": "stream",
     "text": [
      "Processing from date:  2022-01-07T00:00:00.000000Z\n"
     ]
    },
    {
     "name": "stderr",
     "output_type": "stream",
     "text": [
      " WARNING (norm_resp): computed and reported sensitivities differ by more than 5 percent. \n",
      "\t Execution continuing.\n"
     ]
    },
    {
     "name": "stdout",
     "output_type": "stream",
     "text": [
      "Processing from date:  2022-01-08T00:00:00.000000Z\n"
     ]
    },
    {
     "name": "stderr",
     "output_type": "stream",
     "text": [
      " WARNING (norm_resp): computed and reported sensitivities differ by more than 5 percent. \n",
      "\t Execution continuing.\n"
     ]
    },
    {
     "name": "stdout",
     "output_type": "stream",
     "text": [
      "Processing from date:  2022-01-09T00:00:00.000000Z\n"
     ]
    },
    {
     "name": "stderr",
     "output_type": "stream",
     "text": [
      " WARNING (norm_resp): computed and reported sensitivities differ by more than 5 percent. \n",
      "\t Execution continuing.\n"
     ]
    },
    {
     "name": "stdout",
     "output_type": "stream",
     "text": [
      "Processing from date:  2022-01-10T00:00:00.000000Z\n"
     ]
    },
    {
     "name": "stderr",
     "output_type": "stream",
     "text": [
      " WARNING (norm_resp): computed and reported sensitivities differ by more than 5 percent. \n",
      "\t Execution continuing.\n"
     ]
    },
    {
     "name": "stdout",
     "output_type": "stream",
     "text": [
      "Processing from date:  2022-01-11T00:00:00.000000Z\n"
     ]
    },
    {
     "name": "stderr",
     "output_type": "stream",
     "text": [
      " WARNING (norm_resp): computed and reported sensitivities differ by more than 5 percent. \n",
      "\t Execution continuing.\n"
     ]
    },
    {
     "name": "stdout",
     "output_type": "stream",
     "text": [
      "Processing from date:  2022-01-12T00:00:00.000000Z\n"
     ]
    },
    {
     "name": "stderr",
     "output_type": "stream",
     "text": [
      " WARNING (norm_resp): computed and reported sensitivities differ by more than 5 percent. \n",
      "\t Execution continuing.\n"
     ]
    },
    {
     "name": "stdout",
     "output_type": "stream",
     "text": [
      "Processing from date:  2022-01-13T00:00:00.000000Z\n"
     ]
    },
    {
     "name": "stderr",
     "output_type": "stream",
     "text": [
      " WARNING (norm_resp): computed and reported sensitivities differ by more than 5 percent. \n",
      "\t Execution continuing.\n"
     ]
    },
    {
     "name": "stdout",
     "output_type": "stream",
     "text": [
      "Processing from date:  2022-01-14T00:00:00.000000Z\n"
     ]
    },
    {
     "name": "stderr",
     "output_type": "stream",
     "text": [
      " WARNING (norm_resp): computed and reported sensitivities differ by more than 5 percent. \n",
      "\t Execution continuing.\n"
     ]
    },
    {
     "name": "stdout",
     "output_type": "stream",
     "text": [
      "Processing from date:  2022-01-15T00:00:00.000000Z\n"
     ]
    },
    {
     "name": "stderr",
     "output_type": "stream",
     "text": [
      " WARNING (norm_resp): computed and reported sensitivities differ by more than 5 percent. \n",
      "\t Execution continuing.\n"
     ]
    },
    {
     "name": "stdout",
     "output_type": "stream",
     "text": [
      "Processing from date:  2022-01-16T00:00:00.000000Z\n"
     ]
    },
    {
     "name": "stderr",
     "output_type": "stream",
     "text": [
      " WARNING (norm_resp): computed and reported sensitivities differ by more than 5 percent. \n",
      "\t Execution continuing.\n"
     ]
    },
    {
     "name": "stdout",
     "output_type": "stream",
     "text": [
      "Processing from date:  2022-01-17T00:00:00.000000Z\n"
     ]
    },
    {
     "name": "stderr",
     "output_type": "stream",
     "text": [
      " WARNING (norm_resp): computed and reported sensitivities differ by more than 5 percent. \n",
      "\t Execution continuing.\n"
     ]
    },
    {
     "name": "stdout",
     "output_type": "stream",
     "text": [
      "Processing from date:  2022-01-18T00:00:00.000000Z\n"
     ]
    },
    {
     "name": "stderr",
     "output_type": "stream",
     "text": [
      " WARNING (norm_resp): computed and reported sensitivities differ by more than 5 percent. \n",
      "\t Execution continuing.\n"
     ]
    },
    {
     "name": "stdout",
     "output_type": "stream",
     "text": [
      "Processing from date:  2022-01-19T00:00:00.000000Z\n"
     ]
    },
    {
     "name": "stderr",
     "output_type": "stream",
     "text": [
      " WARNING (norm_resp): computed and reported sensitivities differ by more than 5 percent. \n",
      "\t Execution continuing.\n"
     ]
    },
    {
     "name": "stdout",
     "output_type": "stream",
     "text": [
      "Processing from date:  2022-01-20T00:00:00.000000Z\n"
     ]
    },
    {
     "name": "stderr",
     "output_type": "stream",
     "text": [
      " WARNING (norm_resp): computed and reported sensitivities differ by more than 5 percent. \n",
      "\t Execution continuing.\n"
     ]
    },
    {
     "name": "stdout",
     "output_type": "stream",
     "text": [
      "Processing from date:  2022-01-21T00:00:00.000000Z\n"
     ]
    },
    {
     "name": "stderr",
     "output_type": "stream",
     "text": [
      " WARNING (norm_resp): computed and reported sensitivities differ by more than 5 percent. \n",
      "\t Execution continuing.\n"
     ]
    },
    {
     "name": "stdout",
     "output_type": "stream",
     "text": [
      "Processing from date:  2022-01-22T00:00:00.000000Z\n"
     ]
    },
    {
     "name": "stderr",
     "output_type": "stream",
     "text": [
      " WARNING (norm_resp): computed and reported sensitivities differ by more than 5 percent. \n",
      "\t Execution continuing.\n"
     ]
    },
    {
     "name": "stdout",
     "output_type": "stream",
     "text": [
      "Processing from date:  2022-01-23T00:00:00.000000Z\n"
     ]
    },
    {
     "name": "stderr",
     "output_type": "stream",
     "text": [
      " WARNING (norm_resp): computed and reported sensitivities differ by more than 5 percent. \n",
      "\t Execution continuing.\n"
     ]
    },
    {
     "name": "stdout",
     "output_type": "stream",
     "text": [
      "Processing from date:  2022-01-24T00:00:00.000000Z\n"
     ]
    },
    {
     "name": "stderr",
     "output_type": "stream",
     "text": [
      " WARNING (norm_resp): computed and reported sensitivities differ by more than 5 percent. \n",
      "\t Execution continuing.\n"
     ]
    },
    {
     "name": "stdout",
     "output_type": "stream",
     "text": [
      "Processing from date:  2022-01-25T00:00:00.000000Z\n"
     ]
    },
    {
     "name": "stderr",
     "output_type": "stream",
     "text": [
      " WARNING (norm_resp): computed and reported sensitivities differ by more than 5 percent. \n",
      "\t Execution continuing.\n"
     ]
    },
    {
     "name": "stdout",
     "output_type": "stream",
     "text": [
      "Processing from date:  2022-01-26T00:00:00.000000Z\n"
     ]
    },
    {
     "name": "stderr",
     "output_type": "stream",
     "text": [
      " WARNING (norm_resp): computed and reported sensitivities differ by more than 5 percent. \n",
      "\t Execution continuing.\n"
     ]
    },
    {
     "name": "stdout",
     "output_type": "stream",
     "text": [
      "Processing from date:  2022-01-27T00:00:00.000000Z\n"
     ]
    },
    {
     "name": "stderr",
     "output_type": "stream",
     "text": [
      " WARNING (norm_resp): computed and reported sensitivities differ by more than 5 percent. \n",
      "\t Execution continuing.\n"
     ]
    },
    {
     "name": "stdout",
     "output_type": "stream",
     "text": [
      "Processing from date:  2022-01-28T00:00:00.000000Z\n"
     ]
    },
    {
     "name": "stderr",
     "output_type": "stream",
     "text": [
      " WARNING (norm_resp): computed and reported sensitivities differ by more than 5 percent. \n",
      "\t Execution continuing.\n"
     ]
    },
    {
     "name": "stdout",
     "output_type": "stream",
     "text": [
      "Processing from date:  2022-01-29T00:00:00.000000Z\n"
     ]
    },
    {
     "name": "stderr",
     "output_type": "stream",
     "text": [
      " WARNING (norm_resp): computed and reported sensitivities differ by more than 5 percent. \n",
      "\t Execution continuing.\n"
     ]
    },
    {
     "name": "stdout",
     "output_type": "stream",
     "text": [
      "Processing from date:  2022-01-30T00:00:00.000000Z\n"
     ]
    },
    {
     "name": "stderr",
     "output_type": "stream",
     "text": [
      " WARNING (norm_resp): computed and reported sensitivities differ by more than 5 percent. \n",
      "\t Execution continuing.\n"
     ]
    },
    {
     "name": "stdout",
     "output_type": "stream",
     "text": [
      "Processing from date:  2022-01-31T00:00:00.000000Z\n"
     ]
    },
    {
     "name": "stderr",
     "output_type": "stream",
     "text": [
      " WARNING (norm_resp): computed and reported sensitivities differ by more than 5 percent. \n",
      "\t Execution continuing.\n"
     ]
    },
    {
     "name": "stdout",
     "output_type": "stream",
     "text": [
      "Processing from date:  2022-02-01T00:00:00.000000Z\n"
     ]
    },
    {
     "name": "stderr",
     "output_type": "stream",
     "text": [
      " WARNING (norm_resp): computed and reported sensitivities differ by more than 5 percent. \n",
      "\t Execution continuing.\n"
     ]
    },
    {
     "name": "stdout",
     "output_type": "stream",
     "text": [
      "Processing from date:  2022-02-02T00:00:00.000000Z\n"
     ]
    },
    {
     "name": "stderr",
     "output_type": "stream",
     "text": [
      " WARNING (norm_resp): computed and reported sensitivities differ by more than 5 percent. \n",
      "\t Execution continuing.\n"
     ]
    },
    {
     "name": "stdout",
     "output_type": "stream",
     "text": [
      "Processing from date:  2022-02-03T00:00:00.000000Z\n"
     ]
    },
    {
     "name": "stderr",
     "output_type": "stream",
     "text": [
      " WARNING (norm_resp): computed and reported sensitivities differ by more than 5 percent. \n",
      "\t Execution continuing.\n"
     ]
    },
    {
     "name": "stdout",
     "output_type": "stream",
     "text": [
      "Processing from date:  2022-02-04T00:00:00.000000Z\n"
     ]
    },
    {
     "name": "stderr",
     "output_type": "stream",
     "text": [
      " WARNING (norm_resp): computed and reported sensitivities differ by more than 5 percent. \n",
      "\t Execution continuing.\n"
     ]
    },
    {
     "name": "stdout",
     "output_type": "stream",
     "text": [
      "Processing from date:  2022-02-05T00:00:00.000000Z\n"
     ]
    },
    {
     "name": "stderr",
     "output_type": "stream",
     "text": [
      " WARNING (norm_resp): computed and reported sensitivities differ by more than 5 percent. \n",
      "\t Execution continuing.\n"
     ]
    },
    {
     "name": "stdout",
     "output_type": "stream",
     "text": [
      "Processing from date:  2022-02-06T00:00:00.000000Z\n"
     ]
    },
    {
     "name": "stderr",
     "output_type": "stream",
     "text": [
      " WARNING (norm_resp): computed and reported sensitivities differ by more than 5 percent. \n",
      "\t Execution continuing.\n"
     ]
    },
    {
     "name": "stdout",
     "output_type": "stream",
     "text": [
      "Processing from date:  2022-02-07T00:00:00.000000Z\n"
     ]
    },
    {
     "name": "stderr",
     "output_type": "stream",
     "text": [
      " WARNING (norm_resp): computed and reported sensitivities differ by more than 5 percent. \n",
      "\t Execution continuing.\n"
     ]
    },
    {
     "name": "stdout",
     "output_type": "stream",
     "text": [
      "Processing from date:  2022-02-08T00:00:00.000000Z\n"
     ]
    },
    {
     "name": "stderr",
     "output_type": "stream",
     "text": [
      " WARNING (norm_resp): computed and reported sensitivities differ by more than 5 percent. \n",
      "\t Execution continuing.\n"
     ]
    },
    {
     "name": "stdout",
     "output_type": "stream",
     "text": [
      "Processing from date:  2022-02-09T00:00:00.000000Z\n"
     ]
    },
    {
     "name": "stderr",
     "output_type": "stream",
     "text": [
      " WARNING (norm_resp): computed and reported sensitivities differ by more than 5 percent. \n",
      "\t Execution continuing.\n"
     ]
    },
    {
     "name": "stdout",
     "output_type": "stream",
     "text": [
      "Processing from date:  2022-02-10T00:00:00.000000Z\n"
     ]
    },
    {
     "name": "stderr",
     "output_type": "stream",
     "text": [
      " WARNING (norm_resp): computed and reported sensitivities differ by more than 5 percent. \n",
      "\t Execution continuing.\n"
     ]
    },
    {
     "name": "stdout",
     "output_type": "stream",
     "text": [
      "Processing from date:  2022-02-11T00:00:00.000000Z\n"
     ]
    },
    {
     "name": "stderr",
     "output_type": "stream",
     "text": [
      " WARNING (norm_resp): computed and reported sensitivities differ by more than 5 percent. \n",
      "\t Execution continuing.\n"
     ]
    },
    {
     "name": "stdout",
     "output_type": "stream",
     "text": [
      "Processing from date:  2022-02-12T00:00:00.000000Z\n"
     ]
    },
    {
     "name": "stderr",
     "output_type": "stream",
     "text": [
      " WARNING (norm_resp): computed and reported sensitivities differ by more than 5 percent. \n",
      "\t Execution continuing.\n"
     ]
    },
    {
     "name": "stdout",
     "output_type": "stream",
     "text": [
      "Processing from date:  2022-02-13T00:00:00.000000Z\n"
     ]
    },
    {
     "name": "stderr",
     "output_type": "stream",
     "text": [
      " WARNING (norm_resp): computed and reported sensitivities differ by more than 5 percent. \n",
      "\t Execution continuing.\n"
     ]
    },
    {
     "name": "stdout",
     "output_type": "stream",
     "text": [
      "Processing from date:  2022-02-14T00:00:00.000000Z\n"
     ]
    },
    {
     "name": "stderr",
     "output_type": "stream",
     "text": [
      " WARNING (norm_resp): computed and reported sensitivities differ by more than 5 percent. \n",
      "\t Execution continuing.\n"
     ]
    },
    {
     "name": "stdout",
     "output_type": "stream",
     "text": [
      "Processing from date:  2022-02-15T00:00:00.000000Z\n"
     ]
    },
    {
     "name": "stderr",
     "output_type": "stream",
     "text": [
      " WARNING (norm_resp): computed and reported sensitivities differ by more than 5 percent. \n",
      "\t Execution continuing.\n"
     ]
    },
    {
     "name": "stdout",
     "output_type": "stream",
     "text": [
      "Processing from date:  2022-02-16T00:00:00.000000Z\n"
     ]
    },
    {
     "name": "stderr",
     "output_type": "stream",
     "text": [
      " WARNING (norm_resp): computed and reported sensitivities differ by more than 5 percent. \n",
      "\t Execution continuing.\n"
     ]
    },
    {
     "name": "stdout",
     "output_type": "stream",
     "text": [
      "Processing from date:  2022-02-17T00:00:00.000000Z\n"
     ]
    },
    {
     "name": "stderr",
     "output_type": "stream",
     "text": [
      " WARNING (norm_resp): computed and reported sensitivities differ by more than 5 percent. \n",
      "\t Execution continuing.\n"
     ]
    },
    {
     "name": "stdout",
     "output_type": "stream",
     "text": [
      "Processing from date:  2022-02-18T00:00:00.000000Z\n"
     ]
    },
    {
     "name": "stderr",
     "output_type": "stream",
     "text": [
      " WARNING (norm_resp): computed and reported sensitivities differ by more than 5 percent. \n",
      "\t Execution continuing.\n"
     ]
    },
    {
     "name": "stdout",
     "output_type": "stream",
     "text": [
      "Processing from date:  2022-02-19T00:00:00.000000Z\n"
     ]
    },
    {
     "name": "stderr",
     "output_type": "stream",
     "text": [
      " WARNING (norm_resp): computed and reported sensitivities differ by more than 5 percent. \n",
      "\t Execution continuing.\n"
     ]
    },
    {
     "name": "stdout",
     "output_type": "stream",
     "text": [
      "Processing from date:  2022-02-20T00:00:00.000000Z\n"
     ]
    },
    {
     "name": "stderr",
     "output_type": "stream",
     "text": [
      " WARNING (norm_resp): computed and reported sensitivities differ by more than 5 percent. \n",
      "\t Execution continuing.\n"
     ]
    },
    {
     "name": "stdout",
     "output_type": "stream",
     "text": [
      "Processing from date:  2022-02-21T00:00:00.000000Z\n"
     ]
    },
    {
     "name": "stderr",
     "output_type": "stream",
     "text": [
      " WARNING (norm_resp): computed and reported sensitivities differ by more than 5 percent. \n",
      "\t Execution continuing.\n"
     ]
    },
    {
     "name": "stdout",
     "output_type": "stream",
     "text": [
      "Processing from date:  2022-02-22T00:00:00.000000Z\n"
     ]
    },
    {
     "name": "stderr",
     "output_type": "stream",
     "text": [
      " WARNING (norm_resp): computed and reported sensitivities differ by more than 5 percent. \n",
      "\t Execution continuing.\n"
     ]
    },
    {
     "name": "stdout",
     "output_type": "stream",
     "text": [
      "Processing from date:  2022-02-23T00:00:00.000000Z\n"
     ]
    },
    {
     "name": "stderr",
     "output_type": "stream",
     "text": [
      " WARNING (norm_resp): computed and reported sensitivities differ by more than 5 percent. \n",
      "\t Execution continuing.\n"
     ]
    },
    {
     "name": "stdout",
     "output_type": "stream",
     "text": [
      "Processing from date:  2022-02-24T00:00:00.000000Z\n"
     ]
    },
    {
     "name": "stderr",
     "output_type": "stream",
     "text": [
      " WARNING (norm_resp): computed and reported sensitivities differ by more than 5 percent. \n",
      "\t Execution continuing.\n"
     ]
    },
    {
     "name": "stdout",
     "output_type": "stream",
     "text": [
      "Processing from date:  2022-02-25T00:00:00.000000Z\n"
     ]
    },
    {
     "name": "stderr",
     "output_type": "stream",
     "text": [
      " WARNING (norm_resp): computed and reported sensitivities differ by more than 5 percent. \n",
      "\t Execution continuing.\n"
     ]
    },
    {
     "name": "stdout",
     "output_type": "stream",
     "text": [
      "Processing from date:  2022-02-26T00:00:00.000000Z\n"
     ]
    },
    {
     "name": "stderr",
     "output_type": "stream",
     "text": [
      " WARNING (norm_resp): computed and reported sensitivities differ by more than 5 percent. \n",
      "\t Execution continuing.\n"
     ]
    },
    {
     "name": "stdout",
     "output_type": "stream",
     "text": [
      "Processing from date:  2022-02-27T00:00:00.000000Z\n"
     ]
    },
    {
     "name": "stderr",
     "output_type": "stream",
     "text": [
      " WARNING (norm_resp): computed and reported sensitivities differ by more than 5 percent. \n",
      "\t Execution continuing.\n"
     ]
    },
    {
     "name": "stdout",
     "output_type": "stream",
     "text": [
      "Processing from date:  2022-02-28T00:00:00.000000Z\n"
     ]
    },
    {
     "name": "stderr",
     "output_type": "stream",
     "text": [
      " WARNING (norm_resp): computed and reported sensitivities differ by more than 5 percent. \n",
      "\t Execution continuing.\n"
     ]
    },
    {
     "name": "stdout",
     "output_type": "stream",
     "text": [
      "Processing from date:  2022-03-01T00:00:00.000000Z\n"
     ]
    },
    {
     "name": "stderr",
     "output_type": "stream",
     "text": [
      " WARNING (norm_resp): computed and reported sensitivities differ by more than 5 percent. \n",
      "\t Execution continuing.\n"
     ]
    },
    {
     "name": "stdout",
     "output_type": "stream",
     "text": [
      "Processing from date:  2022-03-02T00:00:00.000000Z\n"
     ]
    },
    {
     "name": "stderr",
     "output_type": "stream",
     "text": [
      " WARNING (norm_resp): computed and reported sensitivities differ by more than 5 percent. \n",
      "\t Execution continuing.\n"
     ]
    },
    {
     "name": "stdout",
     "output_type": "stream",
     "text": [
      "Processing from date:  2022-03-03T00:00:00.000000Z\n"
     ]
    },
    {
     "name": "stderr",
     "output_type": "stream",
     "text": [
      " WARNING (norm_resp): computed and reported sensitivities differ by more than 5 percent. \n",
      "\t Execution continuing.\n"
     ]
    },
    {
     "name": "stdout",
     "output_type": "stream",
     "text": [
      "Processing from date:  2022-03-04T00:00:00.000000Z\n"
     ]
    },
    {
     "name": "stderr",
     "output_type": "stream",
     "text": [
      " WARNING (norm_resp): computed and reported sensitivities differ by more than 5 percent. \n",
      "\t Execution continuing.\n"
     ]
    },
    {
     "name": "stdout",
     "output_type": "stream",
     "text": [
      "Processing from date:  2022-03-05T00:00:00.000000Z\n"
     ]
    },
    {
     "name": "stderr",
     "output_type": "stream",
     "text": [
      " WARNING (norm_resp): computed and reported sensitivities differ by more than 5 percent. \n",
      "\t Execution continuing.\n"
     ]
    },
    {
     "name": "stdout",
     "output_type": "stream",
     "text": [
      "Processing from date:  2022-03-06T00:00:00.000000Z\n"
     ]
    },
    {
     "name": "stderr",
     "output_type": "stream",
     "text": [
      " WARNING (norm_resp): computed and reported sensitivities differ by more than 5 percent. \n",
      "\t Execution continuing.\n"
     ]
    },
    {
     "name": "stdout",
     "output_type": "stream",
     "text": [
      "Processing from date:  2022-03-07T00:00:00.000000Z\n"
     ]
    },
    {
     "name": "stderr",
     "output_type": "stream",
     "text": [
      " WARNING (norm_resp): computed and reported sensitivities differ by more than 5 percent. \n",
      "\t Execution continuing.\n"
     ]
    },
    {
     "name": "stdout",
     "output_type": "stream",
     "text": [
      "Processing from date:  2022-03-08T00:00:00.000000Z\n"
     ]
    },
    {
     "name": "stderr",
     "output_type": "stream",
     "text": [
      " WARNING (norm_resp): computed and reported sensitivities differ by more than 5 percent. \n",
      "\t Execution continuing.\n"
     ]
    },
    {
     "name": "stdout",
     "output_type": "stream",
     "text": [
      "Processing from date:  2022-03-09T00:00:00.000000Z\n"
     ]
    },
    {
     "name": "stderr",
     "output_type": "stream",
     "text": [
      " WARNING (norm_resp): computed and reported sensitivities differ by more than 5 percent. \n",
      "\t Execution continuing.\n"
     ]
    },
    {
     "name": "stdout",
     "output_type": "stream",
     "text": [
      "Processing from date:  2022-03-10T00:00:00.000000Z\n"
     ]
    },
    {
     "name": "stderr",
     "output_type": "stream",
     "text": [
      " WARNING (norm_resp): computed and reported sensitivities differ by more than 5 percent. \n",
      "\t Execution continuing.\n"
     ]
    },
    {
     "name": "stdout",
     "output_type": "stream",
     "text": [
      "Processing from date:  2022-03-11T00:00:00.000000Z\n"
     ]
    },
    {
     "name": "stderr",
     "output_type": "stream",
     "text": [
      " WARNING (norm_resp): computed and reported sensitivities differ by more than 5 percent. \n",
      "\t Execution continuing.\n"
     ]
    },
    {
     "name": "stdout",
     "output_type": "stream",
     "text": [
      "Processing from date:  2022-03-12T00:00:00.000000Z\n"
     ]
    },
    {
     "name": "stderr",
     "output_type": "stream",
     "text": [
      " WARNING (norm_resp): computed and reported sensitivities differ by more than 5 percent. \n",
      "\t Execution continuing.\n"
     ]
    },
    {
     "name": "stdout",
     "output_type": "stream",
     "text": [
      "Processing from date:  2022-03-13T00:00:00.000000Z\n"
     ]
    },
    {
     "name": "stderr",
     "output_type": "stream",
     "text": [
      " WARNING (norm_resp): computed and reported sensitivities differ by more than 5 percent. \n",
      "\t Execution continuing.\n"
     ]
    },
    {
     "name": "stdout",
     "output_type": "stream",
     "text": [
      "Processing from date:  2022-03-14T00:00:00.000000Z\n"
     ]
    },
    {
     "name": "stderr",
     "output_type": "stream",
     "text": [
      " WARNING (norm_resp): computed and reported sensitivities differ by more than 5 percent. \n",
      "\t Execution continuing.\n"
     ]
    },
    {
     "name": "stdout",
     "output_type": "stream",
     "text": [
      "Processing from date:  2022-03-15T00:00:00.000000Z\n"
     ]
    },
    {
     "name": "stderr",
     "output_type": "stream",
     "text": [
      " WARNING (norm_resp): computed and reported sensitivities differ by more than 5 percent. \n",
      "\t Execution continuing.\n"
     ]
    },
    {
     "name": "stdout",
     "output_type": "stream",
     "text": [
      "Processing from date:  2022-03-16T00:00:00.000000Z\n"
     ]
    },
    {
     "name": "stderr",
     "output_type": "stream",
     "text": [
      " WARNING (norm_resp): computed and reported sensitivities differ by more than 5 percent. \n",
      "\t Execution continuing.\n"
     ]
    },
    {
     "name": "stdout",
     "output_type": "stream",
     "text": [
      "Processing from date:  2022-03-17T00:00:00.000000Z\n"
     ]
    },
    {
     "name": "stderr",
     "output_type": "stream",
     "text": [
      " WARNING (norm_resp): computed and reported sensitivities differ by more than 5 percent. \n",
      "\t Execution continuing.\n"
     ]
    },
    {
     "name": "stdout",
     "output_type": "stream",
     "text": [
      "Processing from date:  2022-03-18T00:00:00.000000Z\n"
     ]
    },
    {
     "name": "stderr",
     "output_type": "stream",
     "text": [
      " WARNING (norm_resp): computed and reported sensitivities differ by more than 5 percent. \n",
      "\t Execution continuing.\n"
     ]
    },
    {
     "name": "stdout",
     "output_type": "stream",
     "text": [
      "Processing from date:  2022-03-19T00:00:00.000000Z\n"
     ]
    },
    {
     "name": "stderr",
     "output_type": "stream",
     "text": [
      " WARNING (norm_resp): computed and reported sensitivities differ by more than 5 percent. \n",
      "\t Execution continuing.\n"
     ]
    },
    {
     "name": "stdout",
     "output_type": "stream",
     "text": [
      "Processing from date:  2022-03-20T00:00:00.000000Z\n"
     ]
    },
    {
     "name": "stderr",
     "output_type": "stream",
     "text": [
      " WARNING (norm_resp): computed and reported sensitivities differ by more than 5 percent. \n",
      "\t Execution continuing.\n"
     ]
    },
    {
     "name": "stdout",
     "output_type": "stream",
     "text": [
      "Processing from date:  2022-03-21T00:00:00.000000Z\n"
     ]
    },
    {
     "name": "stderr",
     "output_type": "stream",
     "text": [
      " WARNING (norm_resp): computed and reported sensitivities differ by more than 5 percent. \n",
      "\t Execution continuing.\n"
     ]
    },
    {
     "name": "stdout",
     "output_type": "stream",
     "text": [
      "Processing from date:  2022-03-22T00:00:00.000000Z\n"
     ]
    },
    {
     "name": "stderr",
     "output_type": "stream",
     "text": [
      " WARNING (norm_resp): computed and reported sensitivities differ by more than 5 percent. \n",
      "\t Execution continuing.\n"
     ]
    },
    {
     "name": "stdout",
     "output_type": "stream",
     "text": [
      "Processing from date:  2022-03-23T00:00:00.000000Z\n"
     ]
    },
    {
     "name": "stderr",
     "output_type": "stream",
     "text": [
      " WARNING (norm_resp): computed and reported sensitivities differ by more than 5 percent. \n",
      "\t Execution continuing.\n"
     ]
    },
    {
     "name": "stdout",
     "output_type": "stream",
     "text": [
      "Processing from date:  2022-03-24T00:00:00.000000Z\n"
     ]
    },
    {
     "name": "stderr",
     "output_type": "stream",
     "text": [
      " WARNING (norm_resp): computed and reported sensitivities differ by more than 5 percent. \n",
      "\t Execution continuing.\n"
     ]
    },
    {
     "name": "stdout",
     "output_type": "stream",
     "text": [
      "Processing from date:  2022-03-25T00:00:00.000000Z\n"
     ]
    },
    {
     "name": "stderr",
     "output_type": "stream",
     "text": [
      " WARNING (norm_resp): computed and reported sensitivities differ by more than 5 percent. \n",
      "\t Execution continuing.\n"
     ]
    },
    {
     "name": "stdout",
     "output_type": "stream",
     "text": [
      "Processing from date:  2022-03-26T00:00:00.000000Z\n"
     ]
    },
    {
     "name": "stderr",
     "output_type": "stream",
     "text": [
      " WARNING (norm_resp): computed and reported sensitivities differ by more than 5 percent. \n",
      "\t Execution continuing.\n"
     ]
    },
    {
     "name": "stdout",
     "output_type": "stream",
     "text": [
      "Processing from date:  2022-03-27T00:00:00.000000Z\n"
     ]
    },
    {
     "name": "stderr",
     "output_type": "stream",
     "text": [
      " WARNING (norm_resp): computed and reported sensitivities differ by more than 5 percent. \n",
      "\t Execution continuing.\n"
     ]
    },
    {
     "name": "stdout",
     "output_type": "stream",
     "text": [
      "Processing from date:  2022-03-28T00:00:00.000000Z\n"
     ]
    },
    {
     "name": "stderr",
     "output_type": "stream",
     "text": [
      " WARNING (norm_resp): computed and reported sensitivities differ by more than 5 percent. \n",
      "\t Execution continuing.\n"
     ]
    },
    {
     "name": "stdout",
     "output_type": "stream",
     "text": [
      "Processing from date:  2022-03-29T00:00:00.000000Z\n"
     ]
    },
    {
     "name": "stderr",
     "output_type": "stream",
     "text": [
      " WARNING (norm_resp): computed and reported sensitivities differ by more than 5 percent. \n",
      "\t Execution continuing.\n"
     ]
    },
    {
     "name": "stdout",
     "output_type": "stream",
     "text": [
      "Processing from date:  2022-03-30T00:00:00.000000Z\n"
     ]
    },
    {
     "name": "stderr",
     "output_type": "stream",
     "text": [
      " WARNING (norm_resp): computed and reported sensitivities differ by more than 5 percent. \n",
      "\t Execution continuing.\n"
     ]
    },
    {
     "name": "stdout",
     "output_type": "stream",
     "text": [
      "Processing from date:  2022-03-31T00:00:00.000000Z\n"
     ]
    },
    {
     "name": "stderr",
     "output_type": "stream",
     "text": [
      " WARNING (norm_resp): computed and reported sensitivities differ by more than 5 percent. \n",
      "\t Execution continuing.\n"
     ]
    },
    {
     "name": "stdout",
     "output_type": "stream",
     "text": [
      "Processing from date:  2022-04-01T00:00:00.000000Z\n"
     ]
    },
    {
     "name": "stderr",
     "output_type": "stream",
     "text": [
      " WARNING (norm_resp): computed and reported sensitivities differ by more than 5 percent. \n",
      "\t Execution continuing.\n"
     ]
    },
    {
     "name": "stdout",
     "output_type": "stream",
     "text": [
      "Processing from date:  2022-04-02T00:00:00.000000Z\n"
     ]
    },
    {
     "name": "stderr",
     "output_type": "stream",
     "text": [
      " WARNING (norm_resp): computed and reported sensitivities differ by more than 5 percent. \n",
      "\t Execution continuing.\n"
     ]
    },
    {
     "name": "stdout",
     "output_type": "stream",
     "text": [
      "Processing from date:  2022-04-03T00:00:00.000000Z\n"
     ]
    },
    {
     "name": "stderr",
     "output_type": "stream",
     "text": [
      " WARNING (norm_resp): computed and reported sensitivities differ by more than 5 percent. \n",
      "\t Execution continuing.\n"
     ]
    },
    {
     "name": "stdout",
     "output_type": "stream",
     "text": [
      "Processing from date:  2022-04-04T00:00:00.000000Z\n"
     ]
    },
    {
     "name": "stderr",
     "output_type": "stream",
     "text": [
      " WARNING (norm_resp): computed and reported sensitivities differ by more than 5 percent. \n",
      "\t Execution continuing.\n"
     ]
    },
    {
     "name": "stdout",
     "output_type": "stream",
     "text": [
      "Processing from date:  2022-04-05T00:00:00.000000Z\n"
     ]
    },
    {
     "name": "stderr",
     "output_type": "stream",
     "text": [
      " WARNING (norm_resp): computed and reported sensitivities differ by more than 5 percent. \n",
      "\t Execution continuing.\n"
     ]
    },
    {
     "name": "stdout",
     "output_type": "stream",
     "text": [
      "Processing from date:  2022-04-06T00:00:00.000000Z\n"
     ]
    },
    {
     "name": "stderr",
     "output_type": "stream",
     "text": [
      " WARNING (norm_resp): computed and reported sensitivities differ by more than 5 percent. \n",
      "\t Execution continuing.\n"
     ]
    },
    {
     "name": "stdout",
     "output_type": "stream",
     "text": [
      "Processing from date:  2022-04-07T00:00:00.000000Z\n"
     ]
    },
    {
     "name": "stderr",
     "output_type": "stream",
     "text": [
      " WARNING (norm_resp): computed and reported sensitivities differ by more than 5 percent. \n",
      "\t Execution continuing.\n"
     ]
    },
    {
     "name": "stdout",
     "output_type": "stream",
     "text": [
      "Processing from date:  2022-04-08T00:00:00.000000Z\n"
     ]
    },
    {
     "name": "stderr",
     "output_type": "stream",
     "text": [
      " WARNING (norm_resp): computed and reported sensitivities differ by more than 5 percent. \n",
      "\t Execution continuing.\n"
     ]
    },
    {
     "name": "stdout",
     "output_type": "stream",
     "text": [
      "Processing from date:  2022-04-09T00:00:00.000000Z\n"
     ]
    },
    {
     "name": "stderr",
     "output_type": "stream",
     "text": [
      " WARNING (norm_resp): computed and reported sensitivities differ by more than 5 percent. \n",
      "\t Execution continuing.\n"
     ]
    },
    {
     "name": "stdout",
     "output_type": "stream",
     "text": [
      "Processing from date:  2022-04-10T00:00:00.000000Z\n"
     ]
    },
    {
     "name": "stderr",
     "output_type": "stream",
     "text": [
      " WARNING (norm_resp): computed and reported sensitivities differ by more than 5 percent. \n",
      "\t Execution continuing.\n"
     ]
    },
    {
     "name": "stdout",
     "output_type": "stream",
     "text": [
      "Processing from date:  2022-04-11T00:00:00.000000Z\n"
     ]
    },
    {
     "name": "stderr",
     "output_type": "stream",
     "text": [
      " WARNING (norm_resp): computed and reported sensitivities differ by more than 5 percent. \n",
      "\t Execution continuing.\n"
     ]
    },
    {
     "name": "stdout",
     "output_type": "stream",
     "text": [
      "Processing from date:  2022-04-12T00:00:00.000000Z\n"
     ]
    },
    {
     "name": "stderr",
     "output_type": "stream",
     "text": [
      " WARNING (norm_resp): computed and reported sensitivities differ by more than 5 percent. \n",
      "\t Execution continuing.\n"
     ]
    },
    {
     "name": "stdout",
     "output_type": "stream",
     "text": [
      "Processing from date:  2022-04-13T00:00:00.000000Z\n"
     ]
    },
    {
     "name": "stderr",
     "output_type": "stream",
     "text": [
      " WARNING (norm_resp): computed and reported sensitivities differ by more than 5 percent. \n",
      "\t Execution continuing.\n"
     ]
    },
    {
     "name": "stdout",
     "output_type": "stream",
     "text": [
      "Processing from date:  2022-04-14T00:00:00.000000Z\n"
     ]
    },
    {
     "name": "stderr",
     "output_type": "stream",
     "text": [
      " WARNING (norm_resp): computed and reported sensitivities differ by more than 5 percent. \n",
      "\t Execution continuing.\n"
     ]
    },
    {
     "name": "stdout",
     "output_type": "stream",
     "text": [
      "Processing from date:  2022-04-15T00:00:00.000000Z\n"
     ]
    },
    {
     "name": "stderr",
     "output_type": "stream",
     "text": [
      " WARNING (norm_resp): computed and reported sensitivities differ by more than 5 percent. \n",
      "\t Execution continuing.\n"
     ]
    },
    {
     "name": "stdout",
     "output_type": "stream",
     "text": [
      "Processing from date:  2022-04-16T00:00:00.000000Z\n"
     ]
    },
    {
     "name": "stderr",
     "output_type": "stream",
     "text": [
      " WARNING (norm_resp): computed and reported sensitivities differ by more than 5 percent. \n",
      "\t Execution continuing.\n"
     ]
    },
    {
     "name": "stdout",
     "output_type": "stream",
     "text": [
      "Processing from date:  2022-04-17T00:00:00.000000Z\n"
     ]
    },
    {
     "name": "stderr",
     "output_type": "stream",
     "text": [
      " WARNING (norm_resp): computed and reported sensitivities differ by more than 5 percent. \n",
      "\t Execution continuing.\n"
     ]
    },
    {
     "name": "stdout",
     "output_type": "stream",
     "text": [
      "Processing from date:  2022-04-18T00:00:00.000000Z\n"
     ]
    },
    {
     "name": "stderr",
     "output_type": "stream",
     "text": [
      " WARNING (norm_resp): computed and reported sensitivities differ by more than 5 percent. \n",
      "\t Execution continuing.\n"
     ]
    },
    {
     "name": "stdout",
     "output_type": "stream",
     "text": [
      "Processing from date:  2022-04-19T00:00:00.000000Z\n"
     ]
    },
    {
     "name": "stderr",
     "output_type": "stream",
     "text": [
      " WARNING (norm_resp): computed and reported sensitivities differ by more than 5 percent. \n",
      "\t Execution continuing.\n"
     ]
    },
    {
     "name": "stdout",
     "output_type": "stream",
     "text": [
      "Processing from date:  2022-04-20T00:00:00.000000Z\n"
     ]
    },
    {
     "name": "stderr",
     "output_type": "stream",
     "text": [
      " WARNING (norm_resp): computed and reported sensitivities differ by more than 5 percent. \n",
      "\t Execution continuing.\n"
     ]
    },
    {
     "name": "stdout",
     "output_type": "stream",
     "text": [
      "Processing from date:  2022-04-21T00:00:00.000000Z\n"
     ]
    },
    {
     "name": "stderr",
     "output_type": "stream",
     "text": [
      " WARNING (norm_resp): computed and reported sensitivities differ by more than 5 percent. \n",
      "\t Execution continuing.\n"
     ]
    },
    {
     "name": "stdout",
     "output_type": "stream",
     "text": [
      "Processing from date:  2022-04-22T00:00:00.000000Z\n"
     ]
    },
    {
     "name": "stderr",
     "output_type": "stream",
     "text": [
      " WARNING (norm_resp): computed and reported sensitivities differ by more than 5 percent. \n",
      "\t Execution continuing.\n"
     ]
    },
    {
     "name": "stdout",
     "output_type": "stream",
     "text": [
      "Processing from date:  2022-04-23T00:00:00.000000Z\n"
     ]
    },
    {
     "name": "stderr",
     "output_type": "stream",
     "text": [
      " WARNING (norm_resp): computed and reported sensitivities differ by more than 5 percent. \n",
      "\t Execution continuing.\n"
     ]
    },
    {
     "name": "stdout",
     "output_type": "stream",
     "text": [
      "Processing from date:  2022-04-24T00:00:00.000000Z\n"
     ]
    },
    {
     "name": "stderr",
     "output_type": "stream",
     "text": [
      " WARNING (norm_resp): computed and reported sensitivities differ by more than 5 percent. \n",
      "\t Execution continuing.\n"
     ]
    },
    {
     "name": "stdout",
     "output_type": "stream",
     "text": [
      "Processing from date:  2022-04-25T00:00:00.000000Z\n"
     ]
    },
    {
     "name": "stderr",
     "output_type": "stream",
     "text": [
      " WARNING (norm_resp): computed and reported sensitivities differ by more than 5 percent. \n",
      "\t Execution continuing.\n"
     ]
    },
    {
     "name": "stdout",
     "output_type": "stream",
     "text": [
      "Processing from date:  2022-04-26T00:00:00.000000Z\n"
     ]
    },
    {
     "name": "stderr",
     "output_type": "stream",
     "text": [
      " WARNING (norm_resp): computed and reported sensitivities differ by more than 5 percent. \n",
      "\t Execution continuing.\n"
     ]
    },
    {
     "name": "stdout",
     "output_type": "stream",
     "text": [
      "Processing from date:  2022-04-27T00:00:00.000000Z\n"
     ]
    },
    {
     "name": "stderr",
     "output_type": "stream",
     "text": [
      " WARNING (norm_resp): computed and reported sensitivities differ by more than 5 percent. \n",
      "\t Execution continuing.\n"
     ]
    },
    {
     "name": "stdout",
     "output_type": "stream",
     "text": [
      "Processing from date:  2022-04-28T00:00:00.000000Z\n"
     ]
    },
    {
     "name": "stderr",
     "output_type": "stream",
     "text": [
      " WARNING (norm_resp): computed and reported sensitivities differ by more than 5 percent. \n",
      "\t Execution continuing.\n"
     ]
    },
    {
     "name": "stdout",
     "output_type": "stream",
     "text": [
      "Processing from date:  2022-04-29T00:00:00.000000Z\n"
     ]
    },
    {
     "name": "stderr",
     "output_type": "stream",
     "text": [
      " WARNING (norm_resp): computed and reported sensitivities differ by more than 5 percent. \n",
      "\t Execution continuing.\n"
     ]
    },
    {
     "name": "stdout",
     "output_type": "stream",
     "text": [
      "Processing from date:  2022-04-30T00:00:00.000000Z\n"
     ]
    },
    {
     "name": "stderr",
     "output_type": "stream",
     "text": [
      " WARNING (norm_resp): computed and reported sensitivities differ by more than 5 percent. \n",
      "\t Execution continuing.\n"
     ]
    },
    {
     "name": "stdout",
     "output_type": "stream",
     "text": [
      "Processing from date:  2022-05-01T00:00:00.000000Z\n"
     ]
    },
    {
     "name": "stderr",
     "output_type": "stream",
     "text": [
      " WARNING (norm_resp): computed and reported sensitivities differ by more than 5 percent. \n",
      "\t Execution continuing.\n"
     ]
    },
    {
     "name": "stdout",
     "output_type": "stream",
     "text": [
      "Processing from date:  2022-05-02T00:00:00.000000Z\n"
     ]
    },
    {
     "name": "stderr",
     "output_type": "stream",
     "text": [
      " WARNING (norm_resp): computed and reported sensitivities differ by more than 5 percent. \n",
      "\t Execution continuing.\n"
     ]
    },
    {
     "name": "stdout",
     "output_type": "stream",
     "text": [
      "Processing from date:  2022-05-03T00:00:00.000000Z\n"
     ]
    },
    {
     "name": "stderr",
     "output_type": "stream",
     "text": [
      " WARNING (norm_resp): computed and reported sensitivities differ by more than 5 percent. \n",
      "\t Execution continuing.\n"
     ]
    },
    {
     "name": "stdout",
     "output_type": "stream",
     "text": [
      "Processing from date:  2022-05-04T00:00:00.000000Z\n"
     ]
    },
    {
     "name": "stderr",
     "output_type": "stream",
     "text": [
      " WARNING (norm_resp): computed and reported sensitivities differ by more than 5 percent. \n",
      "\t Execution continuing.\n"
     ]
    },
    {
     "name": "stdout",
     "output_type": "stream",
     "text": [
      "Processing from date:  2022-05-05T00:00:00.000000Z\n"
     ]
    },
    {
     "name": "stderr",
     "output_type": "stream",
     "text": [
      " WARNING (norm_resp): computed and reported sensitivities differ by more than 5 percent. \n",
      "\t Execution continuing.\n"
     ]
    },
    {
     "name": "stdout",
     "output_type": "stream",
     "text": [
      "Processing from date:  2022-05-06T00:00:00.000000Z\n"
     ]
    },
    {
     "name": "stderr",
     "output_type": "stream",
     "text": [
      " WARNING (norm_resp): computed and reported sensitivities differ by more than 5 percent. \n",
      "\t Execution continuing.\n"
     ]
    },
    {
     "name": "stdout",
     "output_type": "stream",
     "text": [
      "Processing from date:  2022-05-07T00:00:00.000000Z\n"
     ]
    },
    {
     "name": "stderr",
     "output_type": "stream",
     "text": [
      " WARNING (norm_resp): computed and reported sensitivities differ by more than 5 percent. \n",
      "\t Execution continuing.\n"
     ]
    },
    {
     "name": "stdout",
     "output_type": "stream",
     "text": [
      "Processing from date:  2022-05-08T00:00:00.000000Z\n"
     ]
    },
    {
     "name": "stderr",
     "output_type": "stream",
     "text": [
      " WARNING (norm_resp): computed and reported sensitivities differ by more than 5 percent. \n",
      "\t Execution continuing.\n"
     ]
    },
    {
     "name": "stdout",
     "output_type": "stream",
     "text": [
      "Processing from date:  2022-05-09T00:00:00.000000Z\n"
     ]
    },
    {
     "name": "stderr",
     "output_type": "stream",
     "text": [
      " WARNING (norm_resp): computed and reported sensitivities differ by more than 5 percent. \n",
      "\t Execution continuing.\n"
     ]
    },
    {
     "name": "stdout",
     "output_type": "stream",
     "text": [
      "Processing from date:  2022-05-10T00:00:00.000000Z\n"
     ]
    },
    {
     "name": "stderr",
     "output_type": "stream",
     "text": [
      " WARNING (norm_resp): computed and reported sensitivities differ by more than 5 percent. \n",
      "\t Execution continuing.\n"
     ]
    },
    {
     "name": "stdout",
     "output_type": "stream",
     "text": [
      "Processing from date:  2022-05-11T00:00:00.000000Z\n"
     ]
    },
    {
     "name": "stderr",
     "output_type": "stream",
     "text": [
      " WARNING (norm_resp): computed and reported sensitivities differ by more than 5 percent. \n",
      "\t Execution continuing.\n"
     ]
    },
    {
     "name": "stdout",
     "output_type": "stream",
     "text": [
      "Processing from date:  2022-05-12T00:00:00.000000Z\n"
     ]
    },
    {
     "name": "stderr",
     "output_type": "stream",
     "text": [
      " WARNING (norm_resp): computed and reported sensitivities differ by more than 5 percent. \n",
      "\t Execution continuing.\n"
     ]
    },
    {
     "name": "stdout",
     "output_type": "stream",
     "text": [
      "Processing from date:  2022-05-13T00:00:00.000000Z\n"
     ]
    },
    {
     "name": "stderr",
     "output_type": "stream",
     "text": [
      " WARNING (norm_resp): computed and reported sensitivities differ by more than 5 percent. \n",
      "\t Execution continuing.\n"
     ]
    },
    {
     "name": "stdout",
     "output_type": "stream",
     "text": [
      "Processing from date:  2022-05-14T00:00:00.000000Z\n"
     ]
    },
    {
     "name": "stderr",
     "output_type": "stream",
     "text": [
      " WARNING (norm_resp): computed and reported sensitivities differ by more than 5 percent. \n",
      "\t Execution continuing.\n"
     ]
    },
    {
     "name": "stdout",
     "output_type": "stream",
     "text": [
      "Processing from date:  2022-05-15T00:00:00.000000Z\n"
     ]
    },
    {
     "name": "stderr",
     "output_type": "stream",
     "text": [
      " WARNING (norm_resp): computed and reported sensitivities differ by more than 5 percent. \n",
      "\t Execution continuing.\n"
     ]
    },
    {
     "name": "stdout",
     "output_type": "stream",
     "text": [
      "Processing from date:  2022-05-16T00:00:00.000000Z\n"
     ]
    },
    {
     "name": "stderr",
     "output_type": "stream",
     "text": [
      " WARNING (norm_resp): computed and reported sensitivities differ by more than 5 percent. \n",
      "\t Execution continuing.\n"
     ]
    },
    {
     "name": "stdout",
     "output_type": "stream",
     "text": [
      "Processing from date:  2022-05-17T00:00:00.000000Z\n"
     ]
    },
    {
     "name": "stderr",
     "output_type": "stream",
     "text": [
      " WARNING (norm_resp): computed and reported sensitivities differ by more than 5 percent. \n",
      "\t Execution continuing.\n"
     ]
    },
    {
     "name": "stdout",
     "output_type": "stream",
     "text": [
      "Processing from date:  2022-05-18T00:00:00.000000Z\n"
     ]
    },
    {
     "name": "stderr",
     "output_type": "stream",
     "text": [
      " WARNING (norm_resp): computed and reported sensitivities differ by more than 5 percent. \n",
      "\t Execution continuing.\n"
     ]
    },
    {
     "name": "stdout",
     "output_type": "stream",
     "text": [
      "Processing from date:  2022-05-19T00:00:00.000000Z\n"
     ]
    },
    {
     "name": "stderr",
     "output_type": "stream",
     "text": [
      " WARNING (norm_resp): computed and reported sensitivities differ by more than 5 percent. \n",
      "\t Execution continuing.\n"
     ]
    },
    {
     "name": "stdout",
     "output_type": "stream",
     "text": [
      "Processing from date:  2022-05-20T00:00:00.000000Z\n"
     ]
    },
    {
     "name": "stderr",
     "output_type": "stream",
     "text": [
      " WARNING (norm_resp): computed and reported sensitivities differ by more than 5 percent. \n",
      "\t Execution continuing.\n"
     ]
    },
    {
     "name": "stdout",
     "output_type": "stream",
     "text": [
      "Processing from date:  2022-05-21T00:00:00.000000Z\n"
     ]
    },
    {
     "name": "stderr",
     "output_type": "stream",
     "text": [
      " WARNING (norm_resp): computed and reported sensitivities differ by more than 5 percent. \n",
      "\t Execution continuing.\n"
     ]
    },
    {
     "name": "stdout",
     "output_type": "stream",
     "text": [
      "Processing from date:  2022-05-22T00:00:00.000000Z\n"
     ]
    },
    {
     "name": "stderr",
     "output_type": "stream",
     "text": [
      " WARNING (norm_resp): computed and reported sensitivities differ by more than 5 percent. \n",
      "\t Execution continuing.\n"
     ]
    },
    {
     "name": "stdout",
     "output_type": "stream",
     "text": [
      "Processing from date:  2022-05-23T00:00:00.000000Z\n"
     ]
    },
    {
     "name": "stderr",
     "output_type": "stream",
     "text": [
      " WARNING (norm_resp): computed and reported sensitivities differ by more than 5 percent. \n",
      "\t Execution continuing.\n"
     ]
    },
    {
     "name": "stdout",
     "output_type": "stream",
     "text": [
      "Processing from date:  2022-05-24T00:00:00.000000Z\n"
     ]
    },
    {
     "name": "stderr",
     "output_type": "stream",
     "text": [
      " WARNING (norm_resp): computed and reported sensitivities differ by more than 5 percent. \n",
      "\t Execution continuing.\n"
     ]
    },
    {
     "name": "stdout",
     "output_type": "stream",
     "text": [
      "Processing from date:  2022-05-25T00:00:00.000000Z\n"
     ]
    },
    {
     "name": "stderr",
     "output_type": "stream",
     "text": [
      " WARNING (norm_resp): computed and reported sensitivities differ by more than 5 percent. \n",
      "\t Execution continuing.\n"
     ]
    },
    {
     "name": "stdout",
     "output_type": "stream",
     "text": [
      "Processing from date:  2022-05-26T00:00:00.000000Z\n"
     ]
    },
    {
     "name": "stderr",
     "output_type": "stream",
     "text": [
      " WARNING (norm_resp): computed and reported sensitivities differ by more than 5 percent. \n",
      "\t Execution continuing.\n"
     ]
    },
    {
     "name": "stdout",
     "output_type": "stream",
     "text": [
      "Processing from date:  2022-05-27T00:00:00.000000Z\n"
     ]
    },
    {
     "name": "stderr",
     "output_type": "stream",
     "text": [
      " WARNING (norm_resp): computed and reported sensitivities differ by more than 5 percent. \n",
      "\t Execution continuing.\n"
     ]
    },
    {
     "name": "stdout",
     "output_type": "stream",
     "text": [
      "Processing from date:  2022-05-28T00:00:00.000000Z\n"
     ]
    },
    {
     "name": "stderr",
     "output_type": "stream",
     "text": [
      " WARNING (norm_resp): computed and reported sensitivities differ by more than 5 percent. \n",
      "\t Execution continuing.\n"
     ]
    },
    {
     "name": "stdout",
     "output_type": "stream",
     "text": [
      "Processing from date:  2022-05-29T00:00:00.000000Z\n"
     ]
    },
    {
     "name": "stderr",
     "output_type": "stream",
     "text": [
      " WARNING (norm_resp): computed and reported sensitivities differ by more than 5 percent. \n",
      "\t Execution continuing.\n"
     ]
    },
    {
     "name": "stdout",
     "output_type": "stream",
     "text": [
      "Processing from date:  2022-05-30T00:00:00.000000Z\n"
     ]
    },
    {
     "name": "stderr",
     "output_type": "stream",
     "text": [
      " WARNING (norm_resp): computed and reported sensitivities differ by more than 5 percent. \n",
      "\t Execution continuing.\n"
     ]
    },
    {
     "name": "stdout",
     "output_type": "stream",
     "text": [
      "Processing from date:  2022-05-31T00:00:00.000000Z\n"
     ]
    },
    {
     "name": "stderr",
     "output_type": "stream",
     "text": [
      " WARNING (norm_resp): computed and reported sensitivities differ by more than 5 percent. \n",
      "\t Execution continuing.\n"
     ]
    },
    {
     "name": "stdout",
     "output_type": "stream",
     "text": [
      "Processing from date:  2022-06-01T00:00:00.000000Z\n"
     ]
    },
    {
     "name": "stderr",
     "output_type": "stream",
     "text": [
      " WARNING (norm_resp): computed and reported sensitivities differ by more than 5 percent. \n",
      "\t Execution continuing.\n"
     ]
    },
    {
     "name": "stdout",
     "output_type": "stream",
     "text": [
      "Processing from date:  2022-06-02T00:00:00.000000Z\n"
     ]
    },
    {
     "name": "stderr",
     "output_type": "stream",
     "text": [
      " WARNING (norm_resp): computed and reported sensitivities differ by more than 5 percent. \n",
      "\t Execution continuing.\n"
     ]
    },
    {
     "name": "stdout",
     "output_type": "stream",
     "text": [
      "Processing from date:  2022-06-03T00:00:00.000000Z\n"
     ]
    },
    {
     "name": "stderr",
     "output_type": "stream",
     "text": [
      " WARNING (norm_resp): computed and reported sensitivities differ by more than 5 percent. \n",
      "\t Execution continuing.\n"
     ]
    },
    {
     "name": "stdout",
     "output_type": "stream",
     "text": [
      "Processing from date:  2022-06-04T00:00:00.000000Z\n"
     ]
    },
    {
     "name": "stderr",
     "output_type": "stream",
     "text": [
      " WARNING (norm_resp): computed and reported sensitivities differ by more than 5 percent. \n",
      "\t Execution continuing.\n"
     ]
    },
    {
     "name": "stdout",
     "output_type": "stream",
     "text": [
      "Processing from date:  2022-06-05T00:00:00.000000Z\n"
     ]
    },
    {
     "name": "stderr",
     "output_type": "stream",
     "text": [
      " WARNING (norm_resp): computed and reported sensitivities differ by more than 5 percent. \n",
      "\t Execution continuing.\n"
     ]
    },
    {
     "name": "stdout",
     "output_type": "stream",
     "text": [
      "Processing from date:  2022-06-06T00:00:00.000000Z\n"
     ]
    },
    {
     "name": "stderr",
     "output_type": "stream",
     "text": [
      " WARNING (norm_resp): computed and reported sensitivities differ by more than 5 percent. \n",
      "\t Execution continuing.\n"
     ]
    },
    {
     "name": "stdout",
     "output_type": "stream",
     "text": [
      "Processing from date:  2022-06-07T00:00:00.000000Z\n"
     ]
    },
    {
     "name": "stderr",
     "output_type": "stream",
     "text": [
      " WARNING (norm_resp): computed and reported sensitivities differ by more than 5 percent. \n",
      "\t Execution continuing.\n"
     ]
    },
    {
     "name": "stdout",
     "output_type": "stream",
     "text": [
      "Processing from date:  2022-06-08T00:00:00.000000Z\n"
     ]
    },
    {
     "name": "stderr",
     "output_type": "stream",
     "text": [
      " WARNING (norm_resp): computed and reported sensitivities differ by more than 5 percent. \n",
      "\t Execution continuing.\n"
     ]
    },
    {
     "name": "stdout",
     "output_type": "stream",
     "text": [
      "Processing from date:  2022-06-09T00:00:00.000000Z\n"
     ]
    },
    {
     "name": "stderr",
     "output_type": "stream",
     "text": [
      " WARNING (norm_resp): computed and reported sensitivities differ by more than 5 percent. \n",
      "\t Execution continuing.\n"
     ]
    },
    {
     "name": "stdout",
     "output_type": "stream",
     "text": [
      "Processing from date:  2022-06-10T00:00:00.000000Z\n"
     ]
    },
    {
     "name": "stderr",
     "output_type": "stream",
     "text": [
      " WARNING (norm_resp): computed and reported sensitivities differ by more than 5 percent. \n",
      "\t Execution continuing.\n"
     ]
    },
    {
     "name": "stdout",
     "output_type": "stream",
     "text": [
      "Processing from date:  2022-06-11T00:00:00.000000Z\n"
     ]
    },
    {
     "name": "stderr",
     "output_type": "stream",
     "text": [
      " WARNING (norm_resp): computed and reported sensitivities differ by more than 5 percent. \n",
      "\t Execution continuing.\n"
     ]
    },
    {
     "name": "stdout",
     "output_type": "stream",
     "text": [
      "Processing from date:  2022-06-12T00:00:00.000000Z\n"
     ]
    },
    {
     "name": "stderr",
     "output_type": "stream",
     "text": [
      " WARNING (norm_resp): computed and reported sensitivities differ by more than 5 percent. \n",
      "\t Execution continuing.\n"
     ]
    },
    {
     "name": "stdout",
     "output_type": "stream",
     "text": [
      "Processing from date:  2022-06-13T00:00:00.000000Z\n"
     ]
    },
    {
     "name": "stderr",
     "output_type": "stream",
     "text": [
      " WARNING (norm_resp): computed and reported sensitivities differ by more than 5 percent. \n",
      "\t Execution continuing.\n"
     ]
    },
    {
     "name": "stdout",
     "output_type": "stream",
     "text": [
      "Processing from date:  2022-06-14T00:00:00.000000Z\n"
     ]
    },
    {
     "name": "stderr",
     "output_type": "stream",
     "text": [
      " WARNING (norm_resp): computed and reported sensitivities differ by more than 5 percent. \n",
      "\t Execution continuing.\n"
     ]
    },
    {
     "name": "stdout",
     "output_type": "stream",
     "text": [
      "Processing from date:  2022-06-15T00:00:00.000000Z\n"
     ]
    },
    {
     "name": "stderr",
     "output_type": "stream",
     "text": [
      " WARNING (norm_resp): computed and reported sensitivities differ by more than 5 percent. \n",
      "\t Execution continuing.\n"
     ]
    },
    {
     "name": "stdout",
     "output_type": "stream",
     "text": [
      "Processing from date:  2022-06-16T00:00:00.000000Z\n"
     ]
    },
    {
     "name": "stderr",
     "output_type": "stream",
     "text": [
      " WARNING (norm_resp): computed and reported sensitivities differ by more than 5 percent. \n",
      "\t Execution continuing.\n"
     ]
    },
    {
     "name": "stdout",
     "output_type": "stream",
     "text": [
      "Processing from date:  2022-06-17T00:00:00.000000Z\n"
     ]
    },
    {
     "name": "stderr",
     "output_type": "stream",
     "text": [
      " WARNING (norm_resp): computed and reported sensitivities differ by more than 5 percent. \n",
      "\t Execution continuing.\n"
     ]
    },
    {
     "name": "stdout",
     "output_type": "stream",
     "text": [
      "Processing from date:  2022-06-18T00:00:00.000000Z\n"
     ]
    },
    {
     "name": "stderr",
     "output_type": "stream",
     "text": [
      " WARNING (norm_resp): computed and reported sensitivities differ by more than 5 percent. \n",
      "\t Execution continuing.\n"
     ]
    },
    {
     "name": "stdout",
     "output_type": "stream",
     "text": [
      "Processing from date:  2022-06-19T00:00:00.000000Z\n"
     ]
    },
    {
     "name": "stderr",
     "output_type": "stream",
     "text": [
      " WARNING (norm_resp): computed and reported sensitivities differ by more than 5 percent. \n",
      "\t Execution continuing.\n"
     ]
    },
    {
     "name": "stdout",
     "output_type": "stream",
     "text": [
      "Processing from date:  2022-06-20T00:00:00.000000Z\n"
     ]
    },
    {
     "name": "stderr",
     "output_type": "stream",
     "text": [
      " WARNING (norm_resp): computed and reported sensitivities differ by more than 5 percent. \n",
      "\t Execution continuing.\n"
     ]
    },
    {
     "name": "stdout",
     "output_type": "stream",
     "text": [
      "Processing from date:  2022-06-21T00:00:00.000000Z\n"
     ]
    },
    {
     "name": "stderr",
     "output_type": "stream",
     "text": [
      " WARNING (norm_resp): computed and reported sensitivities differ by more than 5 percent. \n",
      "\t Execution continuing.\n"
     ]
    },
    {
     "name": "stdout",
     "output_type": "stream",
     "text": [
      "Processing from date:  2022-06-22T00:00:00.000000Z\n"
     ]
    },
    {
     "name": "stderr",
     "output_type": "stream",
     "text": [
      " WARNING (norm_resp): computed and reported sensitivities differ by more than 5 percent. \n",
      "\t Execution continuing.\n"
     ]
    },
    {
     "name": "stdout",
     "output_type": "stream",
     "text": [
      "Processing from date:  2022-06-23T00:00:00.000000Z\n"
     ]
    },
    {
     "name": "stderr",
     "output_type": "stream",
     "text": [
      " WARNING (norm_resp): computed and reported sensitivities differ by more than 5 percent. \n",
      "\t Execution continuing.\n"
     ]
    },
    {
     "name": "stdout",
     "output_type": "stream",
     "text": [
      "Processing from date:  2022-06-24T00:00:00.000000Z\n"
     ]
    },
    {
     "name": "stderr",
     "output_type": "stream",
     "text": [
      " WARNING (norm_resp): computed and reported sensitivities differ by more than 5 percent. \n",
      "\t Execution continuing.\n"
     ]
    },
    {
     "name": "stdout",
     "output_type": "stream",
     "text": [
      "Processing from date:  2022-06-25T00:00:00.000000Z\n"
     ]
    },
    {
     "name": "stderr",
     "output_type": "stream",
     "text": [
      " WARNING (norm_resp): computed and reported sensitivities differ by more than 5 percent. \n",
      "\t Execution continuing.\n"
     ]
    },
    {
     "name": "stdout",
     "output_type": "stream",
     "text": [
      "Processing from date:  2022-06-26T00:00:00.000000Z\n"
     ]
    },
    {
     "name": "stderr",
     "output_type": "stream",
     "text": [
      " WARNING (norm_resp): computed and reported sensitivities differ by more than 5 percent. \n",
      "\t Execution continuing.\n"
     ]
    },
    {
     "name": "stdout",
     "output_type": "stream",
     "text": [
      "Processing from date:  2022-06-27T00:00:00.000000Z\n"
     ]
    },
    {
     "name": "stderr",
     "output_type": "stream",
     "text": [
      " WARNING (norm_resp): computed and reported sensitivities differ by more than 5 percent. \n",
      "\t Execution continuing.\n"
     ]
    },
    {
     "name": "stdout",
     "output_type": "stream",
     "text": [
      "Processing from date:  2022-06-28T00:00:00.000000Z\n"
     ]
    },
    {
     "name": "stderr",
     "output_type": "stream",
     "text": [
      " WARNING (norm_resp): computed and reported sensitivities differ by more than 5 percent. \n",
      "\t Execution continuing.\n"
     ]
    },
    {
     "name": "stdout",
     "output_type": "stream",
     "text": [
      "Processing from date:  2022-06-29T00:00:00.000000Z\n"
     ]
    },
    {
     "name": "stderr",
     "output_type": "stream",
     "text": [
      " WARNING (norm_resp): computed and reported sensitivities differ by more than 5 percent. \n",
      "\t Execution continuing.\n"
     ]
    },
    {
     "name": "stdout",
     "output_type": "stream",
     "text": [
      "Processing from date:  2022-06-30T00:00:00.000000Z\n"
     ]
    },
    {
     "name": "stderr",
     "output_type": "stream",
     "text": [
      " WARNING (norm_resp): computed and reported sensitivities differ by more than 5 percent. \n",
      "\t Execution continuing.\n"
     ]
    },
    {
     "name": "stdout",
     "output_type": "stream",
     "text": [
      "Processing from date:  2022-07-01T00:00:00.000000Z\n"
     ]
    },
    {
     "name": "stderr",
     "output_type": "stream",
     "text": [
      " WARNING (norm_resp): computed and reported sensitivities differ by more than 5 percent. \n",
      "\t Execution continuing.\n"
     ]
    },
    {
     "name": "stdout",
     "output_type": "stream",
     "text": [
      "Processing from date:  2022-07-02T00:00:00.000000Z\n"
     ]
    },
    {
     "name": "stderr",
     "output_type": "stream",
     "text": [
      " WARNING (norm_resp): computed and reported sensitivities differ by more than 5 percent. \n",
      "\t Execution continuing.\n"
     ]
    },
    {
     "name": "stdout",
     "output_type": "stream",
     "text": [
      "Processing from date:  2022-07-03T00:00:00.000000Z\n"
     ]
    },
    {
     "name": "stderr",
     "output_type": "stream",
     "text": [
      " WARNING (norm_resp): computed and reported sensitivities differ by more than 5 percent. \n",
      "\t Execution continuing.\n"
     ]
    },
    {
     "name": "stdout",
     "output_type": "stream",
     "text": [
      "Processing from date:  2022-07-04T00:00:00.000000Z\n"
     ]
    },
    {
     "name": "stderr",
     "output_type": "stream",
     "text": [
      " WARNING (norm_resp): computed and reported sensitivities differ by more than 5 percent. \n",
      "\t Execution continuing.\n"
     ]
    },
    {
     "name": "stdout",
     "output_type": "stream",
     "text": [
      "Processing from date:  2022-07-05T00:00:00.000000Z\n"
     ]
    },
    {
     "name": "stderr",
     "output_type": "stream",
     "text": [
      " WARNING (norm_resp): computed and reported sensitivities differ by more than 5 percent. \n",
      "\t Execution continuing.\n"
     ]
    },
    {
     "name": "stdout",
     "output_type": "stream",
     "text": [
      "Processing from date:  2022-07-06T00:00:00.000000Z\n"
     ]
    },
    {
     "name": "stderr",
     "output_type": "stream",
     "text": [
      " WARNING (norm_resp): computed and reported sensitivities differ by more than 5 percent. \n",
      "\t Execution continuing.\n"
     ]
    },
    {
     "name": "stdout",
     "output_type": "stream",
     "text": [
      "Processing from date:  2022-07-07T00:00:00.000000Z\n"
     ]
    },
    {
     "name": "stderr",
     "output_type": "stream",
     "text": [
      " WARNING (norm_resp): computed and reported sensitivities differ by more than 5 percent. \n",
      "\t Execution continuing.\n"
     ]
    },
    {
     "name": "stdout",
     "output_type": "stream",
     "text": [
      "Processing from date:  2022-07-08T00:00:00.000000Z\n"
     ]
    },
    {
     "name": "stderr",
     "output_type": "stream",
     "text": [
      " WARNING (norm_resp): computed and reported sensitivities differ by more than 5 percent. \n",
      "\t Execution continuing.\n"
     ]
    },
    {
     "name": "stdout",
     "output_type": "stream",
     "text": [
      "Processing from date:  2022-07-09T00:00:00.000000Z\n"
     ]
    },
    {
     "name": "stderr",
     "output_type": "stream",
     "text": [
      " WARNING (norm_resp): computed and reported sensitivities differ by more than 5 percent. \n",
      "\t Execution continuing.\n"
     ]
    },
    {
     "name": "stdout",
     "output_type": "stream",
     "text": [
      "Processing from date:  2022-07-10T00:00:00.000000Z\n"
     ]
    },
    {
     "name": "stderr",
     "output_type": "stream",
     "text": [
      " WARNING (norm_resp): computed and reported sensitivities differ by more than 5 percent. \n",
      "\t Execution continuing.\n"
     ]
    },
    {
     "name": "stdout",
     "output_type": "stream",
     "text": [
      "Processing from date:  2022-07-11T00:00:00.000000Z\n"
     ]
    },
    {
     "name": "stderr",
     "output_type": "stream",
     "text": [
      " WARNING (norm_resp): computed and reported sensitivities differ by more than 5 percent. \n",
      "\t Execution continuing.\n"
     ]
    },
    {
     "name": "stdout",
     "output_type": "stream",
     "text": [
      "Processing from date:  2022-07-12T00:00:00.000000Z\n"
     ]
    },
    {
     "name": "stderr",
     "output_type": "stream",
     "text": [
      " WARNING (norm_resp): computed and reported sensitivities differ by more than 5 percent. \n",
      "\t Execution continuing.\n"
     ]
    },
    {
     "name": "stdout",
     "output_type": "stream",
     "text": [
      "Processing from date:  2022-07-13T00:00:00.000000Z\n"
     ]
    },
    {
     "name": "stderr",
     "output_type": "stream",
     "text": [
      " WARNING (norm_resp): computed and reported sensitivities differ by more than 5 percent. \n",
      "\t Execution continuing.\n"
     ]
    },
    {
     "name": "stdout",
     "output_type": "stream",
     "text": [
      "Processing from date:  2022-07-14T00:00:00.000000Z\n"
     ]
    },
    {
     "name": "stderr",
     "output_type": "stream",
     "text": [
      " WARNING (norm_resp): computed and reported sensitivities differ by more than 5 percent. \n",
      "\t Execution continuing.\n"
     ]
    },
    {
     "name": "stdout",
     "output_type": "stream",
     "text": [
      "Processing from date:  2022-07-15T00:00:00.000000Z\n"
     ]
    },
    {
     "name": "stderr",
     "output_type": "stream",
     "text": [
      " WARNING (norm_resp): computed and reported sensitivities differ by more than 5 percent. \n",
      "\t Execution continuing.\n"
     ]
    },
    {
     "name": "stdout",
     "output_type": "stream",
     "text": [
      "Processing from date:  2022-07-16T00:00:00.000000Z\n"
     ]
    },
    {
     "name": "stderr",
     "output_type": "stream",
     "text": [
      " WARNING (norm_resp): computed and reported sensitivities differ by more than 5 percent. \n",
      "\t Execution continuing.\n"
     ]
    },
    {
     "name": "stdout",
     "output_type": "stream",
     "text": [
      "Processing from date:  2022-07-17T00:00:00.000000Z\n"
     ]
    },
    {
     "name": "stderr",
     "output_type": "stream",
     "text": [
      " WARNING (norm_resp): computed and reported sensitivities differ by more than 5 percent. \n",
      "\t Execution continuing.\n"
     ]
    },
    {
     "name": "stdout",
     "output_type": "stream",
     "text": [
      "Processing from date:  2022-07-18T00:00:00.000000Z\n"
     ]
    },
    {
     "name": "stderr",
     "output_type": "stream",
     "text": [
      " WARNING (norm_resp): computed and reported sensitivities differ by more than 5 percent. \n",
      "\t Execution continuing.\n"
     ]
    },
    {
     "name": "stdout",
     "output_type": "stream",
     "text": [
      "Processing from date:  2022-07-19T00:00:00.000000Z\n"
     ]
    },
    {
     "name": "stderr",
     "output_type": "stream",
     "text": [
      " WARNING (norm_resp): computed and reported sensitivities differ by more than 5 percent. \n",
      "\t Execution continuing.\n"
     ]
    },
    {
     "name": "stdout",
     "output_type": "stream",
     "text": [
      "Processing from date:  2022-07-20T00:00:00.000000Z\n"
     ]
    },
    {
     "name": "stderr",
     "output_type": "stream",
     "text": [
      " WARNING (norm_resp): computed and reported sensitivities differ by more than 5 percent. \n",
      "\t Execution continuing.\n"
     ]
    },
    {
     "name": "stdout",
     "output_type": "stream",
     "text": [
      "Processing from date:  2022-07-21T00:00:00.000000Z\n"
     ]
    },
    {
     "name": "stderr",
     "output_type": "stream",
     "text": [
      " WARNING (norm_resp): computed and reported sensitivities differ by more than 5 percent. \n",
      "\t Execution continuing.\n"
     ]
    },
    {
     "name": "stdout",
     "output_type": "stream",
     "text": [
      "Processing from date:  2022-07-22T00:00:00.000000Z\n"
     ]
    },
    {
     "name": "stderr",
     "output_type": "stream",
     "text": [
      " WARNING (norm_resp): computed and reported sensitivities differ by more than 5 percent. \n",
      "\t Execution continuing.\n"
     ]
    },
    {
     "name": "stdout",
     "output_type": "stream",
     "text": [
      "Processing from date:  2022-07-23T00:00:00.000000Z\n"
     ]
    },
    {
     "name": "stderr",
     "output_type": "stream",
     "text": [
      " WARNING (norm_resp): computed and reported sensitivities differ by more than 5 percent. \n",
      "\t Execution continuing.\n"
     ]
    },
    {
     "name": "stdout",
     "output_type": "stream",
     "text": [
      "Processing from date:  2022-07-24T00:00:00.000000Z\n"
     ]
    },
    {
     "name": "stderr",
     "output_type": "stream",
     "text": [
      " WARNING (norm_resp): computed and reported sensitivities differ by more than 5 percent. \n",
      "\t Execution continuing.\n"
     ]
    },
    {
     "name": "stdout",
     "output_type": "stream",
     "text": [
      "Processing from date:  2022-07-25T00:00:00.000000Z\n"
     ]
    },
    {
     "name": "stderr",
     "output_type": "stream",
     "text": [
      " WARNING (norm_resp): computed and reported sensitivities differ by more than 5 percent. \n",
      "\t Execution continuing.\n"
     ]
    },
    {
     "name": "stdout",
     "output_type": "stream",
     "text": [
      "Processing from date:  2022-07-26T00:00:00.000000Z\n"
     ]
    },
    {
     "name": "stderr",
     "output_type": "stream",
     "text": [
      " WARNING (norm_resp): computed and reported sensitivities differ by more than 5 percent. \n",
      "\t Execution continuing.\n"
     ]
    },
    {
     "name": "stdout",
     "output_type": "stream",
     "text": [
      "Processing from date:  2022-07-27T00:00:00.000000Z\n"
     ]
    },
    {
     "name": "stderr",
     "output_type": "stream",
     "text": [
      " WARNING (norm_resp): computed and reported sensitivities differ by more than 5 percent. \n",
      "\t Execution continuing.\n"
     ]
    },
    {
     "name": "stdout",
     "output_type": "stream",
     "text": [
      "Processing from date:  2022-07-28T00:00:00.000000Z\n"
     ]
    },
    {
     "name": "stderr",
     "output_type": "stream",
     "text": [
      " WARNING (norm_resp): computed and reported sensitivities differ by more than 5 percent. \n",
      "\t Execution continuing.\n"
     ]
    },
    {
     "name": "stdout",
     "output_type": "stream",
     "text": [
      "Processing from date:  2022-07-29T00:00:00.000000Z\n"
     ]
    },
    {
     "name": "stderr",
     "output_type": "stream",
     "text": [
      " WARNING (norm_resp): computed and reported sensitivities differ by more than 5 percent. \n",
      "\t Execution continuing.\n"
     ]
    },
    {
     "name": "stdout",
     "output_type": "stream",
     "text": [
      "Processing from date:  2022-07-30T00:00:00.000000Z\n"
     ]
    },
    {
     "name": "stderr",
     "output_type": "stream",
     "text": [
      " WARNING (norm_resp): computed and reported sensitivities differ by more than 5 percent. \n",
      "\t Execution continuing.\n"
     ]
    },
    {
     "name": "stdout",
     "output_type": "stream",
     "text": [
      "Processing from date:  2022-07-31T00:00:00.000000Z\n"
     ]
    },
    {
     "name": "stderr",
     "output_type": "stream",
     "text": [
      " WARNING (norm_resp): computed and reported sensitivities differ by more than 5 percent. \n",
      "\t Execution continuing.\n"
     ]
    },
    {
     "name": "stdout",
     "output_type": "stream",
     "text": [
      "Processing from date:  2022-08-01T00:00:00.000000Z\n"
     ]
    },
    {
     "name": "stderr",
     "output_type": "stream",
     "text": [
      " WARNING (norm_resp): computed and reported sensitivities differ by more than 5 percent. \n",
      "\t Execution continuing.\n"
     ]
    },
    {
     "name": "stdout",
     "output_type": "stream",
     "text": [
      "Processing from date:  2022-08-02T00:00:00.000000Z\n"
     ]
    },
    {
     "name": "stderr",
     "output_type": "stream",
     "text": [
      " WARNING (norm_resp): computed and reported sensitivities differ by more than 5 percent. \n",
      "\t Execution continuing.\n"
     ]
    },
    {
     "name": "stdout",
     "output_type": "stream",
     "text": [
      "Processing from date:  2022-08-03T00:00:00.000000Z\n"
     ]
    },
    {
     "name": "stderr",
     "output_type": "stream",
     "text": [
      " WARNING (norm_resp): computed and reported sensitivities differ by more than 5 percent. \n",
      "\t Execution continuing.\n"
     ]
    },
    {
     "name": "stdout",
     "output_type": "stream",
     "text": [
      "Processing from date:  2022-08-04T00:00:00.000000Z\n"
     ]
    },
    {
     "name": "stderr",
     "output_type": "stream",
     "text": [
      " WARNING (norm_resp): computed and reported sensitivities differ by more than 5 percent. \n",
      "\t Execution continuing.\n"
     ]
    },
    {
     "name": "stdout",
     "output_type": "stream",
     "text": [
      "Processing from date:  2022-08-05T00:00:00.000000Z\n"
     ]
    },
    {
     "name": "stderr",
     "output_type": "stream",
     "text": [
      " WARNING (norm_resp): computed and reported sensitivities differ by more than 5 percent. \n",
      "\t Execution continuing.\n"
     ]
    },
    {
     "name": "stdout",
     "output_type": "stream",
     "text": [
      "Processing from date:  2022-08-06T00:00:00.000000Z\n"
     ]
    },
    {
     "name": "stderr",
     "output_type": "stream",
     "text": [
      " WARNING (norm_resp): computed and reported sensitivities differ by more than 5 percent. \n",
      "\t Execution continuing.\n"
     ]
    },
    {
     "name": "stdout",
     "output_type": "stream",
     "text": [
      "Processing from date:  2022-08-07T00:00:00.000000Z\n"
     ]
    },
    {
     "name": "stderr",
     "output_type": "stream",
     "text": [
      " WARNING (norm_resp): computed and reported sensitivities differ by more than 5 percent. \n",
      "\t Execution continuing.\n"
     ]
    },
    {
     "name": "stdout",
     "output_type": "stream",
     "text": [
      "Processing from date:  2022-08-08T00:00:00.000000Z\n"
     ]
    },
    {
     "name": "stderr",
     "output_type": "stream",
     "text": [
      " WARNING (norm_resp): computed and reported sensitivities differ by more than 5 percent. \n",
      "\t Execution continuing.\n"
     ]
    },
    {
     "name": "stdout",
     "output_type": "stream",
     "text": [
      "Processing from date:  2022-08-09T00:00:00.000000Z\n"
     ]
    },
    {
     "name": "stderr",
     "output_type": "stream",
     "text": [
      " WARNING (norm_resp): computed and reported sensitivities differ by more than 5 percent. \n",
      "\t Execution continuing.\n"
     ]
    },
    {
     "name": "stdout",
     "output_type": "stream",
     "text": [
      "Processing from date:  2022-08-10T00:00:00.000000Z\n"
     ]
    },
    {
     "name": "stderr",
     "output_type": "stream",
     "text": [
      " WARNING (norm_resp): computed and reported sensitivities differ by more than 5 percent. \n",
      "\t Execution continuing.\n"
     ]
    },
    {
     "name": "stdout",
     "output_type": "stream",
     "text": [
      "Processing from date:  2022-08-11T00:00:00.000000Z\n"
     ]
    },
    {
     "name": "stderr",
     "output_type": "stream",
     "text": [
      " WARNING (norm_resp): computed and reported sensitivities differ by more than 5 percent. \n",
      "\t Execution continuing.\n"
     ]
    },
    {
     "name": "stdout",
     "output_type": "stream",
     "text": [
      "Processing from date:  2022-08-12T00:00:00.000000Z\n"
     ]
    },
    {
     "name": "stderr",
     "output_type": "stream",
     "text": [
      " WARNING (norm_resp): computed and reported sensitivities differ by more than 5 percent. \n",
      "\t Execution continuing.\n"
     ]
    },
    {
     "name": "stdout",
     "output_type": "stream",
     "text": [
      "Processing from date:  2022-08-13T00:00:00.000000Z\n"
     ]
    },
    {
     "name": "stderr",
     "output_type": "stream",
     "text": [
      " WARNING (norm_resp): computed and reported sensitivities differ by more than 5 percent. \n",
      "\t Execution continuing.\n"
     ]
    },
    {
     "name": "stdout",
     "output_type": "stream",
     "text": [
      "Processing from date:  2022-08-14T00:00:00.000000Z\n"
     ]
    },
    {
     "name": "stderr",
     "output_type": "stream",
     "text": [
      " WARNING (norm_resp): computed and reported sensitivities differ by more than 5 percent. \n",
      "\t Execution continuing.\n"
     ]
    },
    {
     "name": "stdout",
     "output_type": "stream",
     "text": [
      "Processing from date:  2022-08-15T00:00:00.000000Z\n"
     ]
    },
    {
     "name": "stderr",
     "output_type": "stream",
     "text": [
      " WARNING (norm_resp): computed and reported sensitivities differ by more than 5 percent. \n",
      "\t Execution continuing.\n"
     ]
    },
    {
     "name": "stdout",
     "output_type": "stream",
     "text": [
      "Processing from date:  2022-08-16T00:00:00.000000Z\n"
     ]
    },
    {
     "name": "stderr",
     "output_type": "stream",
     "text": [
      " WARNING (norm_resp): computed and reported sensitivities differ by more than 5 percent. \n",
      "\t Execution continuing.\n"
     ]
    },
    {
     "name": "stdout",
     "output_type": "stream",
     "text": [
      "Processing from date:  2022-08-17T00:00:00.000000Z\n"
     ]
    },
    {
     "name": "stderr",
     "output_type": "stream",
     "text": [
      " WARNING (norm_resp): computed and reported sensitivities differ by more than 5 percent. \n",
      "\t Execution continuing.\n"
     ]
    },
    {
     "name": "stdout",
     "output_type": "stream",
     "text": [
      "Processing from date:  2022-08-18T00:00:00.000000Z\n"
     ]
    },
    {
     "name": "stderr",
     "output_type": "stream",
     "text": [
      " WARNING (norm_resp): computed and reported sensitivities differ by more than 5 percent. \n",
      "\t Execution continuing.\n"
     ]
    },
    {
     "name": "stdout",
     "output_type": "stream",
     "text": [
      "Processing from date:  2022-08-19T00:00:00.000000Z\n"
     ]
    },
    {
     "name": "stderr",
     "output_type": "stream",
     "text": [
      " WARNING (norm_resp): computed and reported sensitivities differ by more than 5 percent. \n",
      "\t Execution continuing.\n"
     ]
    },
    {
     "name": "stdout",
     "output_type": "stream",
     "text": [
      "Processing from date:  2022-08-20T00:00:00.000000Z\n"
     ]
    },
    {
     "name": "stderr",
     "output_type": "stream",
     "text": [
      " WARNING (norm_resp): computed and reported sensitivities differ by more than 5 percent. \n",
      "\t Execution continuing.\n"
     ]
    },
    {
     "name": "stdout",
     "output_type": "stream",
     "text": [
      "Processing from date:  2022-08-21T00:00:00.000000Z\n"
     ]
    },
    {
     "name": "stderr",
     "output_type": "stream",
     "text": [
      " WARNING (norm_resp): computed and reported sensitivities differ by more than 5 percent. \n",
      "\t Execution continuing.\n"
     ]
    },
    {
     "name": "stdout",
     "output_type": "stream",
     "text": [
      "Processing from date:  2022-08-22T00:00:00.000000Z\n"
     ]
    },
    {
     "name": "stderr",
     "output_type": "stream",
     "text": [
      " WARNING (norm_resp): computed and reported sensitivities differ by more than 5 percent. \n",
      "\t Execution continuing.\n"
     ]
    },
    {
     "name": "stdout",
     "output_type": "stream",
     "text": [
      "Processing from date:  2022-08-23T00:00:00.000000Z\n"
     ]
    },
    {
     "name": "stderr",
     "output_type": "stream",
     "text": [
      " WARNING (norm_resp): computed and reported sensitivities differ by more than 5 percent. \n",
      "\t Execution continuing.\n"
     ]
    },
    {
     "name": "stdout",
     "output_type": "stream",
     "text": [
      "Processing from date:  2022-08-24T00:00:00.000000Z\n"
     ]
    },
    {
     "name": "stderr",
     "output_type": "stream",
     "text": [
      " WARNING (norm_resp): computed and reported sensitivities differ by more than 5 percent. \n",
      "\t Execution continuing.\n"
     ]
    },
    {
     "name": "stdout",
     "output_type": "stream",
     "text": [
      "Processing from date:  2022-08-25T00:00:00.000000Z\n"
     ]
    },
    {
     "name": "stderr",
     "output_type": "stream",
     "text": [
      " WARNING (norm_resp): computed and reported sensitivities differ by more than 5 percent. \n",
      "\t Execution continuing.\n"
     ]
    },
    {
     "name": "stdout",
     "output_type": "stream",
     "text": [
      "Processing from date:  2022-08-26T00:00:00.000000Z\n"
     ]
    },
    {
     "name": "stderr",
     "output_type": "stream",
     "text": [
      " WARNING (norm_resp): computed and reported sensitivities differ by more than 5 percent. \n",
      "\t Execution continuing.\n"
     ]
    },
    {
     "name": "stdout",
     "output_type": "stream",
     "text": [
      "Processing from date:  2022-08-27T00:00:00.000000Z\n"
     ]
    },
    {
     "name": "stderr",
     "output_type": "stream",
     "text": [
      " WARNING (norm_resp): computed and reported sensitivities differ by more than 5 percent. \n",
      "\t Execution continuing.\n"
     ]
    },
    {
     "name": "stdout",
     "output_type": "stream",
     "text": [
      "Processing from date:  2022-08-28T00:00:00.000000Z\n"
     ]
    },
    {
     "name": "stderr",
     "output_type": "stream",
     "text": [
      " WARNING (norm_resp): computed and reported sensitivities differ by more than 5 percent. \n",
      "\t Execution continuing.\n"
     ]
    },
    {
     "name": "stdout",
     "output_type": "stream",
     "text": [
      "Processing from date:  2022-08-29T00:00:00.000000Z\n"
     ]
    },
    {
     "name": "stderr",
     "output_type": "stream",
     "text": [
      " WARNING (norm_resp): computed and reported sensitivities differ by more than 5 percent. \n",
      "\t Execution continuing.\n"
     ]
    },
    {
     "name": "stdout",
     "output_type": "stream",
     "text": [
      "Processing from date:  2022-08-30T00:00:00.000000Z\n"
     ]
    },
    {
     "name": "stderr",
     "output_type": "stream",
     "text": [
      " WARNING (norm_resp): computed and reported sensitivities differ by more than 5 percent. \n",
      "\t Execution continuing.\n"
     ]
    },
    {
     "name": "stdout",
     "output_type": "stream",
     "text": [
      "Processing from date:  2022-08-31T00:00:00.000000Z\n"
     ]
    },
    {
     "name": "stderr",
     "output_type": "stream",
     "text": [
      " WARNING (norm_resp): computed and reported sensitivities differ by more than 5 percent. \n",
      "\t Execution continuing.\n"
     ]
    },
    {
     "name": "stdout",
     "output_type": "stream",
     "text": [
      "Processing from date:  2022-09-01T00:00:00.000000Z\n"
     ]
    },
    {
     "name": "stderr",
     "output_type": "stream",
     "text": [
      " WARNING (norm_resp): computed and reported sensitivities differ by more than 5 percent. \n",
      "\t Execution continuing.\n"
     ]
    },
    {
     "name": "stdout",
     "output_type": "stream",
     "text": [
      "Processing from date:  2022-09-02T00:00:00.000000Z\n"
     ]
    },
    {
     "name": "stderr",
     "output_type": "stream",
     "text": [
      " WARNING (norm_resp): computed and reported sensitivities differ by more than 5 percent. \n",
      "\t Execution continuing.\n"
     ]
    },
    {
     "name": "stdout",
     "output_type": "stream",
     "text": [
      "Processing from date:  2022-09-03T00:00:00.000000Z\n"
     ]
    },
    {
     "name": "stderr",
     "output_type": "stream",
     "text": [
      " WARNING (norm_resp): computed and reported sensitivities differ by more than 5 percent. \n",
      "\t Execution continuing.\n"
     ]
    },
    {
     "name": "stdout",
     "output_type": "stream",
     "text": [
      "Processing from date:  2022-09-04T00:00:00.000000Z\n"
     ]
    },
    {
     "name": "stderr",
     "output_type": "stream",
     "text": [
      " WARNING (norm_resp): computed and reported sensitivities differ by more than 5 percent. \n",
      "\t Execution continuing.\n"
     ]
    },
    {
     "name": "stdout",
     "output_type": "stream",
     "text": [
      "Processing from date:  2022-09-05T00:00:00.000000Z\n"
     ]
    },
    {
     "name": "stderr",
     "output_type": "stream",
     "text": [
      " WARNING (norm_resp): computed and reported sensitivities differ by more than 5 percent. \n",
      "\t Execution continuing.\n"
     ]
    },
    {
     "name": "stdout",
     "output_type": "stream",
     "text": [
      "Processing from date:  2022-09-06T00:00:00.000000Z\n"
     ]
    },
    {
     "name": "stderr",
     "output_type": "stream",
     "text": [
      " WARNING (norm_resp): computed and reported sensitivities differ by more than 5 percent. \n",
      "\t Execution continuing.\n"
     ]
    },
    {
     "name": "stdout",
     "output_type": "stream",
     "text": [
      "Processing from date:  2022-09-07T00:00:00.000000Z\n"
     ]
    },
    {
     "name": "stderr",
     "output_type": "stream",
     "text": [
      " WARNING (norm_resp): computed and reported sensitivities differ by more than 5 percent. \n",
      "\t Execution continuing.\n"
     ]
    },
    {
     "name": "stdout",
     "output_type": "stream",
     "text": [
      "Processing from date:  2022-09-08T00:00:00.000000Z\n"
     ]
    },
    {
     "name": "stderr",
     "output_type": "stream",
     "text": [
      " WARNING (norm_resp): computed and reported sensitivities differ by more than 5 percent. \n",
      "\t Execution continuing.\n"
     ]
    },
    {
     "name": "stdout",
     "output_type": "stream",
     "text": [
      "Processing from date:  2022-09-09T00:00:00.000000Z\n"
     ]
    },
    {
     "name": "stderr",
     "output_type": "stream",
     "text": [
      " WARNING (norm_resp): computed and reported sensitivities differ by more than 5 percent. \n",
      "\t Execution continuing.\n"
     ]
    },
    {
     "name": "stdout",
     "output_type": "stream",
     "text": [
      "Processing from date:  2022-09-10T00:00:00.000000Z\n"
     ]
    },
    {
     "name": "stderr",
     "output_type": "stream",
     "text": [
      " WARNING (norm_resp): computed and reported sensitivities differ by more than 5 percent. \n",
      "\t Execution continuing.\n"
     ]
    },
    {
     "name": "stdout",
     "output_type": "stream",
     "text": [
      "Processing from date:  2022-09-11T00:00:00.000000Z\n"
     ]
    },
    {
     "name": "stderr",
     "output_type": "stream",
     "text": [
      " WARNING (norm_resp): computed and reported sensitivities differ by more than 5 percent. \n",
      "\t Execution continuing.\n"
     ]
    },
    {
     "name": "stdout",
     "output_type": "stream",
     "text": [
      "Processing from date:  2022-09-12T00:00:00.000000Z\n"
     ]
    },
    {
     "name": "stderr",
     "output_type": "stream",
     "text": [
      " WARNING (norm_resp): computed and reported sensitivities differ by more than 5 percent. \n",
      "\t Execution continuing.\n"
     ]
    },
    {
     "name": "stdout",
     "output_type": "stream",
     "text": [
      "Processing from date:  2022-09-13T00:00:00.000000Z\n"
     ]
    },
    {
     "name": "stderr",
     "output_type": "stream",
     "text": [
      " WARNING (norm_resp): computed and reported sensitivities differ by more than 5 percent. \n",
      "\t Execution continuing.\n"
     ]
    },
    {
     "name": "stdout",
     "output_type": "stream",
     "text": [
      "Processing from date:  2022-09-14T00:00:00.000000Z\n"
     ]
    },
    {
     "name": "stderr",
     "output_type": "stream",
     "text": [
      " WARNING (norm_resp): computed and reported sensitivities differ by more than 5 percent. \n",
      "\t Execution continuing.\n"
     ]
    },
    {
     "name": "stdout",
     "output_type": "stream",
     "text": [
      "Processing from date:  2022-09-15T00:00:00.000000Z\n"
     ]
    },
    {
     "name": "stderr",
     "output_type": "stream",
     "text": [
      " WARNING (norm_resp): computed and reported sensitivities differ by more than 5 percent. \n",
      "\t Execution continuing.\n"
     ]
    },
    {
     "name": "stdout",
     "output_type": "stream",
     "text": [
      "Processing from date:  2022-09-16T00:00:00.000000Z\n"
     ]
    },
    {
     "name": "stderr",
     "output_type": "stream",
     "text": [
      " WARNING (norm_resp): computed and reported sensitivities differ by more than 5 percent. \n",
      "\t Execution continuing.\n"
     ]
    },
    {
     "name": "stdout",
     "output_type": "stream",
     "text": [
      "Processing from date:  2022-09-17T00:00:00.000000Z\n"
     ]
    },
    {
     "name": "stderr",
     "output_type": "stream",
     "text": [
      " WARNING (norm_resp): computed and reported sensitivities differ by more than 5 percent. \n",
      "\t Execution continuing.\n"
     ]
    },
    {
     "name": "stdout",
     "output_type": "stream",
     "text": [
      "Processing from date:  2022-09-18T00:00:00.000000Z\n"
     ]
    },
    {
     "name": "stderr",
     "output_type": "stream",
     "text": [
      " WARNING (norm_resp): computed and reported sensitivities differ by more than 5 percent. \n",
      "\t Execution continuing.\n"
     ]
    },
    {
     "name": "stdout",
     "output_type": "stream",
     "text": [
      "Processing from date:  2022-09-19T00:00:00.000000Z\n"
     ]
    },
    {
     "name": "stderr",
     "output_type": "stream",
     "text": [
      " WARNING (norm_resp): computed and reported sensitivities differ by more than 5 percent. \n",
      "\t Execution continuing.\n"
     ]
    },
    {
     "name": "stdout",
     "output_type": "stream",
     "text": [
      "Processing from date:  2022-09-20T00:00:00.000000Z\n"
     ]
    },
    {
     "name": "stderr",
     "output_type": "stream",
     "text": [
      " WARNING (norm_resp): computed and reported sensitivities differ by more than 5 percent. \n",
      "\t Execution continuing.\n"
     ]
    },
    {
     "name": "stdout",
     "output_type": "stream",
     "text": [
      "Processing from date:  2022-09-21T00:00:00.000000Z\n"
     ]
    },
    {
     "name": "stderr",
     "output_type": "stream",
     "text": [
      " WARNING (norm_resp): computed and reported sensitivities differ by more than 5 percent. \n",
      "\t Execution continuing.\n"
     ]
    },
    {
     "name": "stdout",
     "output_type": "stream",
     "text": [
      "Processing from date:  2022-09-22T00:00:00.000000Z\n"
     ]
    },
    {
     "name": "stderr",
     "output_type": "stream",
     "text": [
      " WARNING (norm_resp): computed and reported sensitivities differ by more than 5 percent. \n",
      "\t Execution continuing.\n"
     ]
    },
    {
     "name": "stdout",
     "output_type": "stream",
     "text": [
      "Processing from date:  2022-09-23T00:00:00.000000Z\n"
     ]
    },
    {
     "name": "stderr",
     "output_type": "stream",
     "text": [
      " WARNING (norm_resp): computed and reported sensitivities differ by more than 5 percent. \n",
      "\t Execution continuing.\n"
     ]
    },
    {
     "name": "stdout",
     "output_type": "stream",
     "text": [
      "Processing from date:  2022-09-24T00:00:00.000000Z\n"
     ]
    },
    {
     "name": "stderr",
     "output_type": "stream",
     "text": [
      " WARNING (norm_resp): computed and reported sensitivities differ by more than 5 percent. \n",
      "\t Execution continuing.\n"
     ]
    },
    {
     "name": "stdout",
     "output_type": "stream",
     "text": [
      "Processing from date:  2022-09-25T00:00:00.000000Z\n"
     ]
    },
    {
     "name": "stderr",
     "output_type": "stream",
     "text": [
      " WARNING (norm_resp): computed and reported sensitivities differ by more than 5 percent. \n",
      "\t Execution continuing.\n"
     ]
    },
    {
     "name": "stdout",
     "output_type": "stream",
     "text": [
      "Processing from date:  2022-09-26T00:00:00.000000Z\n"
     ]
    },
    {
     "name": "stderr",
     "output_type": "stream",
     "text": [
      " WARNING (norm_resp): computed and reported sensitivities differ by more than 5 percent. \n",
      "\t Execution continuing.\n"
     ]
    },
    {
     "name": "stdout",
     "output_type": "stream",
     "text": [
      "Processing from date:  2022-09-27T00:00:00.000000Z\n"
     ]
    },
    {
     "name": "stderr",
     "output_type": "stream",
     "text": [
      " WARNING (norm_resp): computed and reported sensitivities differ by more than 5 percent. \n",
      "\t Execution continuing.\n"
     ]
    },
    {
     "name": "stdout",
     "output_type": "stream",
     "text": [
      "Processing from date:  2022-09-28T00:00:00.000000Z\n"
     ]
    },
    {
     "name": "stderr",
     "output_type": "stream",
     "text": [
      " WARNING (norm_resp): computed and reported sensitivities differ by more than 5 percent. \n",
      "\t Execution continuing.\n"
     ]
    },
    {
     "name": "stdout",
     "output_type": "stream",
     "text": [
      "Processing from date:  2022-09-29T00:00:00.000000Z\n"
     ]
    },
    {
     "name": "stderr",
     "output_type": "stream",
     "text": [
      " WARNING (norm_resp): computed and reported sensitivities differ by more than 5 percent. \n",
      "\t Execution continuing.\n"
     ]
    },
    {
     "name": "stdout",
     "output_type": "stream",
     "text": [
      "Processing from date:  2022-09-30T00:00:00.000000Z\n"
     ]
    },
    {
     "name": "stderr",
     "output_type": "stream",
     "text": [
      " WARNING (norm_resp): computed and reported sensitivities differ by more than 5 percent. \n",
      "\t Execution continuing.\n"
     ]
    },
    {
     "name": "stdout",
     "output_type": "stream",
     "text": [
      "Processing from date:  2022-10-01T00:00:00.000000Z\n"
     ]
    },
    {
     "name": "stderr",
     "output_type": "stream",
     "text": [
      " WARNING (norm_resp): computed and reported sensitivities differ by more than 5 percent. \n",
      "\t Execution continuing.\n"
     ]
    },
    {
     "name": "stdout",
     "output_type": "stream",
     "text": [
      "Processing from date:  2022-10-02T00:00:00.000000Z\n"
     ]
    },
    {
     "name": "stderr",
     "output_type": "stream",
     "text": [
      " WARNING (norm_resp): computed and reported sensitivities differ by more than 5 percent. \n",
      "\t Execution continuing.\n"
     ]
    },
    {
     "name": "stdout",
     "output_type": "stream",
     "text": [
      "Processing from date:  2022-10-03T00:00:00.000000Z\n"
     ]
    },
    {
     "name": "stderr",
     "output_type": "stream",
     "text": [
      " WARNING (norm_resp): computed and reported sensitivities differ by more than 5 percent. \n",
      "\t Execution continuing.\n"
     ]
    },
    {
     "name": "stdout",
     "output_type": "stream",
     "text": [
      "Processing from date:  2022-10-04T00:00:00.000000Z\n"
     ]
    },
    {
     "name": "stderr",
     "output_type": "stream",
     "text": [
      " WARNING (norm_resp): computed and reported sensitivities differ by more than 5 percent. \n",
      "\t Execution continuing.\n"
     ]
    },
    {
     "name": "stdout",
     "output_type": "stream",
     "text": [
      "Processing from date:  2022-10-05T00:00:00.000000Z\n"
     ]
    },
    {
     "name": "stderr",
     "output_type": "stream",
     "text": [
      " WARNING (norm_resp): computed and reported sensitivities differ by more than 5 percent. \n",
      "\t Execution continuing.\n"
     ]
    },
    {
     "name": "stdout",
     "output_type": "stream",
     "text": [
      "Processing from date:  2022-10-06T00:00:00.000000Z\n"
     ]
    },
    {
     "name": "stderr",
     "output_type": "stream",
     "text": [
      " WARNING (norm_resp): computed and reported sensitivities differ by more than 5 percent. \n",
      "\t Execution continuing.\n"
     ]
    },
    {
     "name": "stdout",
     "output_type": "stream",
     "text": [
      "Processing from date:  2022-10-07T00:00:00.000000Z\n"
     ]
    },
    {
     "name": "stderr",
     "output_type": "stream",
     "text": [
      " WARNING (norm_resp): computed and reported sensitivities differ by more than 5 percent. \n",
      "\t Execution continuing.\n"
     ]
    },
    {
     "name": "stdout",
     "output_type": "stream",
     "text": [
      "Processing from date:  2022-10-08T00:00:00.000000Z\n"
     ]
    },
    {
     "name": "stderr",
     "output_type": "stream",
     "text": [
      " WARNING (norm_resp): computed and reported sensitivities differ by more than 5 percent. \n",
      "\t Execution continuing.\n"
     ]
    },
    {
     "name": "stdout",
     "output_type": "stream",
     "text": [
      "Processing from date:  2022-10-09T00:00:00.000000Z\n"
     ]
    },
    {
     "name": "stderr",
     "output_type": "stream",
     "text": [
      " WARNING (norm_resp): computed and reported sensitivities differ by more than 5 percent. \n",
      "\t Execution continuing.\n"
     ]
    },
    {
     "name": "stdout",
     "output_type": "stream",
     "text": [
      "Processing from date:  2022-10-10T00:00:00.000000Z\n"
     ]
    },
    {
     "name": "stderr",
     "output_type": "stream",
     "text": [
      " WARNING (norm_resp): computed and reported sensitivities differ by more than 5 percent. \n",
      "\t Execution continuing.\n"
     ]
    },
    {
     "name": "stdout",
     "output_type": "stream",
     "text": [
      "Processing from date:  2022-10-11T00:00:00.000000Z\n"
     ]
    },
    {
     "name": "stderr",
     "output_type": "stream",
     "text": [
      " WARNING (norm_resp): computed and reported sensitivities differ by more than 5 percent. \n",
      "\t Execution continuing.\n"
     ]
    },
    {
     "name": "stdout",
     "output_type": "stream",
     "text": [
      "Processing from date:  2022-10-12T00:00:00.000000Z\n"
     ]
    },
    {
     "name": "stderr",
     "output_type": "stream",
     "text": [
      " WARNING (norm_resp): computed and reported sensitivities differ by more than 5 percent. \n",
      "\t Execution continuing.\n"
     ]
    },
    {
     "name": "stdout",
     "output_type": "stream",
     "text": [
      "Processing from date:  2022-10-13T00:00:00.000000Z\n"
     ]
    },
    {
     "name": "stderr",
     "output_type": "stream",
     "text": [
      " WARNING (norm_resp): computed and reported sensitivities differ by more than 5 percent. \n",
      "\t Execution continuing.\n"
     ]
    },
    {
     "name": "stdout",
     "output_type": "stream",
     "text": [
      "Processing from date:  2022-10-14T00:00:00.000000Z\n"
     ]
    },
    {
     "name": "stderr",
     "output_type": "stream",
     "text": [
      " WARNING (norm_resp): computed and reported sensitivities differ by more than 5 percent. \n",
      "\t Execution continuing.\n"
     ]
    },
    {
     "name": "stdout",
     "output_type": "stream",
     "text": [
      "Processing from date:  2022-10-15T00:00:00.000000Z\n"
     ]
    },
    {
     "name": "stderr",
     "output_type": "stream",
     "text": [
      " WARNING (norm_resp): computed and reported sensitivities differ by more than 5 percent. \n",
      "\t Execution continuing.\n"
     ]
    },
    {
     "name": "stdout",
     "output_type": "stream",
     "text": [
      "Processing from date:  2022-10-16T00:00:00.000000Z\n"
     ]
    },
    {
     "name": "stderr",
     "output_type": "stream",
     "text": [
      " WARNING (norm_resp): computed and reported sensitivities differ by more than 5 percent. \n",
      "\t Execution continuing.\n"
     ]
    },
    {
     "name": "stdout",
     "output_type": "stream",
     "text": [
      "Processing from date:  2022-10-17T00:00:00.000000Z\n"
     ]
    },
    {
     "name": "stderr",
     "output_type": "stream",
     "text": [
      " WARNING (norm_resp): computed and reported sensitivities differ by more than 5 percent. \n",
      "\t Execution continuing.\n"
     ]
    },
    {
     "name": "stdout",
     "output_type": "stream",
     "text": [
      "Processing from date:  2022-10-18T00:00:00.000000Z\n"
     ]
    },
    {
     "name": "stderr",
     "output_type": "stream",
     "text": [
      " WARNING (norm_resp): computed and reported sensitivities differ by more than 5 percent. \n",
      "\t Execution continuing.\n"
     ]
    },
    {
     "name": "stdout",
     "output_type": "stream",
     "text": [
      "Processing from date:  2022-10-19T00:00:00.000000Z\n"
     ]
    },
    {
     "name": "stderr",
     "output_type": "stream",
     "text": [
      " WARNING (norm_resp): computed and reported sensitivities differ by more than 5 percent. \n",
      "\t Execution continuing.\n"
     ]
    },
    {
     "name": "stdout",
     "output_type": "stream",
     "text": [
      "Processing from date:  2022-10-20T00:00:00.000000Z\n"
     ]
    },
    {
     "name": "stderr",
     "output_type": "stream",
     "text": [
      " WARNING (norm_resp): computed and reported sensitivities differ by more than 5 percent. \n",
      "\t Execution continuing.\n"
     ]
    },
    {
     "name": "stdout",
     "output_type": "stream",
     "text": [
      "Processing from date:  2022-10-21T00:00:00.000000Z\n"
     ]
    },
    {
     "name": "stderr",
     "output_type": "stream",
     "text": [
      " WARNING (norm_resp): computed and reported sensitivities differ by more than 5 percent. \n",
      "\t Execution continuing.\n"
     ]
    },
    {
     "name": "stdout",
     "output_type": "stream",
     "text": [
      "Processing from date:  2022-10-22T00:00:00.000000Z\n"
     ]
    },
    {
     "name": "stderr",
     "output_type": "stream",
     "text": [
      " WARNING (norm_resp): computed and reported sensitivities differ by more than 5 percent. \n",
      "\t Execution continuing.\n"
     ]
    },
    {
     "name": "stdout",
     "output_type": "stream",
     "text": [
      "Processing from date:  2022-10-23T00:00:00.000000Z\n"
     ]
    },
    {
     "name": "stderr",
     "output_type": "stream",
     "text": [
      " WARNING (norm_resp): computed and reported sensitivities differ by more than 5 percent. \n",
      "\t Execution continuing.\n"
     ]
    },
    {
     "name": "stdout",
     "output_type": "stream",
     "text": [
      "Processing from date:  2022-10-24T00:00:00.000000Z\n"
     ]
    },
    {
     "name": "stderr",
     "output_type": "stream",
     "text": [
      " WARNING (norm_resp): computed and reported sensitivities differ by more than 5 percent. \n",
      "\t Execution continuing.\n"
     ]
    },
    {
     "name": "stdout",
     "output_type": "stream",
     "text": [
      "Processing from date:  2022-10-25T00:00:00.000000Z\n"
     ]
    },
    {
     "name": "stderr",
     "output_type": "stream",
     "text": [
      " WARNING (norm_resp): computed and reported sensitivities differ by more than 5 percent. \n",
      "\t Execution continuing.\n"
     ]
    },
    {
     "name": "stdout",
     "output_type": "stream",
     "text": [
      "Processing from date:  2022-10-26T00:00:00.000000Z\n"
     ]
    },
    {
     "name": "stderr",
     "output_type": "stream",
     "text": [
      " WARNING (norm_resp): computed and reported sensitivities differ by more than 5 percent. \n",
      "\t Execution continuing.\n"
     ]
    },
    {
     "name": "stdout",
     "output_type": "stream",
     "text": [
      "Processing from date:  2022-10-27T00:00:00.000000Z\n"
     ]
    },
    {
     "name": "stderr",
     "output_type": "stream",
     "text": [
      " WARNING (norm_resp): computed and reported sensitivities differ by more than 5 percent. \n",
      "\t Execution continuing.\n"
     ]
    },
    {
     "name": "stdout",
     "output_type": "stream",
     "text": [
      "Processing from date:  2022-10-28T00:00:00.000000Z\n"
     ]
    },
    {
     "name": "stderr",
     "output_type": "stream",
     "text": [
      " WARNING (norm_resp): computed and reported sensitivities differ by more than 5 percent. \n",
      "\t Execution continuing.\n"
     ]
    },
    {
     "name": "stdout",
     "output_type": "stream",
     "text": [
      "Processing from date:  2022-10-29T00:00:00.000000Z\n"
     ]
    },
    {
     "name": "stderr",
     "output_type": "stream",
     "text": [
      " WARNING (norm_resp): computed and reported sensitivities differ by more than 5 percent. \n",
      "\t Execution continuing.\n"
     ]
    },
    {
     "name": "stdout",
     "output_type": "stream",
     "text": [
      "Processing from date:  2022-10-30T00:00:00.000000Z\n"
     ]
    },
    {
     "name": "stderr",
     "output_type": "stream",
     "text": [
      " WARNING (norm_resp): computed and reported sensitivities differ by more than 5 percent. \n",
      "\t Execution continuing.\n"
     ]
    },
    {
     "name": "stdout",
     "output_type": "stream",
     "text": [
      "Processing from date:  2022-10-31T00:00:00.000000Z\n"
     ]
    },
    {
     "name": "stderr",
     "output_type": "stream",
     "text": [
      " WARNING (norm_resp): computed and reported sensitivities differ by more than 5 percent. \n",
      "\t Execution continuing.\n"
     ]
    },
    {
     "name": "stdout",
     "output_type": "stream",
     "text": [
      "Processing from date:  2022-11-01T00:00:00.000000Z\n"
     ]
    },
    {
     "name": "stderr",
     "output_type": "stream",
     "text": [
      " WARNING (norm_resp): computed and reported sensitivities differ by more than 5 percent. \n",
      "\t Execution continuing.\n"
     ]
    },
    {
     "name": "stdout",
     "output_type": "stream",
     "text": [
      "Processing from date:  2022-11-02T00:00:00.000000Z\n"
     ]
    },
    {
     "name": "stderr",
     "output_type": "stream",
     "text": [
      " WARNING (norm_resp): computed and reported sensitivities differ by more than 5 percent. \n",
      "\t Execution continuing.\n"
     ]
    },
    {
     "name": "stdout",
     "output_type": "stream",
     "text": [
      "Processing from date:  2022-11-03T00:00:00.000000Z\n"
     ]
    },
    {
     "name": "stderr",
     "output_type": "stream",
     "text": [
      " WARNING (norm_resp): computed and reported sensitivities differ by more than 5 percent. \n",
      "\t Execution continuing.\n"
     ]
    },
    {
     "name": "stdout",
     "output_type": "stream",
     "text": [
      "Processing from date:  2022-11-04T00:00:00.000000Z\n"
     ]
    },
    {
     "name": "stderr",
     "output_type": "stream",
     "text": [
      " WARNING (norm_resp): computed and reported sensitivities differ by more than 5 percent. \n",
      "\t Execution continuing.\n"
     ]
    },
    {
     "name": "stdout",
     "output_type": "stream",
     "text": [
      "Processing from date:  2022-11-05T00:00:00.000000Z\n"
     ]
    },
    {
     "name": "stderr",
     "output_type": "stream",
     "text": [
      " WARNING (norm_resp): computed and reported sensitivities differ by more than 5 percent. \n",
      "\t Execution continuing.\n"
     ]
    },
    {
     "name": "stdout",
     "output_type": "stream",
     "text": [
      "Processing from date:  2022-11-06T00:00:00.000000Z\n"
     ]
    },
    {
     "name": "stderr",
     "output_type": "stream",
     "text": [
      " WARNING (norm_resp): computed and reported sensitivities differ by more than 5 percent. \n",
      "\t Execution continuing.\n"
     ]
    },
    {
     "name": "stdout",
     "output_type": "stream",
     "text": [
      "Processing from date:  2022-11-07T00:00:00.000000Z\n"
     ]
    },
    {
     "name": "stderr",
     "output_type": "stream",
     "text": [
      " WARNING (norm_resp): computed and reported sensitivities differ by more than 5 percent. \n",
      "\t Execution continuing.\n"
     ]
    },
    {
     "name": "stdout",
     "output_type": "stream",
     "text": [
      "Processing from date:  2022-11-08T00:00:00.000000Z\n"
     ]
    },
    {
     "name": "stderr",
     "output_type": "stream",
     "text": [
      " WARNING (norm_resp): computed and reported sensitivities differ by more than 5 percent. \n",
      "\t Execution continuing.\n"
     ]
    },
    {
     "name": "stdout",
     "output_type": "stream",
     "text": [
      "Processing from date:  2022-11-09T00:00:00.000000Z\n"
     ]
    },
    {
     "name": "stderr",
     "output_type": "stream",
     "text": [
      " WARNING (norm_resp): computed and reported sensitivities differ by more than 5 percent. \n",
      "\t Execution continuing.\n"
     ]
    },
    {
     "name": "stdout",
     "output_type": "stream",
     "text": [
      "Processing from date:  2022-11-10T00:00:00.000000Z\n"
     ]
    },
    {
     "name": "stderr",
     "output_type": "stream",
     "text": [
      " WARNING (norm_resp): computed and reported sensitivities differ by more than 5 percent. \n",
      "\t Execution continuing.\n"
     ]
    },
    {
     "name": "stdout",
     "output_type": "stream",
     "text": [
      "Processing from date:  2022-11-11T00:00:00.000000Z\n"
     ]
    },
    {
     "name": "stderr",
     "output_type": "stream",
     "text": [
      " WARNING (norm_resp): computed and reported sensitivities differ by more than 5 percent. \n",
      "\t Execution continuing.\n"
     ]
    },
    {
     "name": "stdout",
     "output_type": "stream",
     "text": [
      "Processing from date:  2022-11-12T00:00:00.000000Z\n"
     ]
    },
    {
     "name": "stderr",
     "output_type": "stream",
     "text": [
      " WARNING (norm_resp): computed and reported sensitivities differ by more than 5 percent. \n",
      "\t Execution continuing.\n"
     ]
    },
    {
     "name": "stdout",
     "output_type": "stream",
     "text": [
      "Processing from date:  2022-11-13T00:00:00.000000Z\n"
     ]
    },
    {
     "name": "stderr",
     "output_type": "stream",
     "text": [
      " WARNING (norm_resp): computed and reported sensitivities differ by more than 5 percent. \n",
      "\t Execution continuing.\n"
     ]
    },
    {
     "name": "stdout",
     "output_type": "stream",
     "text": [
      "Processing from date:  2022-11-14T00:00:00.000000Z\n"
     ]
    },
    {
     "name": "stderr",
     "output_type": "stream",
     "text": [
      " WARNING (norm_resp): computed and reported sensitivities differ by more than 5 percent. \n",
      "\t Execution continuing.\n"
     ]
    },
    {
     "name": "stdout",
     "output_type": "stream",
     "text": [
      "Processing from date:  2022-11-15T00:00:00.000000Z\n"
     ]
    },
    {
     "name": "stderr",
     "output_type": "stream",
     "text": [
      " WARNING (norm_resp): computed and reported sensitivities differ by more than 5 percent. \n",
      "\t Execution continuing.\n"
     ]
    },
    {
     "name": "stdout",
     "output_type": "stream",
     "text": [
      "Processing from date:  2022-11-16T00:00:00.000000Z\n"
     ]
    },
    {
     "name": "stderr",
     "output_type": "stream",
     "text": [
      " WARNING (norm_resp): computed and reported sensitivities differ by more than 5 percent. \n",
      "\t Execution continuing.\n"
     ]
    },
    {
     "name": "stdout",
     "output_type": "stream",
     "text": [
      "Processing from date:  2022-11-17T00:00:00.000000Z\n"
     ]
    },
    {
     "name": "stderr",
     "output_type": "stream",
     "text": [
      " WARNING (norm_resp): computed and reported sensitivities differ by more than 5 percent. \n",
      "\t Execution continuing.\n"
     ]
    },
    {
     "name": "stdout",
     "output_type": "stream",
     "text": [
      "Processing from date:  2022-11-18T00:00:00.000000Z\n"
     ]
    },
    {
     "name": "stderr",
     "output_type": "stream",
     "text": [
      " WARNING (norm_resp): computed and reported sensitivities differ by more than 5 percent. \n",
      "\t Execution continuing.\n"
     ]
    },
    {
     "name": "stdout",
     "output_type": "stream",
     "text": [
      "Processing from date:  2022-11-19T00:00:00.000000Z\n"
     ]
    },
    {
     "name": "stderr",
     "output_type": "stream",
     "text": [
      " WARNING (norm_resp): computed and reported sensitivities differ by more than 5 percent. \n",
      "\t Execution continuing.\n"
     ]
    },
    {
     "name": "stdout",
     "output_type": "stream",
     "text": [
      "Processing from date:  2022-11-20T00:00:00.000000Z\n"
     ]
    },
    {
     "name": "stderr",
     "output_type": "stream",
     "text": [
      " WARNING (norm_resp): computed and reported sensitivities differ by more than 5 percent. \n",
      "\t Execution continuing.\n"
     ]
    },
    {
     "name": "stdout",
     "output_type": "stream",
     "text": [
      "Processing from date:  2022-11-21T00:00:00.000000Z\n"
     ]
    },
    {
     "name": "stderr",
     "output_type": "stream",
     "text": [
      " WARNING (norm_resp): computed and reported sensitivities differ by more than 5 percent. \n",
      "\t Execution continuing.\n"
     ]
    },
    {
     "name": "stdout",
     "output_type": "stream",
     "text": [
      "Processing from date:  2022-11-22T00:00:00.000000Z\n"
     ]
    },
    {
     "name": "stderr",
     "output_type": "stream",
     "text": [
      " WARNING (norm_resp): computed and reported sensitivities differ by more than 5 percent. \n",
      "\t Execution continuing.\n"
     ]
    },
    {
     "name": "stdout",
     "output_type": "stream",
     "text": [
      "Processing from date:  2022-11-23T00:00:00.000000Z\n"
     ]
    },
    {
     "name": "stderr",
     "output_type": "stream",
     "text": [
      " WARNING (norm_resp): computed and reported sensitivities differ by more than 5 percent. \n",
      "\t Execution continuing.\n"
     ]
    },
    {
     "name": "stdout",
     "output_type": "stream",
     "text": [
      "Processing from date:  2022-11-24T00:00:00.000000Z\n"
     ]
    },
    {
     "name": "stderr",
     "output_type": "stream",
     "text": [
      " WARNING (norm_resp): computed and reported sensitivities differ by more than 5 percent. \n",
      "\t Execution continuing.\n"
     ]
    },
    {
     "name": "stdout",
     "output_type": "stream",
     "text": [
      "Processing from date:  2022-11-25T00:00:00.000000Z\n"
     ]
    },
    {
     "name": "stderr",
     "output_type": "stream",
     "text": [
      " WARNING (norm_resp): computed and reported sensitivities differ by more than 5 percent. \n",
      "\t Execution continuing.\n"
     ]
    },
    {
     "name": "stdout",
     "output_type": "stream",
     "text": [
      "Processing from date:  2022-11-26T00:00:00.000000Z\n"
     ]
    },
    {
     "name": "stderr",
     "output_type": "stream",
     "text": [
      " WARNING (norm_resp): computed and reported sensitivities differ by more than 5 percent. \n",
      "\t Execution continuing.\n"
     ]
    },
    {
     "name": "stdout",
     "output_type": "stream",
     "text": [
      "Processing from date:  2022-11-27T00:00:00.000000Z\n"
     ]
    },
    {
     "name": "stderr",
     "output_type": "stream",
     "text": [
      " WARNING (norm_resp): computed and reported sensitivities differ by more than 5 percent. \n",
      "\t Execution continuing.\n"
     ]
    },
    {
     "name": "stdout",
     "output_type": "stream",
     "text": [
      "Processing from date:  2022-11-28T00:00:00.000000Z\n"
     ]
    },
    {
     "name": "stderr",
     "output_type": "stream",
     "text": [
      " WARNING (norm_resp): computed and reported sensitivities differ by more than 5 percent. \n",
      "\t Execution continuing.\n"
     ]
    },
    {
     "name": "stdout",
     "output_type": "stream",
     "text": [
      "Processing from date:  2022-11-29T00:00:00.000000Z\n"
     ]
    },
    {
     "name": "stderr",
     "output_type": "stream",
     "text": [
      " WARNING (norm_resp): computed and reported sensitivities differ by more than 5 percent. \n",
      "\t Execution continuing.\n"
     ]
    },
    {
     "name": "stdout",
     "output_type": "stream",
     "text": [
      "Processing from date:  2022-11-30T00:00:00.000000Z\n"
     ]
    },
    {
     "name": "stderr",
     "output_type": "stream",
     "text": [
      " WARNING (norm_resp): computed and reported sensitivities differ by more than 5 percent. \n",
      "\t Execution continuing.\n"
     ]
    },
    {
     "name": "stdout",
     "output_type": "stream",
     "text": [
      "Processing from date:  2022-12-01T00:00:00.000000Z\n"
     ]
    },
    {
     "name": "stderr",
     "output_type": "stream",
     "text": [
      " WARNING (norm_resp): computed and reported sensitivities differ by more than 5 percent. \n",
      "\t Execution continuing.\n"
     ]
    },
    {
     "name": "stdout",
     "output_type": "stream",
     "text": [
      "Processing from date:  2022-12-02T00:00:00.000000Z\n"
     ]
    },
    {
     "name": "stderr",
     "output_type": "stream",
     "text": [
      " WARNING (norm_resp): computed and reported sensitivities differ by more than 5 percent. \n",
      "\t Execution continuing.\n"
     ]
    },
    {
     "name": "stdout",
     "output_type": "stream",
     "text": [
      "Processing from date:  2022-12-03T00:00:00.000000Z\n"
     ]
    },
    {
     "name": "stderr",
     "output_type": "stream",
     "text": [
      " WARNING (norm_resp): computed and reported sensitivities differ by more than 5 percent. \n",
      "\t Execution continuing.\n"
     ]
    },
    {
     "name": "stdout",
     "output_type": "stream",
     "text": [
      "Processing from date:  2022-12-04T00:00:00.000000Z\n"
     ]
    },
    {
     "name": "stderr",
     "output_type": "stream",
     "text": [
      " WARNING (norm_resp): computed and reported sensitivities differ by more than 5 percent. \n",
      "\t Execution continuing.\n"
     ]
    },
    {
     "name": "stdout",
     "output_type": "stream",
     "text": [
      "Processing from date:  2022-12-05T00:00:00.000000Z\n"
     ]
    },
    {
     "name": "stderr",
     "output_type": "stream",
     "text": [
      " WARNING (norm_resp): computed and reported sensitivities differ by more than 5 percent. \n",
      "\t Execution continuing.\n"
     ]
    },
    {
     "name": "stdout",
     "output_type": "stream",
     "text": [
      "Processing from date:  2022-12-06T00:00:00.000000Z\n"
     ]
    },
    {
     "name": "stderr",
     "output_type": "stream",
     "text": [
      " WARNING (norm_resp): computed and reported sensitivities differ by more than 5 percent. \n",
      "\t Execution continuing.\n"
     ]
    },
    {
     "name": "stdout",
     "output_type": "stream",
     "text": [
      "Processing from date:  2022-12-07T00:00:00.000000Z\n"
     ]
    },
    {
     "name": "stderr",
     "output_type": "stream",
     "text": [
      " WARNING (norm_resp): computed and reported sensitivities differ by more than 5 percent. \n",
      "\t Execution continuing.\n"
     ]
    },
    {
     "name": "stdout",
     "output_type": "stream",
     "text": [
      "Processing from date:  2022-12-08T00:00:00.000000Z\n"
     ]
    },
    {
     "name": "stderr",
     "output_type": "stream",
     "text": [
      " WARNING (norm_resp): computed and reported sensitivities differ by more than 5 percent. \n",
      "\t Execution continuing.\n"
     ]
    },
    {
     "name": "stdout",
     "output_type": "stream",
     "text": [
      "Processing from date:  2022-12-09T00:00:00.000000Z\n"
     ]
    },
    {
     "name": "stderr",
     "output_type": "stream",
     "text": [
      " WARNING (norm_resp): computed and reported sensitivities differ by more than 5 percent. \n",
      "\t Execution continuing.\n"
     ]
    },
    {
     "name": "stdout",
     "output_type": "stream",
     "text": [
      "Processing from date:  2022-12-10T00:00:00.000000Z\n"
     ]
    },
    {
     "name": "stderr",
     "output_type": "stream",
     "text": [
      " WARNING (norm_resp): computed and reported sensitivities differ by more than 5 percent. \n",
      "\t Execution continuing.\n"
     ]
    },
    {
     "name": "stdout",
     "output_type": "stream",
     "text": [
      "Processing from date:  2022-12-11T00:00:00.000000Z\n"
     ]
    },
    {
     "name": "stderr",
     "output_type": "stream",
     "text": [
      " WARNING (norm_resp): computed and reported sensitivities differ by more than 5 percent. \n",
      "\t Execution continuing.\n"
     ]
    },
    {
     "name": "stdout",
     "output_type": "stream",
     "text": [
      "Processing from date:  2022-12-12T00:00:00.000000Z\n"
     ]
    },
    {
     "name": "stderr",
     "output_type": "stream",
     "text": [
      " WARNING (norm_resp): computed and reported sensitivities differ by more than 5 percent. \n",
      "\t Execution continuing.\n"
     ]
    },
    {
     "name": "stdout",
     "output_type": "stream",
     "text": [
      "Processing from date:  2022-12-13T00:00:00.000000Z\n"
     ]
    },
    {
     "name": "stderr",
     "output_type": "stream",
     "text": [
      " WARNING (norm_resp): computed and reported sensitivities differ by more than 5 percent. \n",
      "\t Execution continuing.\n"
     ]
    },
    {
     "name": "stdout",
     "output_type": "stream",
     "text": [
      "Processing from date:  2022-12-14T00:00:00.000000Z\n"
     ]
    },
    {
     "name": "stderr",
     "output_type": "stream",
     "text": [
      " WARNING (norm_resp): computed and reported sensitivities differ by more than 5 percent. \n",
      "\t Execution continuing.\n"
     ]
    },
    {
     "name": "stdout",
     "output_type": "stream",
     "text": [
      "Processing from date:  2022-12-15T00:00:00.000000Z\n"
     ]
    },
    {
     "name": "stderr",
     "output_type": "stream",
     "text": [
      " WARNING (norm_resp): computed and reported sensitivities differ by more than 5 percent. \n",
      "\t Execution continuing.\n"
     ]
    },
    {
     "name": "stdout",
     "output_type": "stream",
     "text": [
      "Processing from date:  2022-12-16T00:00:00.000000Z\n"
     ]
    },
    {
     "name": "stderr",
     "output_type": "stream",
     "text": [
      " WARNING (norm_resp): computed and reported sensitivities differ by more than 5 percent. \n",
      "\t Execution continuing.\n"
     ]
    },
    {
     "name": "stdout",
     "output_type": "stream",
     "text": [
      "Processing from date:  2022-12-17T00:00:00.000000Z\n"
     ]
    },
    {
     "name": "stderr",
     "output_type": "stream",
     "text": [
      " WARNING (norm_resp): computed and reported sensitivities differ by more than 5 percent. \n",
      "\t Execution continuing.\n"
     ]
    },
    {
     "name": "stdout",
     "output_type": "stream",
     "text": [
      "Processing from date:  2022-12-18T00:00:00.000000Z\n"
     ]
    },
    {
     "name": "stderr",
     "output_type": "stream",
     "text": [
      " WARNING (norm_resp): computed and reported sensitivities differ by more than 5 percent. \n",
      "\t Execution continuing.\n"
     ]
    },
    {
     "name": "stdout",
     "output_type": "stream",
     "text": [
      "Processing from date:  2022-12-19T00:00:00.000000Z\n"
     ]
    },
    {
     "name": "stderr",
     "output_type": "stream",
     "text": [
      " WARNING (norm_resp): computed and reported sensitivities differ by more than 5 percent. \n",
      "\t Execution continuing.\n"
     ]
    },
    {
     "name": "stdout",
     "output_type": "stream",
     "text": [
      "Processing from date:  2022-12-20T00:00:00.000000Z\n"
     ]
    },
    {
     "name": "stderr",
     "output_type": "stream",
     "text": [
      " WARNING (norm_resp): computed and reported sensitivities differ by more than 5 percent. \n",
      "\t Execution continuing.\n"
     ]
    },
    {
     "name": "stdout",
     "output_type": "stream",
     "text": [
      "Processing from date:  2022-12-21T00:00:00.000000Z\n"
     ]
    },
    {
     "name": "stderr",
     "output_type": "stream",
     "text": [
      " WARNING (norm_resp): computed and reported sensitivities differ by more than 5 percent. \n",
      "\t Execution continuing.\n"
     ]
    },
    {
     "name": "stdout",
     "output_type": "stream",
     "text": [
      "Processing from date:  2022-12-22T00:00:00.000000Z\n"
     ]
    },
    {
     "name": "stderr",
     "output_type": "stream",
     "text": [
      " WARNING (norm_resp): computed and reported sensitivities differ by more than 5 percent. \n",
      "\t Execution continuing.\n"
     ]
    },
    {
     "name": "stdout",
     "output_type": "stream",
     "text": [
      "Processing from date:  2022-12-23T00:00:00.000000Z\n"
     ]
    },
    {
     "name": "stderr",
     "output_type": "stream",
     "text": [
      " WARNING (norm_resp): computed and reported sensitivities differ by more than 5 percent. \n",
      "\t Execution continuing.\n"
     ]
    },
    {
     "name": "stdout",
     "output_type": "stream",
     "text": [
      "Processing from date:  2022-12-24T00:00:00.000000Z\n"
     ]
    },
    {
     "name": "stderr",
     "output_type": "stream",
     "text": [
      " WARNING (norm_resp): computed and reported sensitivities differ by more than 5 percent. \n",
      "\t Execution continuing.\n"
     ]
    },
    {
     "name": "stdout",
     "output_type": "stream",
     "text": [
      "Processing from date:  2022-12-25T00:00:00.000000Z\n"
     ]
    },
    {
     "name": "stderr",
     "output_type": "stream",
     "text": [
      " WARNING (norm_resp): computed and reported sensitivities differ by more than 5 percent. \n",
      "\t Execution continuing.\n"
     ]
    },
    {
     "name": "stdout",
     "output_type": "stream",
     "text": [
      "Processing from date:  2022-12-26T00:00:00.000000Z\n"
     ]
    },
    {
     "name": "stderr",
     "output_type": "stream",
     "text": [
      " WARNING (norm_resp): computed and reported sensitivities differ by more than 5 percent. \n",
      "\t Execution continuing.\n"
     ]
    },
    {
     "name": "stdout",
     "output_type": "stream",
     "text": [
      "Processing from date:  2022-12-27T00:00:00.000000Z\n"
     ]
    },
    {
     "name": "stderr",
     "output_type": "stream",
     "text": [
      " WARNING (norm_resp): computed and reported sensitivities differ by more than 5 percent. \n",
      "\t Execution continuing.\n"
     ]
    },
    {
     "name": "stdout",
     "output_type": "stream",
     "text": [
      "Processing from date:  2022-12-28T00:00:00.000000Z\n"
     ]
    },
    {
     "name": "stderr",
     "output_type": "stream",
     "text": [
      " WARNING (norm_resp): computed and reported sensitivities differ by more than 5 percent. \n",
      "\t Execution continuing.\n"
     ]
    },
    {
     "name": "stdout",
     "output_type": "stream",
     "text": [
      "Processing from date:  2022-12-29T00:00:00.000000Z\n"
     ]
    },
    {
     "name": "stderr",
     "output_type": "stream",
     "text": [
      " WARNING (norm_resp): computed and reported sensitivities differ by more than 5 percent. \n",
      "\t Execution continuing.\n"
     ]
    },
    {
     "name": "stdout",
     "output_type": "stream",
     "text": [
      "Processing from date:  2022-12-30T00:00:00.000000Z\n"
     ]
    },
    {
     "name": "stderr",
     "output_type": "stream",
     "text": [
      " WARNING (norm_resp): computed and reported sensitivities differ by more than 5 percent. \n",
      "\t Execution continuing.\n"
     ]
    },
    {
     "name": "stdout",
     "output_type": "stream",
     "text": [
      "Processing from date:  2022-12-31T00:00:00.000000Z\n"
     ]
    },
    {
     "name": "stderr",
     "output_type": "stream",
     "text": [
      " WARNING (norm_resp): computed and reported sensitivities differ by more than 5 percent. \n",
      "\t Execution continuing.\n"
     ]
    },
    {
     "name": "stdout",
     "output_type": "stream",
     "text": [
      "Processing from date:  2023-01-01T00:00:00.000000Z\n"
     ]
    },
    {
     "name": "stderr",
     "output_type": "stream",
     "text": [
      " WARNING (norm_resp): computed and reported sensitivities differ by more than 5 percent. \n",
      "\t Execution continuing.\n"
     ]
    },
    {
     "name": "stdout",
     "output_type": "stream",
     "text": [
      "Processing from date:  2023-01-02T00:00:00.000000Z\n"
     ]
    },
    {
     "name": "stderr",
     "output_type": "stream",
     "text": [
      " WARNING (norm_resp): computed and reported sensitivities differ by more than 5 percent. \n",
      "\t Execution continuing.\n"
     ]
    },
    {
     "name": "stdout",
     "output_type": "stream",
     "text": [
      "Processing from date:  2023-01-03T00:00:00.000000Z\n"
     ]
    },
    {
     "name": "stderr",
     "output_type": "stream",
     "text": [
      " WARNING (norm_resp): computed and reported sensitivities differ by more than 5 percent. \n",
      "\t Execution continuing.\n"
     ]
    },
    {
     "name": "stdout",
     "output_type": "stream",
     "text": [
      "Processing from date:  2023-01-04T00:00:00.000000Z\n"
     ]
    },
    {
     "name": "stderr",
     "output_type": "stream",
     "text": [
      " WARNING (norm_resp): computed and reported sensitivities differ by more than 5 percent. \n",
      "\t Execution continuing.\n"
     ]
    },
    {
     "name": "stdout",
     "output_type": "stream",
     "text": [
      "Processing from date:  2023-01-05T00:00:00.000000Z\n"
     ]
    },
    {
     "name": "stderr",
     "output_type": "stream",
     "text": [
      " WARNING (norm_resp): computed and reported sensitivities differ by more than 5 percent. \n",
      "\t Execution continuing.\n"
     ]
    },
    {
     "name": "stdout",
     "output_type": "stream",
     "text": [
      "Processing from date:  2023-01-06T00:00:00.000000Z\n"
     ]
    },
    {
     "name": "stderr",
     "output_type": "stream",
     "text": [
      " WARNING (norm_resp): computed and reported sensitivities differ by more than 5 percent. \n",
      "\t Execution continuing.\n"
     ]
    },
    {
     "name": "stdout",
     "output_type": "stream",
     "text": [
      "Processing from date:  2023-01-07T00:00:00.000000Z\n"
     ]
    },
    {
     "name": "stderr",
     "output_type": "stream",
     "text": [
      " WARNING (norm_resp): computed and reported sensitivities differ by more than 5 percent. \n",
      "\t Execution continuing.\n"
     ]
    },
    {
     "name": "stdout",
     "output_type": "stream",
     "text": [
      "Processing from date:  2023-01-08T00:00:00.000000Z\n"
     ]
    },
    {
     "name": "stderr",
     "output_type": "stream",
     "text": [
      " WARNING (norm_resp): computed and reported sensitivities differ by more than 5 percent. \n",
      "\t Execution continuing.\n"
     ]
    },
    {
     "name": "stdout",
     "output_type": "stream",
     "text": [
      "Processing from date:  2023-01-09T00:00:00.000000Z\n"
     ]
    },
    {
     "name": "stderr",
     "output_type": "stream",
     "text": [
      " WARNING (norm_resp): computed and reported sensitivities differ by more than 5 percent. \n",
      "\t Execution continuing.\n"
     ]
    },
    {
     "name": "stdout",
     "output_type": "stream",
     "text": [
      "Processing from date:  2023-01-10T00:00:00.000000Z\n"
     ]
    },
    {
     "name": "stderr",
     "output_type": "stream",
     "text": [
      " WARNING (norm_resp): computed and reported sensitivities differ by more than 5 percent. \n",
      "\t Execution continuing.\n"
     ]
    },
    {
     "name": "stdout",
     "output_type": "stream",
     "text": [
      "Processing from date:  2023-01-11T00:00:00.000000Z\n"
     ]
    },
    {
     "name": "stderr",
     "output_type": "stream",
     "text": [
      " WARNING (norm_resp): computed and reported sensitivities differ by more than 5 percent. \n",
      "\t Execution continuing.\n"
     ]
    },
    {
     "name": "stdout",
     "output_type": "stream",
     "text": [
      "Processing from date:  2023-01-12T00:00:00.000000Z\n"
     ]
    },
    {
     "name": "stderr",
     "output_type": "stream",
     "text": [
      " WARNING (norm_resp): computed and reported sensitivities differ by more than 5 percent. \n",
      "\t Execution continuing.\n"
     ]
    },
    {
     "name": "stdout",
     "output_type": "stream",
     "text": [
      "Processing from date:  2023-01-13T00:00:00.000000Z\n"
     ]
    },
    {
     "name": "stderr",
     "output_type": "stream",
     "text": [
      " WARNING (norm_resp): computed and reported sensitivities differ by more than 5 percent. \n",
      "\t Execution continuing.\n"
     ]
    },
    {
     "name": "stdout",
     "output_type": "stream",
     "text": [
      "Processing from date:  2023-01-14T00:00:00.000000Z\n"
     ]
    },
    {
     "name": "stderr",
     "output_type": "stream",
     "text": [
      " WARNING (norm_resp): computed and reported sensitivities differ by more than 5 percent. \n",
      "\t Execution continuing.\n"
     ]
    },
    {
     "name": "stdout",
     "output_type": "stream",
     "text": [
      "Processing from date:  2023-01-15T00:00:00.000000Z\n"
     ]
    },
    {
     "name": "stderr",
     "output_type": "stream",
     "text": [
      " WARNING (norm_resp): computed and reported sensitivities differ by more than 5 percent. \n",
      "\t Execution continuing.\n"
     ]
    },
    {
     "name": "stdout",
     "output_type": "stream",
     "text": [
      "Processing from date:  2023-01-16T00:00:00.000000Z\n"
     ]
    },
    {
     "name": "stderr",
     "output_type": "stream",
     "text": [
      " WARNING (norm_resp): computed and reported sensitivities differ by more than 5 percent. \n",
      "\t Execution continuing.\n"
     ]
    },
    {
     "name": "stdout",
     "output_type": "stream",
     "text": [
      "Processing from date:  2023-01-17T00:00:00.000000Z\n"
     ]
    },
    {
     "name": "stderr",
     "output_type": "stream",
     "text": [
      " WARNING (norm_resp): computed and reported sensitivities differ by more than 5 percent. \n",
      "\t Execution continuing.\n"
     ]
    },
    {
     "name": "stdout",
     "output_type": "stream",
     "text": [
      "Processing from date:  2023-01-18T00:00:00.000000Z\n"
     ]
    },
    {
     "name": "stderr",
     "output_type": "stream",
     "text": [
      " WARNING (norm_resp): computed and reported sensitivities differ by more than 5 percent. \n",
      "\t Execution continuing.\n"
     ]
    },
    {
     "name": "stdout",
     "output_type": "stream",
     "text": [
      "Processing from date:  2023-01-19T00:00:00.000000Z\n"
     ]
    },
    {
     "name": "stderr",
     "output_type": "stream",
     "text": [
      " WARNING (norm_resp): computed and reported sensitivities differ by more than 5 percent. \n",
      "\t Execution continuing.\n"
     ]
    },
    {
     "name": "stdout",
     "output_type": "stream",
     "text": [
      "Processing from date:  2023-01-20T00:00:00.000000Z\n"
     ]
    },
    {
     "name": "stderr",
     "output_type": "stream",
     "text": [
      " WARNING (norm_resp): computed and reported sensitivities differ by more than 5 percent. \n",
      "\t Execution continuing.\n"
     ]
    },
    {
     "name": "stdout",
     "output_type": "stream",
     "text": [
      "Processing from date:  2023-01-21T00:00:00.000000Z\n"
     ]
    },
    {
     "name": "stderr",
     "output_type": "stream",
     "text": [
      " WARNING (norm_resp): computed and reported sensitivities differ by more than 5 percent. \n",
      "\t Execution continuing.\n"
     ]
    },
    {
     "name": "stdout",
     "output_type": "stream",
     "text": [
      "Processing from date:  2023-01-22T00:00:00.000000Z\n"
     ]
    },
    {
     "name": "stderr",
     "output_type": "stream",
     "text": [
      " WARNING (norm_resp): computed and reported sensitivities differ by more than 5 percent. \n",
      "\t Execution continuing.\n"
     ]
    },
    {
     "name": "stdout",
     "output_type": "stream",
     "text": [
      "Processing from date:  2023-01-23T00:00:00.000000Z\n"
     ]
    },
    {
     "name": "stderr",
     "output_type": "stream",
     "text": [
      " WARNING (norm_resp): computed and reported sensitivities differ by more than 5 percent. \n",
      "\t Execution continuing.\n"
     ]
    },
    {
     "name": "stdout",
     "output_type": "stream",
     "text": [
      "Processing from date:  2023-01-24T00:00:00.000000Z\n"
     ]
    },
    {
     "name": "stderr",
     "output_type": "stream",
     "text": [
      " WARNING (norm_resp): computed and reported sensitivities differ by more than 5 percent. \n",
      "\t Execution continuing.\n"
     ]
    },
    {
     "name": "stdout",
     "output_type": "stream",
     "text": [
      "Processing from date:  2023-01-25T00:00:00.000000Z\n"
     ]
    },
    {
     "name": "stderr",
     "output_type": "stream",
     "text": [
      " WARNING (norm_resp): computed and reported sensitivities differ by more than 5 percent. \n",
      "\t Execution continuing.\n"
     ]
    },
    {
     "name": "stdout",
     "output_type": "stream",
     "text": [
      "Processing from date:  2023-01-26T00:00:00.000000Z\n"
     ]
    },
    {
     "name": "stderr",
     "output_type": "stream",
     "text": [
      " WARNING (norm_resp): computed and reported sensitivities differ by more than 5 percent. \n",
      "\t Execution continuing.\n"
     ]
    },
    {
     "name": "stdout",
     "output_type": "stream",
     "text": [
      "Processing from date:  2023-01-27T00:00:00.000000Z\n"
     ]
    },
    {
     "name": "stderr",
     "output_type": "stream",
     "text": [
      " WARNING (norm_resp): computed and reported sensitivities differ by more than 5 percent. \n",
      "\t Execution continuing.\n"
     ]
    },
    {
     "name": "stdout",
     "output_type": "stream",
     "text": [
      "Processing from date:  2023-01-28T00:00:00.000000Z\n"
     ]
    },
    {
     "name": "stderr",
     "output_type": "stream",
     "text": [
      " WARNING (norm_resp): computed and reported sensitivities differ by more than 5 percent. \n",
      "\t Execution continuing.\n"
     ]
    },
    {
     "name": "stdout",
     "output_type": "stream",
     "text": [
      "Processing from date:  2023-01-29T00:00:00.000000Z\n"
     ]
    },
    {
     "name": "stderr",
     "output_type": "stream",
     "text": [
      " WARNING (norm_resp): computed and reported sensitivities differ by more than 5 percent. \n",
      "\t Execution continuing.\n"
     ]
    },
    {
     "name": "stdout",
     "output_type": "stream",
     "text": [
      "Processing from date:  2023-01-30T00:00:00.000000Z\n"
     ]
    },
    {
     "name": "stderr",
     "output_type": "stream",
     "text": [
      " WARNING (norm_resp): computed and reported sensitivities differ by more than 5 percent. \n",
      "\t Execution continuing.\n"
     ]
    },
    {
     "name": "stdout",
     "output_type": "stream",
     "text": [
      "Processing from date:  2023-01-31T00:00:00.000000Z\n"
     ]
    },
    {
     "name": "stderr",
     "output_type": "stream",
     "text": [
      " WARNING (norm_resp): computed and reported sensitivities differ by more than 5 percent. \n",
      "\t Execution continuing.\n"
     ]
    },
    {
     "name": "stdout",
     "output_type": "stream",
     "text": [
      "Processing from date:  2023-02-01T00:00:00.000000Z\n"
     ]
    },
    {
     "name": "stderr",
     "output_type": "stream",
     "text": [
      " WARNING (norm_resp): computed and reported sensitivities differ by more than 5 percent. \n",
      "\t Execution continuing.\n"
     ]
    },
    {
     "name": "stdout",
     "output_type": "stream",
     "text": [
      "Processing from date:  2023-02-02T00:00:00.000000Z\n"
     ]
    },
    {
     "name": "stderr",
     "output_type": "stream",
     "text": [
      " WARNING (norm_resp): computed and reported sensitivities differ by more than 5 percent. \n",
      "\t Execution continuing.\n"
     ]
    },
    {
     "name": "stdout",
     "output_type": "stream",
     "text": [
      "Processing from date:  2023-02-03T00:00:00.000000Z\n"
     ]
    },
    {
     "name": "stderr",
     "output_type": "stream",
     "text": [
      " WARNING (norm_resp): computed and reported sensitivities differ by more than 5 percent. \n",
      "\t Execution continuing.\n"
     ]
    },
    {
     "name": "stdout",
     "output_type": "stream",
     "text": [
      "Processing from date:  2023-02-04T00:00:00.000000Z\n"
     ]
    },
    {
     "name": "stderr",
     "output_type": "stream",
     "text": [
      " WARNING (norm_resp): computed and reported sensitivities differ by more than 5 percent. \n",
      "\t Execution continuing.\n"
     ]
    },
    {
     "name": "stdout",
     "output_type": "stream",
     "text": [
      "Processing from date:  2023-02-05T00:00:00.000000Z\n"
     ]
    },
    {
     "name": "stderr",
     "output_type": "stream",
     "text": [
      " WARNING (norm_resp): computed and reported sensitivities differ by more than 5 percent. \n",
      "\t Execution continuing.\n"
     ]
    },
    {
     "name": "stdout",
     "output_type": "stream",
     "text": [
      "Processing from date:  2023-02-06T00:00:00.000000Z\n"
     ]
    },
    {
     "name": "stderr",
     "output_type": "stream",
     "text": [
      " WARNING (norm_resp): computed and reported sensitivities differ by more than 5 percent. \n",
      "\t Execution continuing.\n"
     ]
    },
    {
     "name": "stdout",
     "output_type": "stream",
     "text": [
      "Processing from date:  2023-02-07T00:00:00.000000Z\n"
     ]
    },
    {
     "name": "stderr",
     "output_type": "stream",
     "text": [
      " WARNING (norm_resp): computed and reported sensitivities differ by more than 5 percent. \n",
      "\t Execution continuing.\n"
     ]
    },
    {
     "name": "stdout",
     "output_type": "stream",
     "text": [
      "Processing from date:  2023-02-08T00:00:00.000000Z\n"
     ]
    },
    {
     "name": "stderr",
     "output_type": "stream",
     "text": [
      " WARNING (norm_resp): computed and reported sensitivities differ by more than 5 percent. \n",
      "\t Execution continuing.\n"
     ]
    },
    {
     "name": "stdout",
     "output_type": "stream",
     "text": [
      "Processing from date:  2023-02-09T00:00:00.000000Z\n"
     ]
    },
    {
     "name": "stderr",
     "output_type": "stream",
     "text": [
      " WARNING (norm_resp): computed and reported sensitivities differ by more than 5 percent. \n",
      "\t Execution continuing.\n"
     ]
    },
    {
     "name": "stdout",
     "output_type": "stream",
     "text": [
      "Processing from date:  2023-02-10T00:00:00.000000Z\n"
     ]
    },
    {
     "name": "stderr",
     "output_type": "stream",
     "text": [
      " WARNING (norm_resp): computed and reported sensitivities differ by more than 5 percent. \n",
      "\t Execution continuing.\n"
     ]
    },
    {
     "name": "stdout",
     "output_type": "stream",
     "text": [
      "Processing from date:  2023-02-11T00:00:00.000000Z\n"
     ]
    },
    {
     "name": "stderr",
     "output_type": "stream",
     "text": [
      " WARNING (norm_resp): computed and reported sensitivities differ by more than 5 percent. \n",
      "\t Execution continuing.\n"
     ]
    },
    {
     "name": "stdout",
     "output_type": "stream",
     "text": [
      "Processing from date:  2023-02-12T00:00:00.000000Z\n"
     ]
    },
    {
     "name": "stderr",
     "output_type": "stream",
     "text": [
      " WARNING (norm_resp): computed and reported sensitivities differ by more than 5 percent. \n",
      "\t Execution continuing.\n"
     ]
    },
    {
     "name": "stdout",
     "output_type": "stream",
     "text": [
      "Processing from date:  2023-02-13T00:00:00.000000Z\n"
     ]
    },
    {
     "name": "stderr",
     "output_type": "stream",
     "text": [
      " WARNING (norm_resp): computed and reported sensitivities differ by more than 5 percent. \n",
      "\t Execution continuing.\n"
     ]
    },
    {
     "name": "stdout",
     "output_type": "stream",
     "text": [
      "Processing from date:  2023-02-14T00:00:00.000000Z\n"
     ]
    },
    {
     "name": "stderr",
     "output_type": "stream",
     "text": [
      " WARNING (norm_resp): computed and reported sensitivities differ by more than 5 percent. \n",
      "\t Execution continuing.\n"
     ]
    },
    {
     "name": "stdout",
     "output_type": "stream",
     "text": [
      "Processing from date:  2023-02-15T00:00:00.000000Z\n"
     ]
    },
    {
     "name": "stderr",
     "output_type": "stream",
     "text": [
      " WARNING (norm_resp): computed and reported sensitivities differ by more than 5 percent. \n",
      "\t Execution continuing.\n"
     ]
    },
    {
     "name": "stdout",
     "output_type": "stream",
     "text": [
      "Processing from date:  2023-02-16T00:00:00.000000Z\n"
     ]
    },
    {
     "name": "stderr",
     "output_type": "stream",
     "text": [
      " WARNING (norm_resp): computed and reported sensitivities differ by more than 5 percent. \n",
      "\t Execution continuing.\n"
     ]
    },
    {
     "name": "stdout",
     "output_type": "stream",
     "text": [
      "Processing from date:  2023-02-17T00:00:00.000000Z\n"
     ]
    },
    {
     "name": "stderr",
     "output_type": "stream",
     "text": [
      " WARNING (norm_resp): computed and reported sensitivities differ by more than 5 percent. \n",
      "\t Execution continuing.\n"
     ]
    },
    {
     "name": "stdout",
     "output_type": "stream",
     "text": [
      "Processing from date:  2023-02-18T00:00:00.000000Z\n"
     ]
    },
    {
     "name": "stderr",
     "output_type": "stream",
     "text": [
      " WARNING (norm_resp): computed and reported sensitivities differ by more than 5 percent. \n",
      "\t Execution continuing.\n"
     ]
    },
    {
     "name": "stdout",
     "output_type": "stream",
     "text": [
      "Processing from date:  2023-02-19T00:00:00.000000Z\n"
     ]
    },
    {
     "name": "stderr",
     "output_type": "stream",
     "text": [
      " WARNING (norm_resp): computed and reported sensitivities differ by more than 5 percent. \n",
      "\t Execution continuing.\n"
     ]
    },
    {
     "name": "stdout",
     "output_type": "stream",
     "text": [
      "Processing from date:  2023-02-20T00:00:00.000000Z\n"
     ]
    },
    {
     "name": "stderr",
     "output_type": "stream",
     "text": [
      " WARNING (norm_resp): computed and reported sensitivities differ by more than 5 percent. \n",
      "\t Execution continuing.\n"
     ]
    },
    {
     "name": "stdout",
     "output_type": "stream",
     "text": [
      "Processing from date:  2023-02-21T00:00:00.000000Z\n"
     ]
    },
    {
     "name": "stderr",
     "output_type": "stream",
     "text": [
      " WARNING (norm_resp): computed and reported sensitivities differ by more than 5 percent. \n",
      "\t Execution continuing.\n"
     ]
    },
    {
     "name": "stdout",
     "output_type": "stream",
     "text": [
      "Processing from date:  2023-02-22T00:00:00.000000Z\n"
     ]
    },
    {
     "name": "stderr",
     "output_type": "stream",
     "text": [
      " WARNING (norm_resp): computed and reported sensitivities differ by more than 5 percent. \n",
      "\t Execution continuing.\n"
     ]
    },
    {
     "name": "stdout",
     "output_type": "stream",
     "text": [
      "Processing from date:  2023-02-23T00:00:00.000000Z\n"
     ]
    },
    {
     "name": "stderr",
     "output_type": "stream",
     "text": [
      " WARNING (norm_resp): computed and reported sensitivities differ by more than 5 percent. \n",
      "\t Execution continuing.\n"
     ]
    },
    {
     "name": "stdout",
     "output_type": "stream",
     "text": [
      "Processing from date:  2023-02-24T00:00:00.000000Z\n"
     ]
    },
    {
     "name": "stderr",
     "output_type": "stream",
     "text": [
      " WARNING (norm_resp): computed and reported sensitivities differ by more than 5 percent. \n",
      "\t Execution continuing.\n"
     ]
    },
    {
     "name": "stdout",
     "output_type": "stream",
     "text": [
      "Processing from date:  2023-02-25T00:00:00.000000Z\n"
     ]
    },
    {
     "name": "stderr",
     "output_type": "stream",
     "text": [
      " WARNING (norm_resp): computed and reported sensitivities differ by more than 5 percent. \n",
      "\t Execution continuing.\n"
     ]
    },
    {
     "name": "stdout",
     "output_type": "stream",
     "text": [
      "Processing from date:  2023-02-26T00:00:00.000000Z\n"
     ]
    },
    {
     "name": "stderr",
     "output_type": "stream",
     "text": [
      " WARNING (norm_resp): computed and reported sensitivities differ by more than 5 percent. \n",
      "\t Execution continuing.\n"
     ]
    },
    {
     "name": "stdout",
     "output_type": "stream",
     "text": [
      "Processing from date:  2023-02-27T00:00:00.000000Z\n"
     ]
    },
    {
     "name": "stderr",
     "output_type": "stream",
     "text": [
      " WARNING (norm_resp): computed and reported sensitivities differ by more than 5 percent. \n",
      "\t Execution continuing.\n"
     ]
    },
    {
     "name": "stdout",
     "output_type": "stream",
     "text": [
      "Processing from date:  2023-02-28T00:00:00.000000Z\n"
     ]
    },
    {
     "name": "stderr",
     "output_type": "stream",
     "text": [
      " WARNING (norm_resp): computed and reported sensitivities differ by more than 5 percent. \n",
      "\t Execution continuing.\n"
     ]
    },
    {
     "name": "stdout",
     "output_type": "stream",
     "text": [
      "Processing from date:  2023-03-01T00:00:00.000000Z\n"
     ]
    },
    {
     "name": "stderr",
     "output_type": "stream",
     "text": [
      " WARNING (norm_resp): computed and reported sensitivities differ by more than 5 percent. \n",
      "\t Execution continuing.\n"
     ]
    },
    {
     "name": "stdout",
     "output_type": "stream",
     "text": [
      "Processing from date:  2023-03-02T00:00:00.000000Z\n"
     ]
    },
    {
     "name": "stderr",
     "output_type": "stream",
     "text": [
      " WARNING (norm_resp): computed and reported sensitivities differ by more than 5 percent. \n",
      "\t Execution continuing.\n"
     ]
    },
    {
     "name": "stdout",
     "output_type": "stream",
     "text": [
      "Processing from date:  2023-03-03T00:00:00.000000Z\n"
     ]
    },
    {
     "name": "stderr",
     "output_type": "stream",
     "text": [
      " WARNING (norm_resp): computed and reported sensitivities differ by more than 5 percent. \n",
      "\t Execution continuing.\n"
     ]
    },
    {
     "name": "stdout",
     "output_type": "stream",
     "text": [
      "Processing from date:  2023-03-04T00:00:00.000000Z\n"
     ]
    },
    {
     "name": "stderr",
     "output_type": "stream",
     "text": [
      " WARNING (norm_resp): computed and reported sensitivities differ by more than 5 percent. \n",
      "\t Execution continuing.\n"
     ]
    },
    {
     "name": "stdout",
     "output_type": "stream",
     "text": [
      "Processing from date:  2023-03-05T00:00:00.000000Z\n"
     ]
    },
    {
     "name": "stderr",
     "output_type": "stream",
     "text": [
      " WARNING (norm_resp): computed and reported sensitivities differ by more than 5 percent. \n",
      "\t Execution continuing.\n"
     ]
    },
    {
     "name": "stdout",
     "output_type": "stream",
     "text": [
      "Processing from date:  2023-03-06T00:00:00.000000Z\n"
     ]
    },
    {
     "name": "stderr",
     "output_type": "stream",
     "text": [
      " WARNING (norm_resp): computed and reported sensitivities differ by more than 5 percent. \n",
      "\t Execution continuing.\n"
     ]
    },
    {
     "name": "stdout",
     "output_type": "stream",
     "text": [
      "Processing from date:  2023-03-07T00:00:00.000000Z\n"
     ]
    },
    {
     "name": "stderr",
     "output_type": "stream",
     "text": [
      " WARNING (norm_resp): computed and reported sensitivities differ by more than 5 percent. \n",
      "\t Execution continuing.\n"
     ]
    },
    {
     "name": "stdout",
     "output_type": "stream",
     "text": [
      "Processing from date:  2023-03-08T00:00:00.000000Z\n"
     ]
    },
    {
     "name": "stderr",
     "output_type": "stream",
     "text": [
      " WARNING (norm_resp): computed and reported sensitivities differ by more than 5 percent. \n",
      "\t Execution continuing.\n"
     ]
    },
    {
     "name": "stdout",
     "output_type": "stream",
     "text": [
      "Processing from date:  2023-03-09T00:00:00.000000Z\n"
     ]
    },
    {
     "name": "stderr",
     "output_type": "stream",
     "text": [
      " WARNING (norm_resp): computed and reported sensitivities differ by more than 5 percent. \n",
      "\t Execution continuing.\n"
     ]
    },
    {
     "name": "stdout",
     "output_type": "stream",
     "text": [
      "Processing from date:  2023-03-10T00:00:00.000000Z\n"
     ]
    },
    {
     "name": "stderr",
     "output_type": "stream",
     "text": [
      " WARNING (norm_resp): computed and reported sensitivities differ by more than 5 percent. \n",
      "\t Execution continuing.\n"
     ]
    },
    {
     "name": "stdout",
     "output_type": "stream",
     "text": [
      "Processing from date:  2023-03-11T00:00:00.000000Z\n"
     ]
    },
    {
     "name": "stderr",
     "output_type": "stream",
     "text": [
      " WARNING (norm_resp): computed and reported sensitivities differ by more than 5 percent. \n",
      "\t Execution continuing.\n"
     ]
    },
    {
     "name": "stdout",
     "output_type": "stream",
     "text": [
      "Processing from date:  2023-03-12T00:00:00.000000Z\n"
     ]
    },
    {
     "name": "stderr",
     "output_type": "stream",
     "text": [
      " WARNING (norm_resp): computed and reported sensitivities differ by more than 5 percent. \n",
      "\t Execution continuing.\n"
     ]
    },
    {
     "name": "stdout",
     "output_type": "stream",
     "text": [
      "Processing from date:  2023-03-13T00:00:00.000000Z\n"
     ]
    },
    {
     "name": "stderr",
     "output_type": "stream",
     "text": [
      " WARNING (norm_resp): computed and reported sensitivities differ by more than 5 percent. \n",
      "\t Execution continuing.\n"
     ]
    },
    {
     "name": "stdout",
     "output_type": "stream",
     "text": [
      "Processing from date:  2023-03-14T00:00:00.000000Z\n"
     ]
    },
    {
     "name": "stderr",
     "output_type": "stream",
     "text": [
      " WARNING (norm_resp): computed and reported sensitivities differ by more than 5 percent. \n",
      "\t Execution continuing.\n"
     ]
    },
    {
     "name": "stdout",
     "output_type": "stream",
     "text": [
      "Processing from date:  2023-03-15T00:00:00.000000Z\n"
     ]
    },
    {
     "name": "stderr",
     "output_type": "stream",
     "text": [
      " WARNING (norm_resp): computed and reported sensitivities differ by more than 5 percent. \n",
      "\t Execution continuing.\n"
     ]
    },
    {
     "name": "stdout",
     "output_type": "stream",
     "text": [
      "Processing from date:  2023-03-16T00:00:00.000000Z\n"
     ]
    },
    {
     "name": "stderr",
     "output_type": "stream",
     "text": [
      " WARNING (norm_resp): computed and reported sensitivities differ by more than 5 percent. \n",
      "\t Execution continuing.\n"
     ]
    },
    {
     "name": "stdout",
     "output_type": "stream",
     "text": [
      "Processing from date:  2023-03-17T00:00:00.000000Z\n"
     ]
    },
    {
     "name": "stderr",
     "output_type": "stream",
     "text": [
      " WARNING (norm_resp): computed and reported sensitivities differ by more than 5 percent. \n",
      "\t Execution continuing.\n"
     ]
    },
    {
     "name": "stdout",
     "output_type": "stream",
     "text": [
      "Processing from date:  2023-03-18T00:00:00.000000Z\n"
     ]
    },
    {
     "name": "stderr",
     "output_type": "stream",
     "text": [
      " WARNING (norm_resp): computed and reported sensitivities differ by more than 5 percent. \n",
      "\t Execution continuing.\n"
     ]
    },
    {
     "name": "stdout",
     "output_type": "stream",
     "text": [
      "Processing from date:  2023-03-19T00:00:00.000000Z\n"
     ]
    },
    {
     "name": "stderr",
     "output_type": "stream",
     "text": [
      " WARNING (norm_resp): computed and reported sensitivities differ by more than 5 percent. \n",
      "\t Execution continuing.\n"
     ]
    },
    {
     "name": "stdout",
     "output_type": "stream",
     "text": [
      "Processing from date:  2023-03-20T00:00:00.000000Z\n"
     ]
    },
    {
     "name": "stderr",
     "output_type": "stream",
     "text": [
      " WARNING (norm_resp): computed and reported sensitivities differ by more than 5 percent. \n",
      "\t Execution continuing.\n"
     ]
    },
    {
     "name": "stdout",
     "output_type": "stream",
     "text": [
      "Processing from date:  2023-03-21T00:00:00.000000Z\n"
     ]
    },
    {
     "name": "stderr",
     "output_type": "stream",
     "text": [
      " WARNING (norm_resp): computed and reported sensitivities differ by more than 5 percent. \n",
      "\t Execution continuing.\n"
     ]
    },
    {
     "name": "stdout",
     "output_type": "stream",
     "text": [
      "Processing from date:  2023-03-22T00:00:00.000000Z\n"
     ]
    },
    {
     "name": "stderr",
     "output_type": "stream",
     "text": [
      " WARNING (norm_resp): computed and reported sensitivities differ by more than 5 percent. \n",
      "\t Execution continuing.\n"
     ]
    },
    {
     "name": "stdout",
     "output_type": "stream",
     "text": [
      "Processing from date:  2023-03-23T00:00:00.000000Z\n"
     ]
    },
    {
     "name": "stderr",
     "output_type": "stream",
     "text": [
      " WARNING (norm_resp): computed and reported sensitivities differ by more than 5 percent. \n",
      "\t Execution continuing.\n"
     ]
    },
    {
     "name": "stdout",
     "output_type": "stream",
     "text": [
      "Processing from date:  2023-03-24T00:00:00.000000Z\n"
     ]
    },
    {
     "name": "stderr",
     "output_type": "stream",
     "text": [
      " WARNING (norm_resp): computed and reported sensitivities differ by more than 5 percent. \n",
      "\t Execution continuing.\n"
     ]
    },
    {
     "name": "stdout",
     "output_type": "stream",
     "text": [
      "Processing from date:  2023-03-25T00:00:00.000000Z\n"
     ]
    },
    {
     "name": "stderr",
     "output_type": "stream",
     "text": [
      " WARNING (norm_resp): computed and reported sensitivities differ by more than 5 percent. \n",
      "\t Execution continuing.\n"
     ]
    },
    {
     "name": "stdout",
     "output_type": "stream",
     "text": [
      "Processing from date:  2023-03-26T00:00:00.000000Z\n"
     ]
    },
    {
     "name": "stderr",
     "output_type": "stream",
     "text": [
      " WARNING (norm_resp): computed and reported sensitivities differ by more than 5 percent. \n",
      "\t Execution continuing.\n"
     ]
    },
    {
     "name": "stdout",
     "output_type": "stream",
     "text": [
      "Processing from date:  2023-03-27T00:00:00.000000Z\n"
     ]
    },
    {
     "name": "stderr",
     "output_type": "stream",
     "text": [
      " WARNING (norm_resp): computed and reported sensitivities differ by more than 5 percent. \n",
      "\t Execution continuing.\n"
     ]
    },
    {
     "name": "stdout",
     "output_type": "stream",
     "text": [
      "Processing from date:  2023-03-28T00:00:00.000000Z\n"
     ]
    },
    {
     "name": "stderr",
     "output_type": "stream",
     "text": [
      " WARNING (norm_resp): computed and reported sensitivities differ by more than 5 percent. \n",
      "\t Execution continuing.\n"
     ]
    },
    {
     "name": "stdout",
     "output_type": "stream",
     "text": [
      "Processing from date:  2023-03-29T00:00:00.000000Z\n"
     ]
    },
    {
     "name": "stderr",
     "output_type": "stream",
     "text": [
      " WARNING (norm_resp): computed and reported sensitivities differ by more than 5 percent. \n",
      "\t Execution continuing.\n"
     ]
    },
    {
     "name": "stdout",
     "output_type": "stream",
     "text": [
      "Processing from date:  2023-03-30T00:00:00.000000Z\n"
     ]
    },
    {
     "name": "stderr",
     "output_type": "stream",
     "text": [
      " WARNING (norm_resp): computed and reported sensitivities differ by more than 5 percent. \n",
      "\t Execution continuing.\n"
     ]
    },
    {
     "name": "stdout",
     "output_type": "stream",
     "text": [
      "Processing from date:  2023-03-31T00:00:00.000000Z\n"
     ]
    },
    {
     "name": "stderr",
     "output_type": "stream",
     "text": [
      " WARNING (norm_resp): computed and reported sensitivities differ by more than 5 percent. \n",
      "\t Execution continuing.\n"
     ]
    },
    {
     "name": "stdout",
     "output_type": "stream",
     "text": [
      "Processing from date:  2023-04-01T00:00:00.000000Z\n"
     ]
    },
    {
     "name": "stderr",
     "output_type": "stream",
     "text": [
      " WARNING (norm_resp): computed and reported sensitivities differ by more than 5 percent. \n",
      "\t Execution continuing.\n"
     ]
    },
    {
     "name": "stdout",
     "output_type": "stream",
     "text": [
      "Processing from date:  2023-04-02T00:00:00.000000Z\n"
     ]
    },
    {
     "name": "stderr",
     "output_type": "stream",
     "text": [
      " WARNING (norm_resp): computed and reported sensitivities differ by more than 5 percent. \n",
      "\t Execution continuing.\n"
     ]
    },
    {
     "name": "stdout",
     "output_type": "stream",
     "text": [
      "Processing from date:  2023-04-03T00:00:00.000000Z\n"
     ]
    },
    {
     "name": "stderr",
     "output_type": "stream",
     "text": [
      " WARNING (norm_resp): computed and reported sensitivities differ by more than 5 percent. \n",
      "\t Execution continuing.\n"
     ]
    },
    {
     "name": "stdout",
     "output_type": "stream",
     "text": [
      "Processing from date:  2023-04-04T00:00:00.000000Z\n"
     ]
    },
    {
     "name": "stderr",
     "output_type": "stream",
     "text": [
      " WARNING (norm_resp): computed and reported sensitivities differ by more than 5 percent. \n",
      "\t Execution continuing.\n"
     ]
    },
    {
     "name": "stdout",
     "output_type": "stream",
     "text": [
      "Processing from date:  2023-04-05T00:00:00.000000Z\n"
     ]
    },
    {
     "name": "stderr",
     "output_type": "stream",
     "text": [
      " WARNING (norm_resp): computed and reported sensitivities differ by more than 5 percent. \n",
      "\t Execution continuing.\n"
     ]
    },
    {
     "name": "stdout",
     "output_type": "stream",
     "text": [
      "Processing from date:  2023-04-06T00:00:00.000000Z\n"
     ]
    },
    {
     "name": "stderr",
     "output_type": "stream",
     "text": [
      " WARNING (norm_resp): computed and reported sensitivities differ by more than 5 percent. \n",
      "\t Execution continuing.\n"
     ]
    },
    {
     "name": "stdout",
     "output_type": "stream",
     "text": [
      "Processing from date:  2023-04-07T00:00:00.000000Z\n"
     ]
    },
    {
     "name": "stderr",
     "output_type": "stream",
     "text": [
      " WARNING (norm_resp): computed and reported sensitivities differ by more than 5 percent. \n",
      "\t Execution continuing.\n"
     ]
    },
    {
     "name": "stdout",
     "output_type": "stream",
     "text": [
      "Processing from date:  2023-04-08T00:00:00.000000Z\n"
     ]
    },
    {
     "name": "stderr",
     "output_type": "stream",
     "text": [
      " WARNING (norm_resp): computed and reported sensitivities differ by more than 5 percent. \n",
      "\t Execution continuing.\n"
     ]
    },
    {
     "name": "stdout",
     "output_type": "stream",
     "text": [
      "Processing from date:  2023-04-09T00:00:00.000000Z\n"
     ]
    },
    {
     "name": "stderr",
     "output_type": "stream",
     "text": [
      " WARNING (norm_resp): computed and reported sensitivities differ by more than 5 percent. \n",
      "\t Execution continuing.\n"
     ]
    },
    {
     "name": "stdout",
     "output_type": "stream",
     "text": [
      "Processing from date:  2023-04-10T00:00:00.000000Z\n"
     ]
    },
    {
     "name": "stderr",
     "output_type": "stream",
     "text": [
      " WARNING (norm_resp): computed and reported sensitivities differ by more than 5 percent. \n",
      "\t Execution continuing.\n"
     ]
    },
    {
     "name": "stdout",
     "output_type": "stream",
     "text": [
      "Processing from date:  2023-04-11T00:00:00.000000Z\n"
     ]
    },
    {
     "name": "stderr",
     "output_type": "stream",
     "text": [
      " WARNING (norm_resp): computed and reported sensitivities differ by more than 5 percent. \n",
      "\t Execution continuing.\n"
     ]
    },
    {
     "name": "stdout",
     "output_type": "stream",
     "text": [
      "Processing from date:  2023-04-12T00:00:00.000000Z\n"
     ]
    },
    {
     "name": "stderr",
     "output_type": "stream",
     "text": [
      " WARNING (norm_resp): computed and reported sensitivities differ by more than 5 percent. \n",
      "\t Execution continuing.\n"
     ]
    },
    {
     "name": "stdout",
     "output_type": "stream",
     "text": [
      "Processing from date:  2023-04-13T00:00:00.000000Z\n"
     ]
    },
    {
     "name": "stderr",
     "output_type": "stream",
     "text": [
      " WARNING (norm_resp): computed and reported sensitivities differ by more than 5 percent. \n",
      "\t Execution continuing.\n"
     ]
    },
    {
     "name": "stdout",
     "output_type": "stream",
     "text": [
      "Processing from date:  2023-04-14T00:00:00.000000Z\n"
     ]
    },
    {
     "name": "stderr",
     "output_type": "stream",
     "text": [
      " WARNING (norm_resp): computed and reported sensitivities differ by more than 5 percent. \n",
      "\t Execution continuing.\n"
     ]
    },
    {
     "name": "stdout",
     "output_type": "stream",
     "text": [
      "Processing from date:  2023-04-15T00:00:00.000000Z\n"
     ]
    },
    {
     "name": "stderr",
     "output_type": "stream",
     "text": [
      " WARNING (norm_resp): computed and reported sensitivities differ by more than 5 percent. \n",
      "\t Execution continuing.\n"
     ]
    },
    {
     "name": "stdout",
     "output_type": "stream",
     "text": [
      "Processing from date:  2023-04-16T00:00:00.000000Z\n"
     ]
    },
    {
     "name": "stderr",
     "output_type": "stream",
     "text": [
      " WARNING (norm_resp): computed and reported sensitivities differ by more than 5 percent. \n",
      "\t Execution continuing.\n"
     ]
    },
    {
     "name": "stdout",
     "output_type": "stream",
     "text": [
      "Processing from date:  2023-04-17T00:00:00.000000Z\n"
     ]
    },
    {
     "name": "stderr",
     "output_type": "stream",
     "text": [
      " WARNING (norm_resp): computed and reported sensitivities differ by more than 5 percent. \n",
      "\t Execution continuing.\n"
     ]
    },
    {
     "name": "stdout",
     "output_type": "stream",
     "text": [
      "Processing from date:  2023-04-18T00:00:00.000000Z\n"
     ]
    },
    {
     "name": "stderr",
     "output_type": "stream",
     "text": [
      " WARNING (norm_resp): computed and reported sensitivities differ by more than 5 percent. \n",
      "\t Execution continuing.\n"
     ]
    },
    {
     "name": "stdout",
     "output_type": "stream",
     "text": [
      "Processing from date:  2023-04-19T00:00:00.000000Z\n"
     ]
    },
    {
     "name": "stderr",
     "output_type": "stream",
     "text": [
      " WARNING (norm_resp): computed and reported sensitivities differ by more than 5 percent. \n",
      "\t Execution continuing.\n"
     ]
    },
    {
     "name": "stdout",
     "output_type": "stream",
     "text": [
      "Processing from date:  2023-04-20T00:00:00.000000Z\n"
     ]
    },
    {
     "name": "stderr",
     "output_type": "stream",
     "text": [
      " WARNING (norm_resp): computed and reported sensitivities differ by more than 5 percent. \n",
      "\t Execution continuing.\n"
     ]
    },
    {
     "name": "stdout",
     "output_type": "stream",
     "text": [
      "Processing from date:  2023-04-21T00:00:00.000000Z\n"
     ]
    },
    {
     "name": "stderr",
     "output_type": "stream",
     "text": [
      " WARNING (norm_resp): computed and reported sensitivities differ by more than 5 percent. \n",
      "\t Execution continuing.\n"
     ]
    },
    {
     "name": "stdout",
     "output_type": "stream",
     "text": [
      "Processing from date:  2023-04-22T00:00:00.000000Z\n"
     ]
    },
    {
     "name": "stderr",
     "output_type": "stream",
     "text": [
      " WARNING (norm_resp): computed and reported sensitivities differ by more than 5 percent. \n",
      "\t Execution continuing.\n"
     ]
    },
    {
     "name": "stdout",
     "output_type": "stream",
     "text": [
      "Processing from date:  2023-04-23T00:00:00.000000Z\n"
     ]
    },
    {
     "name": "stderr",
     "output_type": "stream",
     "text": [
      " WARNING (norm_resp): computed and reported sensitivities differ by more than 5 percent. \n",
      "\t Execution continuing.\n"
     ]
    },
    {
     "name": "stdout",
     "output_type": "stream",
     "text": [
      "Processing from date:  2023-04-24T00:00:00.000000Z\n"
     ]
    },
    {
     "name": "stderr",
     "output_type": "stream",
     "text": [
      " WARNING (norm_resp): computed and reported sensitivities differ by more than 5 percent. \n",
      "\t Execution continuing.\n"
     ]
    },
    {
     "name": "stdout",
     "output_type": "stream",
     "text": [
      "Processing from date:  2023-04-25T00:00:00.000000Z\n"
     ]
    },
    {
     "name": "stderr",
     "output_type": "stream",
     "text": [
      " WARNING (norm_resp): computed and reported sensitivities differ by more than 5 percent. \n",
      "\t Execution continuing.\n"
     ]
    },
    {
     "name": "stdout",
     "output_type": "stream",
     "text": [
      "Processing from date:  2023-04-26T00:00:00.000000Z\n"
     ]
    },
    {
     "name": "stderr",
     "output_type": "stream",
     "text": [
      " WARNING (norm_resp): computed and reported sensitivities differ by more than 5 percent. \n",
      "\t Execution continuing.\n"
     ]
    },
    {
     "name": "stdout",
     "output_type": "stream",
     "text": [
      "Processing from date:  2023-04-27T00:00:00.000000Z\n"
     ]
    },
    {
     "name": "stderr",
     "output_type": "stream",
     "text": [
      " WARNING (norm_resp): computed and reported sensitivities differ by more than 5 percent. \n",
      "\t Execution continuing.\n"
     ]
    },
    {
     "name": "stdout",
     "output_type": "stream",
     "text": [
      "Processing from date:  2023-04-28T00:00:00.000000Z\n"
     ]
    },
    {
     "name": "stderr",
     "output_type": "stream",
     "text": [
      " WARNING (norm_resp): computed and reported sensitivities differ by more than 5 percent. \n",
      "\t Execution continuing.\n"
     ]
    },
    {
     "name": "stdout",
     "output_type": "stream",
     "text": [
      "Processing from date:  2023-04-29T00:00:00.000000Z\n"
     ]
    },
    {
     "name": "stderr",
     "output_type": "stream",
     "text": [
      " WARNING (norm_resp): computed and reported sensitivities differ by more than 5 percent. \n",
      "\t Execution continuing.\n"
     ]
    },
    {
     "name": "stdout",
     "output_type": "stream",
     "text": [
      "Processing from date:  2023-04-30T00:00:00.000000Z\n"
     ]
    },
    {
     "name": "stderr",
     "output_type": "stream",
     "text": [
      " WARNING (norm_resp): computed and reported sensitivities differ by more than 5 percent. \n",
      "\t Execution continuing.\n"
     ]
    },
    {
     "name": "stdout",
     "output_type": "stream",
     "text": [
      "Processing from date:  2023-05-01T00:00:00.000000Z\n"
     ]
    },
    {
     "name": "stderr",
     "output_type": "stream",
     "text": [
      " WARNING (norm_resp): computed and reported sensitivities differ by more than 5 percent. \n",
      "\t Execution continuing.\n"
     ]
    },
    {
     "name": "stdout",
     "output_type": "stream",
     "text": [
      "Processing from date:  2023-05-02T00:00:00.000000Z\n"
     ]
    },
    {
     "name": "stderr",
     "output_type": "stream",
     "text": [
      " WARNING (norm_resp): computed and reported sensitivities differ by more than 5 percent. \n",
      "\t Execution continuing.\n"
     ]
    },
    {
     "name": "stdout",
     "output_type": "stream",
     "text": [
      "Processing from date:  2023-05-03T00:00:00.000000Z\n"
     ]
    },
    {
     "name": "stderr",
     "output_type": "stream",
     "text": [
      " WARNING (norm_resp): computed and reported sensitivities differ by more than 5 percent. \n",
      "\t Execution continuing.\n"
     ]
    },
    {
     "name": "stdout",
     "output_type": "stream",
     "text": [
      "Processing from date:  2023-05-04T00:00:00.000000Z\n"
     ]
    },
    {
     "name": "stderr",
     "output_type": "stream",
     "text": [
      " WARNING (norm_resp): computed and reported sensitivities differ by more than 5 percent. \n",
      "\t Execution continuing.\n"
     ]
    },
    {
     "name": "stdout",
     "output_type": "stream",
     "text": [
      "Processing from date:  2023-05-05T00:00:00.000000Z\n"
     ]
    },
    {
     "name": "stderr",
     "output_type": "stream",
     "text": [
      " WARNING (norm_resp): computed and reported sensitivities differ by more than 5 percent. \n",
      "\t Execution continuing.\n"
     ]
    },
    {
     "name": "stdout",
     "output_type": "stream",
     "text": [
      "Processing from date:  2023-05-06T00:00:00.000000Z\n"
     ]
    },
    {
     "name": "stderr",
     "output_type": "stream",
     "text": [
      " WARNING (norm_resp): computed and reported sensitivities differ by more than 5 percent. \n",
      "\t Execution continuing.\n"
     ]
    },
    {
     "name": "stdout",
     "output_type": "stream",
     "text": [
      "Processing from date:  2023-05-07T00:00:00.000000Z\n"
     ]
    },
    {
     "name": "stderr",
     "output_type": "stream",
     "text": [
      " WARNING (norm_resp): computed and reported sensitivities differ by more than 5 percent. \n",
      "\t Execution continuing.\n"
     ]
    },
    {
     "name": "stdout",
     "output_type": "stream",
     "text": [
      "Processing from date:  2023-05-08T00:00:00.000000Z\n"
     ]
    },
    {
     "name": "stderr",
     "output_type": "stream",
     "text": [
      " WARNING (norm_resp): computed and reported sensitivities differ by more than 5 percent. \n",
      "\t Execution continuing.\n"
     ]
    },
    {
     "name": "stdout",
     "output_type": "stream",
     "text": [
      "Processing from date:  2023-05-09T00:00:00.000000Z\n"
     ]
    },
    {
     "name": "stderr",
     "output_type": "stream",
     "text": [
      " WARNING (norm_resp): computed and reported sensitivities differ by more than 5 percent. \n",
      "\t Execution continuing.\n"
     ]
    },
    {
     "name": "stdout",
     "output_type": "stream",
     "text": [
      "Processing from date:  2023-05-10T00:00:00.000000Z\n"
     ]
    },
    {
     "name": "stderr",
     "output_type": "stream",
     "text": [
      " WARNING (norm_resp): computed and reported sensitivities differ by more than 5 percent. \n",
      "\t Execution continuing.\n"
     ]
    },
    {
     "name": "stdout",
     "output_type": "stream",
     "text": [
      "Processing from date:  2023-05-11T00:00:00.000000Z\n"
     ]
    },
    {
     "name": "stderr",
     "output_type": "stream",
     "text": [
      " WARNING (norm_resp): computed and reported sensitivities differ by more than 5 percent. \n",
      "\t Execution continuing.\n"
     ]
    },
    {
     "name": "stdout",
     "output_type": "stream",
     "text": [
      "Processing from date:  2023-05-12T00:00:00.000000Z\n"
     ]
    },
    {
     "name": "stderr",
     "output_type": "stream",
     "text": [
      " WARNING (norm_resp): computed and reported sensitivities differ by more than 5 percent. \n",
      "\t Execution continuing.\n"
     ]
    },
    {
     "name": "stdout",
     "output_type": "stream",
     "text": [
      "Processing from date:  2023-05-13T00:00:00.000000Z\n"
     ]
    },
    {
     "name": "stderr",
     "output_type": "stream",
     "text": [
      " WARNING (norm_resp): computed and reported sensitivities differ by more than 5 percent. \n",
      "\t Execution continuing.\n"
     ]
    },
    {
     "name": "stdout",
     "output_type": "stream",
     "text": [
      "Processing from date:  2023-05-14T00:00:00.000000Z\n"
     ]
    },
    {
     "name": "stderr",
     "output_type": "stream",
     "text": [
      " WARNING (norm_resp): computed and reported sensitivities differ by more than 5 percent. \n",
      "\t Execution continuing.\n"
     ]
    },
    {
     "name": "stdout",
     "output_type": "stream",
     "text": [
      "Processing from date:  2023-05-15T00:00:00.000000Z\n"
     ]
    },
    {
     "name": "stderr",
     "output_type": "stream",
     "text": [
      " WARNING (norm_resp): computed and reported sensitivities differ by more than 5 percent. \n",
      "\t Execution continuing.\n"
     ]
    },
    {
     "name": "stdout",
     "output_type": "stream",
     "text": [
      "Processing from date:  2023-05-16T00:00:00.000000Z\n"
     ]
    },
    {
     "name": "stderr",
     "output_type": "stream",
     "text": [
      " WARNING (norm_resp): computed and reported sensitivities differ by more than 5 percent. \n",
      "\t Execution continuing.\n"
     ]
    },
    {
     "name": "stdout",
     "output_type": "stream",
     "text": [
      "Processing from date:  2023-05-17T00:00:00.000000Z\n"
     ]
    },
    {
     "name": "stderr",
     "output_type": "stream",
     "text": [
      " WARNING (norm_resp): computed and reported sensitivities differ by more than 5 percent. \n",
      "\t Execution continuing.\n"
     ]
    },
    {
     "name": "stdout",
     "output_type": "stream",
     "text": [
      "Processing from date:  2023-05-18T00:00:00.000000Z\n"
     ]
    },
    {
     "name": "stderr",
     "output_type": "stream",
     "text": [
      " WARNING (norm_resp): computed and reported sensitivities differ by more than 5 percent. \n",
      "\t Execution continuing.\n"
     ]
    },
    {
     "name": "stdout",
     "output_type": "stream",
     "text": [
      "Processing from date:  2023-05-19T00:00:00.000000Z\n"
     ]
    },
    {
     "name": "stderr",
     "output_type": "stream",
     "text": [
      " WARNING (norm_resp): computed and reported sensitivities differ by more than 5 percent. \n",
      "\t Execution continuing.\n"
     ]
    },
    {
     "name": "stdout",
     "output_type": "stream",
     "text": [
      "Processing from date:  2023-05-20T00:00:00.000000Z\n"
     ]
    },
    {
     "name": "stderr",
     "output_type": "stream",
     "text": [
      " WARNING (norm_resp): computed and reported sensitivities differ by more than 5 percent. \n",
      "\t Execution continuing.\n"
     ]
    },
    {
     "name": "stdout",
     "output_type": "stream",
     "text": [
      "Processing from date:  2023-05-21T00:00:00.000000Z\n"
     ]
    },
    {
     "name": "stderr",
     "output_type": "stream",
     "text": [
      " WARNING (norm_resp): computed and reported sensitivities differ by more than 5 percent. \n",
      "\t Execution continuing.\n"
     ]
    },
    {
     "name": "stdout",
     "output_type": "stream",
     "text": [
      "Processing from date:  2023-05-22T00:00:00.000000Z\n"
     ]
    },
    {
     "name": "stderr",
     "output_type": "stream",
     "text": [
      " WARNING (norm_resp): computed and reported sensitivities differ by more than 5 percent. \n",
      "\t Execution continuing.\n"
     ]
    },
    {
     "name": "stdout",
     "output_type": "stream",
     "text": [
      "Processing from date:  2023-05-23T00:00:00.000000Z\n"
     ]
    },
    {
     "name": "stderr",
     "output_type": "stream",
     "text": [
      " WARNING (norm_resp): computed and reported sensitivities differ by more than 5 percent. \n",
      "\t Execution continuing.\n"
     ]
    },
    {
     "name": "stdout",
     "output_type": "stream",
     "text": [
      "Processing from date:  2023-05-24T00:00:00.000000Z\n"
     ]
    },
    {
     "name": "stderr",
     "output_type": "stream",
     "text": [
      " WARNING (norm_resp): computed and reported sensitivities differ by more than 5 percent. \n",
      "\t Execution continuing.\n"
     ]
    },
    {
     "name": "stdout",
     "output_type": "stream",
     "text": [
      "Processing from date:  2023-05-25T00:00:00.000000Z\n"
     ]
    },
    {
     "name": "stderr",
     "output_type": "stream",
     "text": [
      " WARNING (norm_resp): computed and reported sensitivities differ by more than 5 percent. \n",
      "\t Execution continuing.\n"
     ]
    },
    {
     "name": "stdout",
     "output_type": "stream",
     "text": [
      "Processing from date:  2023-05-26T00:00:00.000000Z\n"
     ]
    },
    {
     "name": "stderr",
     "output_type": "stream",
     "text": [
      " WARNING (norm_resp): computed and reported sensitivities differ by more than 5 percent. \n",
      "\t Execution continuing.\n"
     ]
    },
    {
     "name": "stdout",
     "output_type": "stream",
     "text": [
      "Processing from date:  2023-05-27T00:00:00.000000Z\n"
     ]
    },
    {
     "name": "stderr",
     "output_type": "stream",
     "text": [
      " WARNING (norm_resp): computed and reported sensitivities differ by more than 5 percent. \n",
      "\t Execution continuing.\n"
     ]
    },
    {
     "name": "stdout",
     "output_type": "stream",
     "text": [
      "Processing from date:  2023-05-28T00:00:00.000000Z\n"
     ]
    },
    {
     "name": "stderr",
     "output_type": "stream",
     "text": [
      " WARNING (norm_resp): computed and reported sensitivities differ by more than 5 percent. \n",
      "\t Execution continuing.\n"
     ]
    },
    {
     "name": "stdout",
     "output_type": "stream",
     "text": [
      "Processing from date:  2023-05-29T00:00:00.000000Z\n"
     ]
    },
    {
     "name": "stderr",
     "output_type": "stream",
     "text": [
      " WARNING (norm_resp): computed and reported sensitivities differ by more than 5 percent. \n",
      "\t Execution continuing.\n"
     ]
    },
    {
     "name": "stdout",
     "output_type": "stream",
     "text": [
      "Processing from date:  2023-05-30T00:00:00.000000Z\n"
     ]
    },
    {
     "name": "stderr",
     "output_type": "stream",
     "text": [
      " WARNING (norm_resp): computed and reported sensitivities differ by more than 5 percent. \n",
      "\t Execution continuing.\n"
     ]
    },
    {
     "name": "stdout",
     "output_type": "stream",
     "text": [
      "Processing from date:  2023-05-31T00:00:00.000000Z\n"
     ]
    },
    {
     "name": "stderr",
     "output_type": "stream",
     "text": [
      " WARNING (norm_resp): computed and reported sensitivities differ by more than 5 percent. \n",
      "\t Execution continuing.\n"
     ]
    },
    {
     "name": "stdout",
     "output_type": "stream",
     "text": [
      "Processing from date:  2023-06-01T00:00:00.000000Z\n"
     ]
    },
    {
     "name": "stderr",
     "output_type": "stream",
     "text": [
      " WARNING (norm_resp): computed and reported sensitivities differ by more than 5 percent. \n",
      "\t Execution continuing.\n"
     ]
    },
    {
     "name": "stdout",
     "output_type": "stream",
     "text": [
      "Processing from date:  2023-06-02T00:00:00.000000Z\n"
     ]
    },
    {
     "name": "stderr",
     "output_type": "stream",
     "text": [
      " WARNING (norm_resp): computed and reported sensitivities differ by more than 5 percent. \n",
      "\t Execution continuing.\n"
     ]
    },
    {
     "name": "stdout",
     "output_type": "stream",
     "text": [
      "Processing from date:  2023-06-03T00:00:00.000000Z\n"
     ]
    },
    {
     "name": "stderr",
     "output_type": "stream",
     "text": [
      " WARNING (norm_resp): computed and reported sensitivities differ by more than 5 percent. \n",
      "\t Execution continuing.\n"
     ]
    },
    {
     "name": "stdout",
     "output_type": "stream",
     "text": [
      "Processing from date:  2023-06-04T00:00:00.000000Z\n"
     ]
    },
    {
     "name": "stderr",
     "output_type": "stream",
     "text": [
      " WARNING (norm_resp): computed and reported sensitivities differ by more than 5 percent. \n",
      "\t Execution continuing.\n"
     ]
    },
    {
     "name": "stdout",
     "output_type": "stream",
     "text": [
      "Processing from date:  2023-06-05T00:00:00.000000Z\n"
     ]
    },
    {
     "name": "stderr",
     "output_type": "stream",
     "text": [
      " WARNING (norm_resp): computed and reported sensitivities differ by more than 5 percent. \n",
      "\t Execution continuing.\n"
     ]
    },
    {
     "name": "stdout",
     "output_type": "stream",
     "text": [
      "Processing from date:  2023-06-06T00:00:00.000000Z\n"
     ]
    },
    {
     "name": "stderr",
     "output_type": "stream",
     "text": [
      " WARNING (norm_resp): computed and reported sensitivities differ by more than 5 percent. \n",
      "\t Execution continuing.\n"
     ]
    },
    {
     "name": "stdout",
     "output_type": "stream",
     "text": [
      "Processing from date:  2023-06-07T00:00:00.000000Z\n"
     ]
    },
    {
     "name": "stderr",
     "output_type": "stream",
     "text": [
      " WARNING (norm_resp): computed and reported sensitivities differ by more than 5 percent. \n",
      "\t Execution continuing.\n"
     ]
    },
    {
     "name": "stdout",
     "output_type": "stream",
     "text": [
      "Processing from date:  2023-06-08T00:00:00.000000Z\n"
     ]
    },
    {
     "name": "stderr",
     "output_type": "stream",
     "text": [
      " WARNING (norm_resp): computed and reported sensitivities differ by more than 5 percent. \n",
      "\t Execution continuing.\n"
     ]
    },
    {
     "name": "stdout",
     "output_type": "stream",
     "text": [
      "Processing from date:  2023-06-09T00:00:00.000000Z\n"
     ]
    },
    {
     "name": "stderr",
     "output_type": "stream",
     "text": [
      " WARNING (norm_resp): computed and reported sensitivities differ by more than 5 percent. \n",
      "\t Execution continuing.\n"
     ]
    },
    {
     "name": "stdout",
     "output_type": "stream",
     "text": [
      "Processing from date:  2023-06-10T00:00:00.000000Z\n"
     ]
    },
    {
     "name": "stderr",
     "output_type": "stream",
     "text": [
      " WARNING (norm_resp): computed and reported sensitivities differ by more than 5 percent. \n",
      "\t Execution continuing.\n"
     ]
    },
    {
     "name": "stdout",
     "output_type": "stream",
     "text": [
      "Processing from date:  2023-06-11T00:00:00.000000Z\n"
     ]
    },
    {
     "name": "stderr",
     "output_type": "stream",
     "text": [
      " WARNING (norm_resp): computed and reported sensitivities differ by more than 5 percent. \n",
      "\t Execution continuing.\n"
     ]
    },
    {
     "name": "stdout",
     "output_type": "stream",
     "text": [
      "Processing from date:  2023-06-12T00:00:00.000000Z\n"
     ]
    },
    {
     "name": "stderr",
     "output_type": "stream",
     "text": [
      " WARNING (norm_resp): computed and reported sensitivities differ by more than 5 percent. \n",
      "\t Execution continuing.\n"
     ]
    },
    {
     "name": "stdout",
     "output_type": "stream",
     "text": [
      "Processing from date:  2023-06-13T00:00:00.000000Z\n"
     ]
    },
    {
     "name": "stderr",
     "output_type": "stream",
     "text": [
      " WARNING (norm_resp): computed and reported sensitivities differ by more than 5 percent. \n",
      "\t Execution continuing.\n"
     ]
    },
    {
     "name": "stdout",
     "output_type": "stream",
     "text": [
      "Processing from date:  2023-06-14T00:00:00.000000Z\n"
     ]
    },
    {
     "name": "stderr",
     "output_type": "stream",
     "text": [
      " WARNING (norm_resp): computed and reported sensitivities differ by more than 5 percent. \n",
      "\t Execution continuing.\n"
     ]
    },
    {
     "name": "stdout",
     "output_type": "stream",
     "text": [
      "Processing from date:  2023-06-15T00:00:00.000000Z\n"
     ]
    },
    {
     "name": "stderr",
     "output_type": "stream",
     "text": [
      " WARNING (norm_resp): computed and reported sensitivities differ by more than 5 percent. \n",
      "\t Execution continuing.\n"
     ]
    },
    {
     "name": "stdout",
     "output_type": "stream",
     "text": [
      "Processing from date:  2023-06-16T00:00:00.000000Z\n"
     ]
    },
    {
     "name": "stderr",
     "output_type": "stream",
     "text": [
      " WARNING (norm_resp): computed and reported sensitivities differ by more than 5 percent. \n",
      "\t Execution continuing.\n"
     ]
    },
    {
     "name": "stdout",
     "output_type": "stream",
     "text": [
      "Processing from date:  2023-06-17T00:00:00.000000Z\n"
     ]
    },
    {
     "name": "stderr",
     "output_type": "stream",
     "text": [
      " WARNING (norm_resp): computed and reported sensitivities differ by more than 5 percent. \n",
      "\t Execution continuing.\n"
     ]
    },
    {
     "name": "stdout",
     "output_type": "stream",
     "text": [
      "Processing from date:  2023-06-18T00:00:00.000000Z\n"
     ]
    },
    {
     "name": "stderr",
     "output_type": "stream",
     "text": [
      " WARNING (norm_resp): computed and reported sensitivities differ by more than 5 percent. \n",
      "\t Execution continuing.\n"
     ]
    },
    {
     "name": "stdout",
     "output_type": "stream",
     "text": [
      "Processing from date:  2023-06-19T00:00:00.000000Z\n"
     ]
    },
    {
     "name": "stderr",
     "output_type": "stream",
     "text": [
      " WARNING (norm_resp): computed and reported sensitivities differ by more than 5 percent. \n",
      "\t Execution continuing.\n"
     ]
    },
    {
     "name": "stdout",
     "output_type": "stream",
     "text": [
      "Processing from date:  2023-06-20T00:00:00.000000Z\n"
     ]
    },
    {
     "name": "stderr",
     "output_type": "stream",
     "text": [
      " WARNING (norm_resp): computed and reported sensitivities differ by more than 5 percent. \n",
      "\t Execution continuing.\n"
     ]
    },
    {
     "name": "stdout",
     "output_type": "stream",
     "text": [
      "Processing from date:  2023-06-21T00:00:00.000000Z\n"
     ]
    },
    {
     "name": "stderr",
     "output_type": "stream",
     "text": [
      " WARNING (norm_resp): computed and reported sensitivities differ by more than 5 percent. \n",
      "\t Execution continuing.\n"
     ]
    },
    {
     "name": "stdout",
     "output_type": "stream",
     "text": [
      "Processing from date:  2023-06-22T00:00:00.000000Z\n"
     ]
    },
    {
     "name": "stderr",
     "output_type": "stream",
     "text": [
      " WARNING (norm_resp): computed and reported sensitivities differ by more than 5 percent. \n",
      "\t Execution continuing.\n"
     ]
    },
    {
     "name": "stdout",
     "output_type": "stream",
     "text": [
      "Processing from date:  2023-06-23T00:00:00.000000Z\n"
     ]
    },
    {
     "name": "stderr",
     "output_type": "stream",
     "text": [
      " WARNING (norm_resp): computed and reported sensitivities differ by more than 5 percent. \n",
      "\t Execution continuing.\n"
     ]
    },
    {
     "name": "stdout",
     "output_type": "stream",
     "text": [
      "Processing from date:  2023-06-24T00:00:00.000000Z\n"
     ]
    },
    {
     "name": "stderr",
     "output_type": "stream",
     "text": [
      " WARNING (norm_resp): computed and reported sensitivities differ by more than 5 percent. \n",
      "\t Execution continuing.\n"
     ]
    },
    {
     "name": "stdout",
     "output_type": "stream",
     "text": [
      "Processing from date:  2023-06-25T00:00:00.000000Z\n"
     ]
    },
    {
     "name": "stderr",
     "output_type": "stream",
     "text": [
      " WARNING (norm_resp): computed and reported sensitivities differ by more than 5 percent. \n",
      "\t Execution continuing.\n"
     ]
    },
    {
     "name": "stdout",
     "output_type": "stream",
     "text": [
      "Processing from date:  2023-06-26T00:00:00.000000Z\n"
     ]
    },
    {
     "name": "stderr",
     "output_type": "stream",
     "text": [
      " WARNING (norm_resp): computed and reported sensitivities differ by more than 5 percent. \n",
      "\t Execution continuing.\n"
     ]
    },
    {
     "name": "stdout",
     "output_type": "stream",
     "text": [
      "Processing from date:  2023-06-27T00:00:00.000000Z\n"
     ]
    },
    {
     "name": "stderr",
     "output_type": "stream",
     "text": [
      " WARNING (norm_resp): computed and reported sensitivities differ by more than 5 percent. \n",
      "\t Execution continuing.\n"
     ]
    },
    {
     "name": "stdout",
     "output_type": "stream",
     "text": [
      "Processing from date:  2023-06-28T00:00:00.000000Z\n"
     ]
    },
    {
     "name": "stderr",
     "output_type": "stream",
     "text": [
      " WARNING (norm_resp): computed and reported sensitivities differ by more than 5 percent. \n",
      "\t Execution continuing.\n"
     ]
    },
    {
     "name": "stdout",
     "output_type": "stream",
     "text": [
      "Processing from date:  2023-06-29T00:00:00.000000Z\n"
     ]
    },
    {
     "name": "stderr",
     "output_type": "stream",
     "text": [
      " WARNING (norm_resp): computed and reported sensitivities differ by more than 5 percent. \n",
      "\t Execution continuing.\n"
     ]
    },
    {
     "name": "stdout",
     "output_type": "stream",
     "text": [
      "Processing from date:  2023-06-30T00:00:00.000000Z\n"
     ]
    },
    {
     "name": "stderr",
     "output_type": "stream",
     "text": [
      " WARNING (norm_resp): computed and reported sensitivities differ by more than 5 percent. \n",
      "\t Execution continuing.\n"
     ]
    },
    {
     "name": "stdout",
     "output_type": "stream",
     "text": [
      "Processing from date:  2023-07-01T00:00:00.000000Z\n"
     ]
    },
    {
     "name": "stderr",
     "output_type": "stream",
     "text": [
      " WARNING (norm_resp): computed and reported sensitivities differ by more than 5 percent. \n",
      "\t Execution continuing.\n"
     ]
    },
    {
     "name": "stdout",
     "output_type": "stream",
     "text": [
      "Processing from date:  2023-07-02T00:00:00.000000Z\n"
     ]
    },
    {
     "name": "stderr",
     "output_type": "stream",
     "text": [
      " WARNING (norm_resp): computed and reported sensitivities differ by more than 5 percent. \n",
      "\t Execution continuing.\n"
     ]
    },
    {
     "name": "stdout",
     "output_type": "stream",
     "text": [
      "Processing from date:  2023-07-03T00:00:00.000000Z\n"
     ]
    },
    {
     "name": "stderr",
     "output_type": "stream",
     "text": [
      " WARNING (norm_resp): computed and reported sensitivities differ by more than 5 percent. \n",
      "\t Execution continuing.\n"
     ]
    },
    {
     "name": "stdout",
     "output_type": "stream",
     "text": [
      "Processing from date:  2023-07-04T00:00:00.000000Z\n"
     ]
    },
    {
     "name": "stderr",
     "output_type": "stream",
     "text": [
      " WARNING (norm_resp): computed and reported sensitivities differ by more than 5 percent. \n",
      "\t Execution continuing.\n"
     ]
    },
    {
     "name": "stdout",
     "output_type": "stream",
     "text": [
      "Processing from date:  2023-07-05T00:00:00.000000Z\n"
     ]
    },
    {
     "name": "stderr",
     "output_type": "stream",
     "text": [
      " WARNING (norm_resp): computed and reported sensitivities differ by more than 5 percent. \n",
      "\t Execution continuing.\n"
     ]
    },
    {
     "name": "stdout",
     "output_type": "stream",
     "text": [
      "Processing from date:  2023-07-06T00:00:00.000000Z\n"
     ]
    },
    {
     "name": "stderr",
     "output_type": "stream",
     "text": [
      " WARNING (norm_resp): computed and reported sensitivities differ by more than 5 percent. \n",
      "\t Execution continuing.\n"
     ]
    },
    {
     "name": "stdout",
     "output_type": "stream",
     "text": [
      "Processing from date:  2023-07-07T00:00:00.000000Z\n"
     ]
    },
    {
     "name": "stderr",
     "output_type": "stream",
     "text": [
      " WARNING (norm_resp): computed and reported sensitivities differ by more than 5 percent. \n",
      "\t Execution continuing.\n"
     ]
    },
    {
     "name": "stdout",
     "output_type": "stream",
     "text": [
      "Processing from date:  2023-07-08T00:00:00.000000Z\n"
     ]
    },
    {
     "name": "stderr",
     "output_type": "stream",
     "text": [
      " WARNING (norm_resp): computed and reported sensitivities differ by more than 5 percent. \n",
      "\t Execution continuing.\n"
     ]
    },
    {
     "name": "stdout",
     "output_type": "stream",
     "text": [
      "Processing from date:  2023-07-09T00:00:00.000000Z\n"
     ]
    },
    {
     "name": "stderr",
     "output_type": "stream",
     "text": [
      " WARNING (norm_resp): computed and reported sensitivities differ by more than 5 percent. \n",
      "\t Execution continuing.\n"
     ]
    },
    {
     "name": "stdout",
     "output_type": "stream",
     "text": [
      "Processing from date:  2023-07-10T00:00:00.000000Z\n"
     ]
    },
    {
     "name": "stderr",
     "output_type": "stream",
     "text": [
      " WARNING (norm_resp): computed and reported sensitivities differ by more than 5 percent. \n",
      "\t Execution continuing.\n"
     ]
    },
    {
     "name": "stdout",
     "output_type": "stream",
     "text": [
      "Processing from date:  2023-07-11T00:00:00.000000Z\n"
     ]
    },
    {
     "name": "stderr",
     "output_type": "stream",
     "text": [
      " WARNING (norm_resp): computed and reported sensitivities differ by more than 5 percent. \n",
      "\t Execution continuing.\n"
     ]
    },
    {
     "name": "stdout",
     "output_type": "stream",
     "text": [
      "Processing from date:  2023-07-12T00:00:00.000000Z\n"
     ]
    },
    {
     "name": "stderr",
     "output_type": "stream",
     "text": [
      " WARNING (norm_resp): computed and reported sensitivities differ by more than 5 percent. \n",
      "\t Execution continuing.\n"
     ]
    },
    {
     "name": "stdout",
     "output_type": "stream",
     "text": [
      "Processing from date:  2023-07-13T00:00:00.000000Z\n"
     ]
    },
    {
     "name": "stderr",
     "output_type": "stream",
     "text": [
      " WARNING (norm_resp): computed and reported sensitivities differ by more than 5 percent. \n",
      "\t Execution continuing.\n"
     ]
    },
    {
     "name": "stdout",
     "output_type": "stream",
     "text": [
      "Processing from date:  2023-07-14T00:00:00.000000Z\n"
     ]
    },
    {
     "name": "stderr",
     "output_type": "stream",
     "text": [
      " WARNING (norm_resp): computed and reported sensitivities differ by more than 5 percent. \n",
      "\t Execution continuing.\n"
     ]
    },
    {
     "name": "stdout",
     "output_type": "stream",
     "text": [
      "Processing from date:  2023-07-15T00:00:00.000000Z\n"
     ]
    },
    {
     "name": "stderr",
     "output_type": "stream",
     "text": [
      " WARNING (norm_resp): computed and reported sensitivities differ by more than 5 percent. \n",
      "\t Execution continuing.\n"
     ]
    },
    {
     "name": "stdout",
     "output_type": "stream",
     "text": [
      "Processing from date:  2023-07-16T00:00:00.000000Z\n"
     ]
    },
    {
     "name": "stderr",
     "output_type": "stream",
     "text": [
      " WARNING (norm_resp): computed and reported sensitivities differ by more than 5 percent. \n",
      "\t Execution continuing.\n"
     ]
    },
    {
     "name": "stdout",
     "output_type": "stream",
     "text": [
      "Processing from date:  2023-07-17T00:00:00.000000Z\n"
     ]
    },
    {
     "name": "stderr",
     "output_type": "stream",
     "text": [
      " WARNING (norm_resp): computed and reported sensitivities differ by more than 5 percent. \n",
      "\t Execution continuing.\n"
     ]
    },
    {
     "name": "stdout",
     "output_type": "stream",
     "text": [
      "Processing from date:  2023-07-18T00:00:00.000000Z\n"
     ]
    },
    {
     "name": "stderr",
     "output_type": "stream",
     "text": [
      " WARNING (norm_resp): computed and reported sensitivities differ by more than 5 percent. \n",
      "\t Execution continuing.\n"
     ]
    },
    {
     "name": "stdout",
     "output_type": "stream",
     "text": [
      "Processing from date:  2023-07-19T00:00:00.000000Z\n"
     ]
    },
    {
     "name": "stderr",
     "output_type": "stream",
     "text": [
      " WARNING (norm_resp): computed and reported sensitivities differ by more than 5 percent. \n",
      "\t Execution continuing.\n"
     ]
    },
    {
     "name": "stdout",
     "output_type": "stream",
     "text": [
      "Processing from date:  2023-07-20T00:00:00.000000Z\n"
     ]
    },
    {
     "name": "stderr",
     "output_type": "stream",
     "text": [
      " WARNING (norm_resp): computed and reported sensitivities differ by more than 5 percent. \n",
      "\t Execution continuing.\n"
     ]
    },
    {
     "name": "stdout",
     "output_type": "stream",
     "text": [
      "Processing from date:  2023-07-21T00:00:00.000000Z\n"
     ]
    },
    {
     "name": "stderr",
     "output_type": "stream",
     "text": [
      " WARNING (norm_resp): computed and reported sensitivities differ by more than 5 percent. \n",
      "\t Execution continuing.\n"
     ]
    },
    {
     "name": "stdout",
     "output_type": "stream",
     "text": [
      "Processing from date:  2023-07-22T00:00:00.000000Z\n"
     ]
    },
    {
     "name": "stderr",
     "output_type": "stream",
     "text": [
      " WARNING (norm_resp): computed and reported sensitivities differ by more than 5 percent. \n",
      "\t Execution continuing.\n"
     ]
    },
    {
     "name": "stdout",
     "output_type": "stream",
     "text": [
      "Processing from date:  2023-07-23T00:00:00.000000Z\n"
     ]
    },
    {
     "name": "stderr",
     "output_type": "stream",
     "text": [
      " WARNING (norm_resp): computed and reported sensitivities differ by more than 5 percent. \n",
      "\t Execution continuing.\n"
     ]
    },
    {
     "name": "stdout",
     "output_type": "stream",
     "text": [
      "Processing from date:  2023-07-24T00:00:00.000000Z\n"
     ]
    },
    {
     "name": "stderr",
     "output_type": "stream",
     "text": [
      " WARNING (norm_resp): computed and reported sensitivities differ by more than 5 percent. \n",
      "\t Execution continuing.\n"
     ]
    },
    {
     "name": "stdout",
     "output_type": "stream",
     "text": [
      "Processing from date:  2023-07-25T00:00:00.000000Z\n"
     ]
    },
    {
     "name": "stderr",
     "output_type": "stream",
     "text": [
      " WARNING (norm_resp): computed and reported sensitivities differ by more than 5 percent. \n",
      "\t Execution continuing.\n"
     ]
    },
    {
     "name": "stdout",
     "output_type": "stream",
     "text": [
      "Processing from date:  2023-07-26T00:00:00.000000Z\n"
     ]
    },
    {
     "name": "stderr",
     "output_type": "stream",
     "text": [
      " WARNING (norm_resp): computed and reported sensitivities differ by more than 5 percent. \n",
      "\t Execution continuing.\n"
     ]
    },
    {
     "name": "stdout",
     "output_type": "stream",
     "text": [
      "Processing from date:  2023-07-27T00:00:00.000000Z\n"
     ]
    },
    {
     "name": "stderr",
     "output_type": "stream",
     "text": [
      " WARNING (norm_resp): computed and reported sensitivities differ by more than 5 percent. \n",
      "\t Execution continuing.\n"
     ]
    },
    {
     "name": "stdout",
     "output_type": "stream",
     "text": [
      "Processing from date:  2023-07-28T00:00:00.000000Z\n"
     ]
    },
    {
     "name": "stderr",
     "output_type": "stream",
     "text": [
      " WARNING (norm_resp): computed and reported sensitivities differ by more than 5 percent. \n",
      "\t Execution continuing.\n"
     ]
    },
    {
     "name": "stdout",
     "output_type": "stream",
     "text": [
      "Processing from date:  2023-07-29T00:00:00.000000Z\n"
     ]
    },
    {
     "name": "stderr",
     "output_type": "stream",
     "text": [
      " WARNING (norm_resp): computed and reported sensitivities differ by more than 5 percent. \n",
      "\t Execution continuing.\n"
     ]
    },
    {
     "name": "stdout",
     "output_type": "stream",
     "text": [
      "Processing from date:  2023-07-30T00:00:00.000000Z\n"
     ]
    },
    {
     "name": "stderr",
     "output_type": "stream",
     "text": [
      " WARNING (norm_resp): computed and reported sensitivities differ by more than 5 percent. \n",
      "\t Execution continuing.\n"
     ]
    },
    {
     "name": "stdout",
     "output_type": "stream",
     "text": [
      "Processing from date:  2023-07-31T00:00:00.000000Z\n"
     ]
    },
    {
     "name": "stderr",
     "output_type": "stream",
     "text": [
      " WARNING (norm_resp): computed and reported sensitivities differ by more than 5 percent. \n",
      "\t Execution continuing.\n"
     ]
    },
    {
     "name": "stdout",
     "output_type": "stream",
     "text": [
      "Processing from date:  2023-08-01T00:00:00.000000Z\n"
     ]
    },
    {
     "name": "stderr",
     "output_type": "stream",
     "text": [
      " WARNING (norm_resp): computed and reported sensitivities differ by more than 5 percent. \n",
      "\t Execution continuing.\n"
     ]
    },
    {
     "name": "stdout",
     "output_type": "stream",
     "text": [
      "Processing from date:  2023-08-02T00:00:00.000000Z\n"
     ]
    },
    {
     "name": "stderr",
     "output_type": "stream",
     "text": [
      " WARNING (norm_resp): computed and reported sensitivities differ by more than 5 percent. \n",
      "\t Execution continuing.\n"
     ]
    },
    {
     "name": "stdout",
     "output_type": "stream",
     "text": [
      "Processing from date:  2023-08-03T00:00:00.000000Z\n"
     ]
    },
    {
     "name": "stderr",
     "output_type": "stream",
     "text": [
      " WARNING (norm_resp): computed and reported sensitivities differ by more than 5 percent. \n",
      "\t Execution continuing.\n"
     ]
    },
    {
     "name": "stdout",
     "output_type": "stream",
     "text": [
      "Processing from date:  2023-08-04T00:00:00.000000Z\n"
     ]
    },
    {
     "name": "stderr",
     "output_type": "stream",
     "text": [
      " WARNING (norm_resp): computed and reported sensitivities differ by more than 5 percent. \n",
      "\t Execution continuing.\n"
     ]
    },
    {
     "name": "stdout",
     "output_type": "stream",
     "text": [
      "Processing from date:  2023-08-05T00:00:00.000000Z\n"
     ]
    },
    {
     "name": "stderr",
     "output_type": "stream",
     "text": [
      " WARNING (norm_resp): computed and reported sensitivities differ by more than 5 percent. \n",
      "\t Execution continuing.\n"
     ]
    },
    {
     "name": "stdout",
     "output_type": "stream",
     "text": [
      "Processing from date:  2023-08-06T00:00:00.000000Z\n"
     ]
    },
    {
     "name": "stderr",
     "output_type": "stream",
     "text": [
      " WARNING (norm_resp): computed and reported sensitivities differ by more than 5 percent. \n",
      "\t Execution continuing.\n"
     ]
    },
    {
     "name": "stdout",
     "output_type": "stream",
     "text": [
      "Processing from date:  2023-08-07T00:00:00.000000Z\n"
     ]
    },
    {
     "name": "stderr",
     "output_type": "stream",
     "text": [
      " WARNING (norm_resp): computed and reported sensitivities differ by more than 5 percent. \n",
      "\t Execution continuing.\n"
     ]
    },
    {
     "name": "stdout",
     "output_type": "stream",
     "text": [
      "Processing from date:  2023-08-08T00:00:00.000000Z\n"
     ]
    },
    {
     "name": "stderr",
     "output_type": "stream",
     "text": [
      " WARNING (norm_resp): computed and reported sensitivities differ by more than 5 percent. \n",
      "\t Execution continuing.\n"
     ]
    },
    {
     "name": "stdout",
     "output_type": "stream",
     "text": [
      "Processing from date:  2023-08-09T00:00:00.000000Z\n"
     ]
    },
    {
     "name": "stderr",
     "output_type": "stream",
     "text": [
      " WARNING (norm_resp): computed and reported sensitivities differ by more than 5 percent. \n",
      "\t Execution continuing.\n"
     ]
    },
    {
     "name": "stdout",
     "output_type": "stream",
     "text": [
      "Processing from date:  2023-08-10T00:00:00.000000Z\n"
     ]
    },
    {
     "name": "stderr",
     "output_type": "stream",
     "text": [
      " WARNING (norm_resp): computed and reported sensitivities differ by more than 5 percent. \n",
      "\t Execution continuing.\n"
     ]
    },
    {
     "name": "stdout",
     "output_type": "stream",
     "text": [
      "Processing from date:  2023-08-11T00:00:00.000000Z\n"
     ]
    },
    {
     "name": "stderr",
     "output_type": "stream",
     "text": [
      " WARNING (norm_resp): computed and reported sensitivities differ by more than 5 percent. \n",
      "\t Execution continuing.\n"
     ]
    },
    {
     "name": "stdout",
     "output_type": "stream",
     "text": [
      "Processing from date:  2023-08-12T00:00:00.000000Z\n"
     ]
    },
    {
     "name": "stderr",
     "output_type": "stream",
     "text": [
      " WARNING (norm_resp): computed and reported sensitivities differ by more than 5 percent. \n",
      "\t Execution continuing.\n"
     ]
    },
    {
     "name": "stdout",
     "output_type": "stream",
     "text": [
      "Processing from date:  2023-08-13T00:00:00.000000Z\n"
     ]
    },
    {
     "name": "stderr",
     "output_type": "stream",
     "text": [
      " WARNING (norm_resp): computed and reported sensitivities differ by more than 5 percent. \n",
      "\t Execution continuing.\n"
     ]
    },
    {
     "name": "stdout",
     "output_type": "stream",
     "text": [
      "Processing from date:  2023-08-14T00:00:00.000000Z\n"
     ]
    },
    {
     "name": "stderr",
     "output_type": "stream",
     "text": [
      " WARNING (norm_resp): computed and reported sensitivities differ by more than 5 percent. \n",
      "\t Execution continuing.\n"
     ]
    },
    {
     "name": "stdout",
     "output_type": "stream",
     "text": [
      "Processing from date:  2023-08-15T00:00:00.000000Z\n"
     ]
    },
    {
     "name": "stderr",
     "output_type": "stream",
     "text": [
      " WARNING (norm_resp): computed and reported sensitivities differ by more than 5 percent. \n",
      "\t Execution continuing.\n"
     ]
    },
    {
     "name": "stdout",
     "output_type": "stream",
     "text": [
      "No data available for the specified parameters.\n",
      "Processing from date:  2023-08-16T00:00:00.000000Z\n"
     ]
    },
    {
     "name": "stderr",
     "output_type": "stream",
     "text": [
      " WARNING (norm_resp): computed and reported sensitivities differ by more than 5 percent. \n",
      "\t Execution continuing.\n"
     ]
    },
    {
     "name": "stdout",
     "output_type": "stream",
     "text": [
      "No data available for the specified parameters.\n",
      "Processing from date:  2023-08-17T00:00:00.000000Z\n"
     ]
    },
    {
     "name": "stderr",
     "output_type": "stream",
     "text": [
      " WARNING (norm_resp): computed and reported sensitivities differ by more than 5 percent. \n",
      "\t Execution continuing.\n"
     ]
    },
    {
     "name": "stdout",
     "output_type": "stream",
     "text": [
      "No data available for the specified parameters.\n",
      "Processing from date:  2023-08-18T00:00:00.000000Z\n"
     ]
    },
    {
     "name": "stderr",
     "output_type": "stream",
     "text": [
      " WARNING (norm_resp): computed and reported sensitivities differ by more than 5 percent. \n",
      "\t Execution continuing.\n"
     ]
    },
    {
     "name": "stdout",
     "output_type": "stream",
     "text": [
      "No data available for the specified parameters.\n",
      "Processing from date:  2023-08-19T00:00:00.000000Z\n"
     ]
    },
    {
     "name": "stderr",
     "output_type": "stream",
     "text": [
      " WARNING (norm_resp): computed and reported sensitivities differ by more than 5 percent. \n",
      "\t Execution continuing.\n"
     ]
    },
    {
     "name": "stdout",
     "output_type": "stream",
     "text": [
      "No data available for the specified parameters.\n",
      "Processing from date:  2023-08-20T00:00:00.000000Z\n"
     ]
    },
    {
     "name": "stderr",
     "output_type": "stream",
     "text": [
      " WARNING (norm_resp): computed and reported sensitivities differ by more than 5 percent. \n",
      "\t Execution continuing.\n"
     ]
    },
    {
     "name": "stdout",
     "output_type": "stream",
     "text": [
      "No data available for the specified parameters.\n",
      "Processing from date:  2023-08-21T00:00:00.000000Z\n"
     ]
    },
    {
     "name": "stderr",
     "output_type": "stream",
     "text": [
      " WARNING (norm_resp): computed and reported sensitivities differ by more than 5 percent. \n",
      "\t Execution continuing.\n"
     ]
    },
    {
     "name": "stdout",
     "output_type": "stream",
     "text": [
      "No data available for the specified parameters.\n",
      "Processing from date:  2023-08-22T00:00:00.000000Z\n"
     ]
    },
    {
     "name": "stderr",
     "output_type": "stream",
     "text": [
      " WARNING (norm_resp): computed and reported sensitivities differ by more than 5 percent. \n",
      "\t Execution continuing.\n"
     ]
    },
    {
     "name": "stdout",
     "output_type": "stream",
     "text": [
      "No data available for the specified parameters.\n",
      "Processing from date:  2023-08-23T00:00:00.000000Z\n"
     ]
    },
    {
     "name": "stderr",
     "output_type": "stream",
     "text": [
      " WARNING (norm_resp): computed and reported sensitivities differ by more than 5 percent. \n",
      "\t Execution continuing.\n"
     ]
    },
    {
     "name": "stdout",
     "output_type": "stream",
     "text": [
      "No data available for the specified parameters.\n",
      "Processing from date:  2023-08-24T00:00:00.000000Z\n"
     ]
    },
    {
     "name": "stderr",
     "output_type": "stream",
     "text": [
      " WARNING (norm_resp): computed and reported sensitivities differ by more than 5 percent. \n",
      "\t Execution continuing.\n"
     ]
    },
    {
     "name": "stdout",
     "output_type": "stream",
     "text": [
      "No data available for the specified parameters.\n",
      "Processing from date:  2023-08-25T00:00:00.000000Z\n"
     ]
    },
    {
     "name": "stderr",
     "output_type": "stream",
     "text": [
      " WARNING (norm_resp): computed and reported sensitivities differ by more than 5 percent. \n",
      "\t Execution continuing.\n"
     ]
    },
    {
     "name": "stdout",
     "output_type": "stream",
     "text": [
      "No data available for the specified parameters.\n",
      "Processing from date:  2023-08-26T00:00:00.000000Z\n"
     ]
    },
    {
     "name": "stderr",
     "output_type": "stream",
     "text": [
      " WARNING (norm_resp): computed and reported sensitivities differ by more than 5 percent. \n",
      "\t Execution continuing.\n"
     ]
    },
    {
     "name": "stdout",
     "output_type": "stream",
     "text": [
      "No data available for the specified parameters.\n",
      "Processing from date:  2023-08-27T00:00:00.000000Z\n"
     ]
    },
    {
     "name": "stderr",
     "output_type": "stream",
     "text": [
      " WARNING (norm_resp): computed and reported sensitivities differ by more than 5 percent. \n",
      "\t Execution continuing.\n"
     ]
    },
    {
     "name": "stdout",
     "output_type": "stream",
     "text": [
      "No data available for the specified parameters.\n",
      "Processing from date:  2023-08-28T00:00:00.000000Z\n"
     ]
    },
    {
     "name": "stderr",
     "output_type": "stream",
     "text": [
      " WARNING (norm_resp): computed and reported sensitivities differ by more than 5 percent. \n",
      "\t Execution continuing.\n"
     ]
    },
    {
     "name": "stdout",
     "output_type": "stream",
     "text": [
      "No data available for the specified parameters.\n",
      "Processing from date:  2023-08-29T00:00:00.000000Z\n"
     ]
    },
    {
     "name": "stderr",
     "output_type": "stream",
     "text": [
      " WARNING (norm_resp): computed and reported sensitivities differ by more than 5 percent. \n",
      "\t Execution continuing.\n"
     ]
    },
    {
     "name": "stdout",
     "output_type": "stream",
     "text": [
      "No data available for the specified parameters.\n",
      "Processing from date:  2023-08-30T00:00:00.000000Z\n"
     ]
    },
    {
     "name": "stderr",
     "output_type": "stream",
     "text": [
      " WARNING (norm_resp): computed and reported sensitivities differ by more than 5 percent. \n",
      "\t Execution continuing.\n"
     ]
    },
    {
     "name": "stdout",
     "output_type": "stream",
     "text": [
      "Processing from date:  2023-08-31T00:00:00.000000Z\n"
     ]
    },
    {
     "name": "stderr",
     "output_type": "stream",
     "text": [
      " WARNING (norm_resp): computed and reported sensitivities differ by more than 5 percent. \n",
      "\t Execution continuing.\n"
     ]
    },
    {
     "name": "stdout",
     "output_type": "stream",
     "text": [
      "No data available for the specified parameters.\n",
      "Processing from date:  2023-09-01T00:00:00.000000Z\n"
     ]
    },
    {
     "name": "stderr",
     "output_type": "stream",
     "text": [
      " WARNING (norm_resp): computed and reported sensitivities differ by more than 5 percent. \n",
      "\t Execution continuing.\n"
     ]
    },
    {
     "name": "stdout",
     "output_type": "stream",
     "text": [
      "No data available for the specified parameters.\n",
      "Processing from date:  2023-09-02T00:00:00.000000Z\n"
     ]
    },
    {
     "name": "stderr",
     "output_type": "stream",
     "text": [
      " WARNING (norm_resp): computed and reported sensitivities differ by more than 5 percent. \n",
      "\t Execution continuing.\n"
     ]
    },
    {
     "name": "stdout",
     "output_type": "stream",
     "text": [
      "No data available for the specified parameters.\n",
      "Processing from date:  2023-09-03T00:00:00.000000Z\n"
     ]
    },
    {
     "name": "stderr",
     "output_type": "stream",
     "text": [
      " WARNING (norm_resp): computed and reported sensitivities differ by more than 5 percent. \n",
      "\t Execution continuing.\n"
     ]
    },
    {
     "name": "stdout",
     "output_type": "stream",
     "text": [
      "No data available for the specified parameters.\n",
      "Processing from date:  2023-09-04T00:00:00.000000Z\n"
     ]
    },
    {
     "name": "stderr",
     "output_type": "stream",
     "text": [
      " WARNING (norm_resp): computed and reported sensitivities differ by more than 5 percent. \n",
      "\t Execution continuing.\n"
     ]
    },
    {
     "name": "stdout",
     "output_type": "stream",
     "text": [
      "No data available for the specified parameters.\n",
      "Processing from date:  2023-09-05T00:00:00.000000Z\n"
     ]
    },
    {
     "name": "stderr",
     "output_type": "stream",
     "text": [
      " WARNING (norm_resp): computed and reported sensitivities differ by more than 5 percent. \n",
      "\t Execution continuing.\n"
     ]
    },
    {
     "name": "stdout",
     "output_type": "stream",
     "text": [
      "No data available for the specified parameters.\n",
      "Processing from date:  2023-09-06T00:00:00.000000Z\n"
     ]
    },
    {
     "name": "stderr",
     "output_type": "stream",
     "text": [
      " WARNING (norm_resp): computed and reported sensitivities differ by more than 5 percent. \n",
      "\t Execution continuing.\n"
     ]
    },
    {
     "name": "stdout",
     "output_type": "stream",
     "text": [
      "No data available for the specified parameters.\n",
      "Processing from date:  2023-09-07T00:00:00.000000Z\n"
     ]
    },
    {
     "name": "stderr",
     "output_type": "stream",
     "text": [
      " WARNING (norm_resp): computed and reported sensitivities differ by more than 5 percent. \n",
      "\t Execution continuing.\n"
     ]
    },
    {
     "name": "stdout",
     "output_type": "stream",
     "text": [
      "No data available for the specified parameters.\n",
      "Processing from date:  2023-09-08T00:00:00.000000Z\n"
     ]
    },
    {
     "name": "stderr",
     "output_type": "stream",
     "text": [
      " WARNING (norm_resp): computed and reported sensitivities differ by more than 5 percent. \n",
      "\t Execution continuing.\n"
     ]
    },
    {
     "name": "stdout",
     "output_type": "stream",
     "text": [
      "No data available for the specified parameters.\n",
      "Processing from date:  2023-09-09T00:00:00.000000Z\n"
     ]
    },
    {
     "name": "stderr",
     "output_type": "stream",
     "text": [
      " WARNING (norm_resp): computed and reported sensitivities differ by more than 5 percent. \n",
      "\t Execution continuing.\n"
     ]
    },
    {
     "name": "stdout",
     "output_type": "stream",
     "text": [
      "No data available for the specified parameters.\n",
      "Processing from date:  2023-09-10T00:00:00.000000Z\n"
     ]
    },
    {
     "name": "stderr",
     "output_type": "stream",
     "text": [
      " WARNING (norm_resp): computed and reported sensitivities differ by more than 5 percent. \n",
      "\t Execution continuing.\n"
     ]
    },
    {
     "name": "stdout",
     "output_type": "stream",
     "text": [
      "No data available for the specified parameters.\n",
      "Processing from date:  2023-09-11T00:00:00.000000Z\n"
     ]
    },
    {
     "name": "stderr",
     "output_type": "stream",
     "text": [
      " WARNING (norm_resp): computed and reported sensitivities differ by more than 5 percent. \n",
      "\t Execution continuing.\n"
     ]
    },
    {
     "name": "stdout",
     "output_type": "stream",
     "text": [
      "Processing from date:  2023-09-12T00:00:00.000000Z\n"
     ]
    },
    {
     "name": "stderr",
     "output_type": "stream",
     "text": [
      " WARNING (norm_resp): computed and reported sensitivities differ by more than 5 percent. \n",
      "\t Execution continuing.\n"
     ]
    },
    {
     "name": "stdout",
     "output_type": "stream",
     "text": [
      "Processing from date:  2023-09-13T00:00:00.000000Z\n"
     ]
    },
    {
     "name": "stderr",
     "output_type": "stream",
     "text": [
      " WARNING (norm_resp): computed and reported sensitivities differ by more than 5 percent. \n",
      "\t Execution continuing.\n"
     ]
    },
    {
     "name": "stdout",
     "output_type": "stream",
     "text": [
      "Processing from date:  2023-09-14T00:00:00.000000Z\n"
     ]
    },
    {
     "name": "stderr",
     "output_type": "stream",
     "text": [
      " WARNING (norm_resp): computed and reported sensitivities differ by more than 5 percent. \n",
      "\t Execution continuing.\n"
     ]
    },
    {
     "name": "stdout",
     "output_type": "stream",
     "text": [
      "Processing from date:  2023-09-15T00:00:00.000000Z\n"
     ]
    },
    {
     "name": "stderr",
     "output_type": "stream",
     "text": [
      " WARNING (norm_resp): computed and reported sensitivities differ by more than 5 percent. \n",
      "\t Execution continuing.\n"
     ]
    },
    {
     "name": "stdout",
     "output_type": "stream",
     "text": [
      "Processing from date:  2023-09-16T00:00:00.000000Z\n"
     ]
    },
    {
     "name": "stderr",
     "output_type": "stream",
     "text": [
      " WARNING (norm_resp): computed and reported sensitivities differ by more than 5 percent. \n",
      "\t Execution continuing.\n"
     ]
    },
    {
     "name": "stdout",
     "output_type": "stream",
     "text": [
      "Processing from date:  2023-09-17T00:00:00.000000Z\n"
     ]
    },
    {
     "name": "stderr",
     "output_type": "stream",
     "text": [
      " WARNING (norm_resp): computed and reported sensitivities differ by more than 5 percent. \n",
      "\t Execution continuing.\n"
     ]
    },
    {
     "name": "stdout",
     "output_type": "stream",
     "text": [
      "Processing from date:  2023-09-18T00:00:00.000000Z\n"
     ]
    },
    {
     "name": "stderr",
     "output_type": "stream",
     "text": [
      " WARNING (norm_resp): computed and reported sensitivities differ by more than 5 percent. \n",
      "\t Execution continuing.\n"
     ]
    },
    {
     "name": "stdout",
     "output_type": "stream",
     "text": [
      "Processing from date:  2023-09-19T00:00:00.000000Z\n"
     ]
    },
    {
     "name": "stderr",
     "output_type": "stream",
     "text": [
      " WARNING (norm_resp): computed and reported sensitivities differ by more than 5 percent. \n",
      "\t Execution continuing.\n"
     ]
    },
    {
     "name": "stdout",
     "output_type": "stream",
     "text": [
      "Processing from date:  2023-09-20T00:00:00.000000Z\n"
     ]
    },
    {
     "name": "stderr",
     "output_type": "stream",
     "text": [
      " WARNING (norm_resp): computed and reported sensitivities differ by more than 5 percent. \n",
      "\t Execution continuing.\n"
     ]
    },
    {
     "name": "stdout",
     "output_type": "stream",
     "text": [
      "Processing from date:  2023-09-21T00:00:00.000000Z\n"
     ]
    },
    {
     "name": "stderr",
     "output_type": "stream",
     "text": [
      " WARNING (norm_resp): computed and reported sensitivities differ by more than 5 percent. \n",
      "\t Execution continuing.\n"
     ]
    },
    {
     "name": "stdout",
     "output_type": "stream",
     "text": [
      "Processing from date:  2023-09-22T00:00:00.000000Z\n"
     ]
    },
    {
     "name": "stderr",
     "output_type": "stream",
     "text": [
      " WARNING (norm_resp): computed and reported sensitivities differ by more than 5 percent. \n",
      "\t Execution continuing.\n"
     ]
    },
    {
     "name": "stdout",
     "output_type": "stream",
     "text": [
      "Processing from date:  2023-09-23T00:00:00.000000Z\n"
     ]
    },
    {
     "name": "stderr",
     "output_type": "stream",
     "text": [
      " WARNING (norm_resp): computed and reported sensitivities differ by more than 5 percent. \n",
      "\t Execution continuing.\n"
     ]
    },
    {
     "name": "stdout",
     "output_type": "stream",
     "text": [
      "Processing from date:  2023-09-24T00:00:00.000000Z\n"
     ]
    },
    {
     "name": "stderr",
     "output_type": "stream",
     "text": [
      " WARNING (norm_resp): computed and reported sensitivities differ by more than 5 percent. \n",
      "\t Execution continuing.\n"
     ]
    },
    {
     "name": "stdout",
     "output_type": "stream",
     "text": [
      "Processing from date:  2023-09-25T00:00:00.000000Z\n"
     ]
    },
    {
     "name": "stderr",
     "output_type": "stream",
     "text": [
      " WARNING (norm_resp): computed and reported sensitivities differ by more than 5 percent. \n",
      "\t Execution continuing.\n"
     ]
    },
    {
     "name": "stdout",
     "output_type": "stream",
     "text": [
      "Processing from date:  2023-09-26T00:00:00.000000Z\n"
     ]
    },
    {
     "name": "stderr",
     "output_type": "stream",
     "text": [
      " WARNING (norm_resp): computed and reported sensitivities differ by more than 5 percent. \n",
      "\t Execution continuing.\n"
     ]
    },
    {
     "name": "stdout",
     "output_type": "stream",
     "text": [
      "Processing from date:  2023-09-27T00:00:00.000000Z\n"
     ]
    },
    {
     "name": "stderr",
     "output_type": "stream",
     "text": [
      " WARNING (norm_resp): computed and reported sensitivities differ by more than 5 percent. \n",
      "\t Execution continuing.\n"
     ]
    },
    {
     "name": "stdout",
     "output_type": "stream",
     "text": [
      "Processing from date:  2023-09-28T00:00:00.000000Z\n"
     ]
    },
    {
     "name": "stderr",
     "output_type": "stream",
     "text": [
      " WARNING (norm_resp): computed and reported sensitivities differ by more than 5 percent. \n",
      "\t Execution continuing.\n"
     ]
    },
    {
     "name": "stdout",
     "output_type": "stream",
     "text": [
      "Processing from date:  2023-09-29T00:00:00.000000Z\n"
     ]
    },
    {
     "name": "stderr",
     "output_type": "stream",
     "text": [
      " WARNING (norm_resp): computed and reported sensitivities differ by more than 5 percent. \n",
      "\t Execution continuing.\n"
     ]
    },
    {
     "name": "stdout",
     "output_type": "stream",
     "text": [
      "Processing from date:  2023-09-30T00:00:00.000000Z\n"
     ]
    },
    {
     "name": "stderr",
     "output_type": "stream",
     "text": [
      " WARNING (norm_resp): computed and reported sensitivities differ by more than 5 percent. \n",
      "\t Execution continuing.\n"
     ]
    },
    {
     "name": "stdout",
     "output_type": "stream",
     "text": [
      "Processing from date:  2023-10-01T00:00:00.000000Z\n"
     ]
    },
    {
     "name": "stderr",
     "output_type": "stream",
     "text": [
      " WARNING (norm_resp): computed and reported sensitivities differ by more than 5 percent. \n",
      "\t Execution continuing.\n"
     ]
    },
    {
     "name": "stdout",
     "output_type": "stream",
     "text": [
      "Processing from date:  2023-10-02T00:00:00.000000Z\n"
     ]
    },
    {
     "name": "stderr",
     "output_type": "stream",
     "text": [
      " WARNING (norm_resp): computed and reported sensitivities differ by more than 5 percent. \n",
      "\t Execution continuing.\n"
     ]
    },
    {
     "name": "stdout",
     "output_type": "stream",
     "text": [
      "Processing from date:  2023-10-03T00:00:00.000000Z\n"
     ]
    },
    {
     "name": "stderr",
     "output_type": "stream",
     "text": [
      " WARNING (norm_resp): computed and reported sensitivities differ by more than 5 percent. \n",
      "\t Execution continuing.\n"
     ]
    },
    {
     "name": "stdout",
     "output_type": "stream",
     "text": [
      "Processing from date:  2023-10-04T00:00:00.000000Z\n"
     ]
    },
    {
     "name": "stderr",
     "output_type": "stream",
     "text": [
      " WARNING (norm_resp): computed and reported sensitivities differ by more than 5 percent. \n",
      "\t Execution continuing.\n"
     ]
    },
    {
     "name": "stdout",
     "output_type": "stream",
     "text": [
      "Processing from date:  2023-10-05T00:00:00.000000Z\n"
     ]
    },
    {
     "name": "stderr",
     "output_type": "stream",
     "text": [
      " WARNING (norm_resp): computed and reported sensitivities differ by more than 5 percent. \n",
      "\t Execution continuing.\n"
     ]
    },
    {
     "name": "stdout",
     "output_type": "stream",
     "text": [
      "Processing from date:  2023-10-06T00:00:00.000000Z\n"
     ]
    },
    {
     "name": "stderr",
     "output_type": "stream",
     "text": [
      " WARNING (norm_resp): computed and reported sensitivities differ by more than 5 percent. \n",
      "\t Execution continuing.\n"
     ]
    },
    {
     "name": "stdout",
     "output_type": "stream",
     "text": [
      "Processing from date:  2023-10-07T00:00:00.000000Z\n"
     ]
    },
    {
     "name": "stderr",
     "output_type": "stream",
     "text": [
      " WARNING (norm_resp): computed and reported sensitivities differ by more than 5 percent. \n",
      "\t Execution continuing.\n"
     ]
    },
    {
     "name": "stdout",
     "output_type": "stream",
     "text": [
      "Processing from date:  2023-10-08T00:00:00.000000Z\n"
     ]
    },
    {
     "name": "stderr",
     "output_type": "stream",
     "text": [
      " WARNING (norm_resp): computed and reported sensitivities differ by more than 5 percent. \n",
      "\t Execution continuing.\n"
     ]
    },
    {
     "name": "stdout",
     "output_type": "stream",
     "text": [
      "Processing from date:  2023-10-09T00:00:00.000000Z\n"
     ]
    },
    {
     "name": "stderr",
     "output_type": "stream",
     "text": [
      " WARNING (norm_resp): computed and reported sensitivities differ by more than 5 percent. \n",
      "\t Execution continuing.\n"
     ]
    },
    {
     "name": "stdout",
     "output_type": "stream",
     "text": [
      "Processing from date:  2023-10-10T00:00:00.000000Z\n"
     ]
    },
    {
     "name": "stderr",
     "output_type": "stream",
     "text": [
      " WARNING (norm_resp): computed and reported sensitivities differ by more than 5 percent. \n",
      "\t Execution continuing.\n"
     ]
    },
    {
     "name": "stdout",
     "output_type": "stream",
     "text": [
      "Processing from date:  2023-10-11T00:00:00.000000Z\n"
     ]
    },
    {
     "name": "stderr",
     "output_type": "stream",
     "text": [
      " WARNING (norm_resp): computed and reported sensitivities differ by more than 5 percent. \n",
      "\t Execution continuing.\n"
     ]
    },
    {
     "name": "stdout",
     "output_type": "stream",
     "text": [
      "Processing from date:  2023-10-12T00:00:00.000000Z\n"
     ]
    },
    {
     "name": "stderr",
     "output_type": "stream",
     "text": [
      " WARNING (norm_resp): computed and reported sensitivities differ by more than 5 percent. \n",
      "\t Execution continuing.\n"
     ]
    },
    {
     "name": "stdout",
     "output_type": "stream",
     "text": [
      "Processing from date:  2023-10-13T00:00:00.000000Z\n"
     ]
    },
    {
     "name": "stderr",
     "output_type": "stream",
     "text": [
      " WARNING (norm_resp): computed and reported sensitivities differ by more than 5 percent. \n",
      "\t Execution continuing.\n"
     ]
    },
    {
     "name": "stdout",
     "output_type": "stream",
     "text": [
      "Processing from date:  2023-10-14T00:00:00.000000Z\n"
     ]
    },
    {
     "name": "stderr",
     "output_type": "stream",
     "text": [
      " WARNING (norm_resp): computed and reported sensitivities differ by more than 5 percent. \n",
      "\t Execution continuing.\n"
     ]
    },
    {
     "name": "stdout",
     "output_type": "stream",
     "text": [
      "Processing from date:  2023-10-15T00:00:00.000000Z\n"
     ]
    },
    {
     "name": "stderr",
     "output_type": "stream",
     "text": [
      " WARNING (norm_resp): computed and reported sensitivities differ by more than 5 percent. \n",
      "\t Execution continuing.\n"
     ]
    },
    {
     "name": "stdout",
     "output_type": "stream",
     "text": [
      "Processing from date:  2023-10-16T00:00:00.000000Z\n"
     ]
    },
    {
     "name": "stderr",
     "output_type": "stream",
     "text": [
      " WARNING (norm_resp): computed and reported sensitivities differ by more than 5 percent. \n",
      "\t Execution continuing.\n"
     ]
    },
    {
     "name": "stdout",
     "output_type": "stream",
     "text": [
      "Processing from date:  2023-10-17T00:00:00.000000Z\n"
     ]
    },
    {
     "name": "stderr",
     "output_type": "stream",
     "text": [
      " WARNING (norm_resp): computed and reported sensitivities differ by more than 5 percent. \n",
      "\t Execution continuing.\n"
     ]
    },
    {
     "name": "stdout",
     "output_type": "stream",
     "text": [
      "Processing from date:  2023-10-18T00:00:00.000000Z\n"
     ]
    },
    {
     "name": "stderr",
     "output_type": "stream",
     "text": [
      " WARNING (norm_resp): computed and reported sensitivities differ by more than 5 percent. \n",
      "\t Execution continuing.\n"
     ]
    },
    {
     "name": "stdout",
     "output_type": "stream",
     "text": [
      "Processing from date:  2023-10-19T00:00:00.000000Z\n"
     ]
    },
    {
     "name": "stderr",
     "output_type": "stream",
     "text": [
      " WARNING (norm_resp): computed and reported sensitivities differ by more than 5 percent. \n",
      "\t Execution continuing.\n"
     ]
    },
    {
     "name": "stdout",
     "output_type": "stream",
     "text": [
      "Processing from date:  2023-10-20T00:00:00.000000Z\n"
     ]
    },
    {
     "name": "stderr",
     "output_type": "stream",
     "text": [
      " WARNING (norm_resp): computed and reported sensitivities differ by more than 5 percent. \n",
      "\t Execution continuing.\n"
     ]
    },
    {
     "name": "stdout",
     "output_type": "stream",
     "text": [
      "Processing from date:  2023-10-21T00:00:00.000000Z\n"
     ]
    },
    {
     "name": "stderr",
     "output_type": "stream",
     "text": [
      " WARNING (norm_resp): computed and reported sensitivities differ by more than 5 percent. \n",
      "\t Execution continuing.\n"
     ]
    },
    {
     "name": "stdout",
     "output_type": "stream",
     "text": [
      "Processing from date:  2023-10-22T00:00:00.000000Z\n"
     ]
    },
    {
     "name": "stderr",
     "output_type": "stream",
     "text": [
      " WARNING (norm_resp): computed and reported sensitivities differ by more than 5 percent. \n",
      "\t Execution continuing.\n"
     ]
    },
    {
     "name": "stdout",
     "output_type": "stream",
     "text": [
      "Processing from date:  2023-10-23T00:00:00.000000Z\n"
     ]
    },
    {
     "name": "stderr",
     "output_type": "stream",
     "text": [
      " WARNING (norm_resp): computed and reported sensitivities differ by more than 5 percent. \n",
      "\t Execution continuing.\n"
     ]
    },
    {
     "name": "stdout",
     "output_type": "stream",
     "text": [
      "Processing from date:  2023-10-24T00:00:00.000000Z\n"
     ]
    },
    {
     "name": "stderr",
     "output_type": "stream",
     "text": [
      " WARNING (norm_resp): computed and reported sensitivities differ by more than 5 percent. \n",
      "\t Execution continuing.\n"
     ]
    },
    {
     "name": "stdout",
     "output_type": "stream",
     "text": [
      "Processing from date:  2023-10-25T00:00:00.000000Z\n"
     ]
    },
    {
     "name": "stderr",
     "output_type": "stream",
     "text": [
      " WARNING (norm_resp): computed and reported sensitivities differ by more than 5 percent. \n",
      "\t Execution continuing.\n"
     ]
    },
    {
     "name": "stdout",
     "output_type": "stream",
     "text": [
      "Processing from date:  2023-10-26T00:00:00.000000Z\n"
     ]
    },
    {
     "name": "stderr",
     "output_type": "stream",
     "text": [
      " WARNING (norm_resp): computed and reported sensitivities differ by more than 5 percent. \n",
      "\t Execution continuing.\n"
     ]
    },
    {
     "name": "stdout",
     "output_type": "stream",
     "text": [
      "Processing from date:  2023-10-27T00:00:00.000000Z\n"
     ]
    },
    {
     "name": "stderr",
     "output_type": "stream",
     "text": [
      " WARNING (norm_resp): computed and reported sensitivities differ by more than 5 percent. \n",
      "\t Execution continuing.\n"
     ]
    },
    {
     "name": "stdout",
     "output_type": "stream",
     "text": [
      "Processing from date:  2023-10-28T00:00:00.000000Z\n"
     ]
    },
    {
     "name": "stderr",
     "output_type": "stream",
     "text": [
      " WARNING (norm_resp): computed and reported sensitivities differ by more than 5 percent. \n",
      "\t Execution continuing.\n"
     ]
    },
    {
     "name": "stdout",
     "output_type": "stream",
     "text": [
      "Processing from date:  2023-10-29T00:00:00.000000Z\n"
     ]
    },
    {
     "name": "stderr",
     "output_type": "stream",
     "text": [
      " WARNING (norm_resp): computed and reported sensitivities differ by more than 5 percent. \n",
      "\t Execution continuing.\n"
     ]
    },
    {
     "name": "stdout",
     "output_type": "stream",
     "text": [
      "Processing from date:  2023-10-30T00:00:00.000000Z\n"
     ]
    },
    {
     "name": "stderr",
     "output_type": "stream",
     "text": [
      " WARNING (norm_resp): computed and reported sensitivities differ by more than 5 percent. \n",
      "\t Execution continuing.\n"
     ]
    },
    {
     "name": "stdout",
     "output_type": "stream",
     "text": [
      "Processing from date:  2023-10-31T00:00:00.000000Z\n"
     ]
    },
    {
     "name": "stderr",
     "output_type": "stream",
     "text": [
      " WARNING (norm_resp): computed and reported sensitivities differ by more than 5 percent. \n",
      "\t Execution continuing.\n"
     ]
    },
    {
     "name": "stdout",
     "output_type": "stream",
     "text": [
      "Processing from date:  2023-11-01T00:00:00.000000Z\n"
     ]
    },
    {
     "name": "stderr",
     "output_type": "stream",
     "text": [
      " WARNING (norm_resp): computed and reported sensitivities differ by more than 5 percent. \n",
      "\t Execution continuing.\n"
     ]
    },
    {
     "name": "stdout",
     "output_type": "stream",
     "text": [
      "Processing from date:  2023-11-02T00:00:00.000000Z\n"
     ]
    },
    {
     "name": "stderr",
     "output_type": "stream",
     "text": [
      " WARNING (norm_resp): computed and reported sensitivities differ by more than 5 percent. \n",
      "\t Execution continuing.\n"
     ]
    },
    {
     "name": "stdout",
     "output_type": "stream",
     "text": [
      "Processing from date:  2023-11-03T00:00:00.000000Z\n"
     ]
    },
    {
     "name": "stderr",
     "output_type": "stream",
     "text": [
      " WARNING (norm_resp): computed and reported sensitivities differ by more than 5 percent. \n",
      "\t Execution continuing.\n"
     ]
    },
    {
     "name": "stdout",
     "output_type": "stream",
     "text": [
      "Processing from date:  2023-11-04T00:00:00.000000Z\n"
     ]
    },
    {
     "name": "stderr",
     "output_type": "stream",
     "text": [
      " WARNING (norm_resp): computed and reported sensitivities differ by more than 5 percent. \n",
      "\t Execution continuing.\n"
     ]
    },
    {
     "name": "stdout",
     "output_type": "stream",
     "text": [
      "Processing from date:  2023-11-05T00:00:00.000000Z\n"
     ]
    },
    {
     "name": "stderr",
     "output_type": "stream",
     "text": [
      " WARNING (norm_resp): computed and reported sensitivities differ by more than 5 percent. \n",
      "\t Execution continuing.\n"
     ]
    },
    {
     "name": "stdout",
     "output_type": "stream",
     "text": [
      "Processing from date:  2023-11-06T00:00:00.000000Z\n"
     ]
    },
    {
     "name": "stderr",
     "output_type": "stream",
     "text": [
      " WARNING (norm_resp): computed and reported sensitivities differ by more than 5 percent. \n",
      "\t Execution continuing.\n"
     ]
    },
    {
     "name": "stdout",
     "output_type": "stream",
     "text": [
      "Processing from date:  2023-11-07T00:00:00.000000Z\n"
     ]
    },
    {
     "name": "stderr",
     "output_type": "stream",
     "text": [
      " WARNING (norm_resp): computed and reported sensitivities differ by more than 5 percent. \n",
      "\t Execution continuing.\n"
     ]
    },
    {
     "name": "stdout",
     "output_type": "stream",
     "text": [
      "Processing from date:  2023-11-08T00:00:00.000000Z\n"
     ]
    },
    {
     "name": "stderr",
     "output_type": "stream",
     "text": [
      " WARNING (norm_resp): computed and reported sensitivities differ by more than 5 percent. \n",
      "\t Execution continuing.\n"
     ]
    },
    {
     "name": "stdout",
     "output_type": "stream",
     "text": [
      "Processing from date:  2023-11-09T00:00:00.000000Z\n"
     ]
    },
    {
     "name": "stderr",
     "output_type": "stream",
     "text": [
      " WARNING (norm_resp): computed and reported sensitivities differ by more than 5 percent. \n",
      "\t Execution continuing.\n"
     ]
    },
    {
     "name": "stdout",
     "output_type": "stream",
     "text": [
      "Processing from date:  2023-11-10T00:00:00.000000Z\n"
     ]
    },
    {
     "name": "stderr",
     "output_type": "stream",
     "text": [
      " WARNING (norm_resp): computed and reported sensitivities differ by more than 5 percent. \n",
      "\t Execution continuing.\n"
     ]
    },
    {
     "name": "stdout",
     "output_type": "stream",
     "text": [
      "Processing from date:  2023-11-11T00:00:00.000000Z\n"
     ]
    },
    {
     "name": "stderr",
     "output_type": "stream",
     "text": [
      " WARNING (norm_resp): computed and reported sensitivities differ by more than 5 percent. \n",
      "\t Execution continuing.\n"
     ]
    },
    {
     "name": "stdout",
     "output_type": "stream",
     "text": [
      "Processing from date:  2023-11-12T00:00:00.000000Z\n"
     ]
    },
    {
     "name": "stderr",
     "output_type": "stream",
     "text": [
      " WARNING (norm_resp): computed and reported sensitivities differ by more than 5 percent. \n",
      "\t Execution continuing.\n"
     ]
    },
    {
     "name": "stdout",
     "output_type": "stream",
     "text": [
      "Processing from date:  2023-11-13T00:00:00.000000Z\n"
     ]
    },
    {
     "name": "stderr",
     "output_type": "stream",
     "text": [
      " WARNING (norm_resp): computed and reported sensitivities differ by more than 5 percent. \n",
      "\t Execution continuing.\n"
     ]
    },
    {
     "name": "stdout",
     "output_type": "stream",
     "text": [
      "Processing from date:  2023-11-14T00:00:00.000000Z\n"
     ]
    },
    {
     "name": "stderr",
     "output_type": "stream",
     "text": [
      " WARNING (norm_resp): computed and reported sensitivities differ by more than 5 percent. \n",
      "\t Execution continuing.\n"
     ]
    },
    {
     "name": "stdout",
     "output_type": "stream",
     "text": [
      "Processing from date:  2023-11-15T00:00:00.000000Z\n"
     ]
    },
    {
     "name": "stderr",
     "output_type": "stream",
     "text": [
      " WARNING (norm_resp): computed and reported sensitivities differ by more than 5 percent. \n",
      "\t Execution continuing.\n"
     ]
    },
    {
     "name": "stdout",
     "output_type": "stream",
     "text": [
      "Processing from date:  2023-11-16T00:00:00.000000Z\n"
     ]
    },
    {
     "name": "stderr",
     "output_type": "stream",
     "text": [
      " WARNING (norm_resp): computed and reported sensitivities differ by more than 5 percent. \n",
      "\t Execution continuing.\n"
     ]
    },
    {
     "name": "stdout",
     "output_type": "stream",
     "text": [
      "Processing from date:  2023-11-17T00:00:00.000000Z\n"
     ]
    },
    {
     "name": "stderr",
     "output_type": "stream",
     "text": [
      " WARNING (norm_resp): computed and reported sensitivities differ by more than 5 percent. \n",
      "\t Execution continuing.\n"
     ]
    },
    {
     "name": "stdout",
     "output_type": "stream",
     "text": [
      "Processing from date:  2023-11-18T00:00:00.000000Z\n"
     ]
    },
    {
     "name": "stderr",
     "output_type": "stream",
     "text": [
      " WARNING (norm_resp): computed and reported sensitivities differ by more than 5 percent. \n",
      "\t Execution continuing.\n"
     ]
    },
    {
     "name": "stdout",
     "output_type": "stream",
     "text": [
      "Processing from date:  2023-11-19T00:00:00.000000Z\n"
     ]
    },
    {
     "name": "stderr",
     "output_type": "stream",
     "text": [
      " WARNING (norm_resp): computed and reported sensitivities differ by more than 5 percent. \n",
      "\t Execution continuing.\n"
     ]
    },
    {
     "name": "stdout",
     "output_type": "stream",
     "text": [
      "Processing from date:  2023-11-20T00:00:00.000000Z\n"
     ]
    },
    {
     "name": "stderr",
     "output_type": "stream",
     "text": [
      " WARNING (norm_resp): computed and reported sensitivities differ by more than 5 percent. \n",
      "\t Execution continuing.\n"
     ]
    },
    {
     "name": "stdout",
     "output_type": "stream",
     "text": [
      "No data available for the specified parameters.\n",
      "Processing from date:  2023-11-21T00:00:00.000000Z\n"
     ]
    },
    {
     "name": "stderr",
     "output_type": "stream",
     "text": [
      " WARNING (norm_resp): computed and reported sensitivities differ by more than 5 percent. \n",
      "\t Execution continuing.\n"
     ]
    },
    {
     "name": "stdout",
     "output_type": "stream",
     "text": [
      "No data available for the specified parameters.\n",
      "Processing from date:  2023-11-22T00:00:00.000000Z\n"
     ]
    },
    {
     "name": "stderr",
     "output_type": "stream",
     "text": [
      " WARNING (norm_resp): computed and reported sensitivities differ by more than 5 percent. \n",
      "\t Execution continuing.\n"
     ]
    },
    {
     "name": "stdout",
     "output_type": "stream",
     "text": [
      "No data available for the specified parameters.\n",
      "Processing from date:  2023-11-23T00:00:00.000000Z\n"
     ]
    },
    {
     "name": "stderr",
     "output_type": "stream",
     "text": [
      " WARNING (norm_resp): computed and reported sensitivities differ by more than 5 percent. \n",
      "\t Execution continuing.\n"
     ]
    },
    {
     "name": "stdout",
     "output_type": "stream",
     "text": [
      "No data available for the specified parameters.\n",
      "Processing from date:  2023-11-24T00:00:00.000000Z\n"
     ]
    },
    {
     "name": "stderr",
     "output_type": "stream",
     "text": [
      " WARNING (norm_resp): computed and reported sensitivities differ by more than 5 percent. \n",
      "\t Execution continuing.\n"
     ]
    },
    {
     "name": "stdout",
     "output_type": "stream",
     "text": [
      "No data available for the specified parameters.\n",
      "Processing from date:  2023-11-25T00:00:00.000000Z\n"
     ]
    },
    {
     "name": "stderr",
     "output_type": "stream",
     "text": [
      " WARNING (norm_resp): computed and reported sensitivities differ by more than 5 percent. \n",
      "\t Execution continuing.\n"
     ]
    },
    {
     "name": "stdout",
     "output_type": "stream",
     "text": [
      "No data available for the specified parameters.\n",
      "Processing from date:  2023-11-26T00:00:00.000000Z\n"
     ]
    },
    {
     "name": "stderr",
     "output_type": "stream",
     "text": [
      " WARNING (norm_resp): computed and reported sensitivities differ by more than 5 percent. \n",
      "\t Execution continuing.\n"
     ]
    },
    {
     "name": "stdout",
     "output_type": "stream",
     "text": [
      "No data available for the specified parameters.\n",
      "Processing from date:  2023-11-27T00:00:00.000000Z\n"
     ]
    },
    {
     "name": "stderr",
     "output_type": "stream",
     "text": [
      " WARNING (norm_resp): computed and reported sensitivities differ by more than 5 percent. \n",
      "\t Execution continuing.\n"
     ]
    },
    {
     "name": "stdout",
     "output_type": "stream",
     "text": [
      "No data available for the specified parameters.\n",
      "Processing from date:  2023-11-28T00:00:00.000000Z\n"
     ]
    },
    {
     "name": "stderr",
     "output_type": "stream",
     "text": [
      " WARNING (norm_resp): computed and reported sensitivities differ by more than 5 percent. \n",
      "\t Execution continuing.\n"
     ]
    },
    {
     "name": "stdout",
     "output_type": "stream",
     "text": [
      "No data available for the specified parameters.\n",
      "Processing from date:  2023-11-29T00:00:00.000000Z\n"
     ]
    },
    {
     "name": "stderr",
     "output_type": "stream",
     "text": [
      " WARNING (norm_resp): computed and reported sensitivities differ by more than 5 percent. \n",
      "\t Execution continuing.\n"
     ]
    },
    {
     "name": "stdout",
     "output_type": "stream",
     "text": [
      "No data available for the specified parameters.\n",
      "Processing from date:  2023-11-30T00:00:00.000000Z\n"
     ]
    },
    {
     "name": "stderr",
     "output_type": "stream",
     "text": [
      " WARNING (norm_resp): computed and reported sensitivities differ by more than 5 percent. \n",
      "\t Execution continuing.\n"
     ]
    },
    {
     "name": "stdout",
     "output_type": "stream",
     "text": [
      "No data available for the specified parameters.\n",
      "Processing from date:  2023-12-01T00:00:00.000000Z\n"
     ]
    },
    {
     "name": "stderr",
     "output_type": "stream",
     "text": [
      " WARNING (norm_resp): computed and reported sensitivities differ by more than 5 percent. \n",
      "\t Execution continuing.\n"
     ]
    },
    {
     "name": "stdout",
     "output_type": "stream",
     "text": [
      "No data available for the specified parameters.\n",
      "Processing from date:  2023-12-02T00:00:00.000000Z\n"
     ]
    },
    {
     "name": "stderr",
     "output_type": "stream",
     "text": [
      " WARNING (norm_resp): computed and reported sensitivities differ by more than 5 percent. \n",
      "\t Execution continuing.\n"
     ]
    },
    {
     "name": "stdout",
     "output_type": "stream",
     "text": [
      "No data available for the specified parameters.\n",
      "Processing from date:  2023-12-03T00:00:00.000000Z\n"
     ]
    },
    {
     "name": "stderr",
     "output_type": "stream",
     "text": [
      " WARNING (norm_resp): computed and reported sensitivities differ by more than 5 percent. \n",
      "\t Execution continuing.\n"
     ]
    },
    {
     "name": "stdout",
     "output_type": "stream",
     "text": [
      "No data available for the specified parameters.\n",
      "Processing from date:  2023-12-04T00:00:00.000000Z\n"
     ]
    },
    {
     "name": "stderr",
     "output_type": "stream",
     "text": [
      " WARNING (norm_resp): computed and reported sensitivities differ by more than 5 percent. \n",
      "\t Execution continuing.\n"
     ]
    },
    {
     "name": "stdout",
     "output_type": "stream",
     "text": [
      "No data available for the specified parameters.\n",
      "Processing from date:  2023-12-05T00:00:00.000000Z\n"
     ]
    },
    {
     "name": "stderr",
     "output_type": "stream",
     "text": [
      " WARNING (norm_resp): computed and reported sensitivities differ by more than 5 percent. \n",
      "\t Execution continuing.\n"
     ]
    },
    {
     "name": "stdout",
     "output_type": "stream",
     "text": [
      "No data available for the specified parameters.\n",
      "Processing from date:  2023-12-06T00:00:00.000000Z\n"
     ]
    },
    {
     "name": "stderr",
     "output_type": "stream",
     "text": [
      " WARNING (norm_resp): computed and reported sensitivities differ by more than 5 percent. \n",
      "\t Execution continuing.\n"
     ]
    },
    {
     "name": "stdout",
     "output_type": "stream",
     "text": [
      "No data available for the specified parameters.\n",
      "Processing from date:  2023-12-07T00:00:00.000000Z\n"
     ]
    },
    {
     "name": "stderr",
     "output_type": "stream",
     "text": [
      " WARNING (norm_resp): computed and reported sensitivities differ by more than 5 percent. \n",
      "\t Execution continuing.\n"
     ]
    },
    {
     "name": "stdout",
     "output_type": "stream",
     "text": [
      "No data available for the specified parameters.\n",
      "Processing from date:  2023-12-08T00:00:00.000000Z\n"
     ]
    },
    {
     "name": "stderr",
     "output_type": "stream",
     "text": [
      " WARNING (norm_resp): computed and reported sensitivities differ by more than 5 percent. \n",
      "\t Execution continuing.\n"
     ]
    },
    {
     "name": "stdout",
     "output_type": "stream",
     "text": [
      "No data available for the specified parameters.\n",
      "Processing from date:  2023-12-09T00:00:00.000000Z\n"
     ]
    },
    {
     "name": "stderr",
     "output_type": "stream",
     "text": [
      " WARNING (norm_resp): computed and reported sensitivities differ by more than 5 percent. \n",
      "\t Execution continuing.\n"
     ]
    },
    {
     "name": "stdout",
     "output_type": "stream",
     "text": [
      "No data available for the specified parameters.\n",
      "Processing from date:  2023-12-10T00:00:00.000000Z\n"
     ]
    },
    {
     "name": "stderr",
     "output_type": "stream",
     "text": [
      " WARNING (norm_resp): computed and reported sensitivities differ by more than 5 percent. \n",
      "\t Execution continuing.\n"
     ]
    },
    {
     "name": "stdout",
     "output_type": "stream",
     "text": [
      "No data available for the specified parameters.\n",
      "Processing from date:  2023-12-11T00:00:00.000000Z\n"
     ]
    },
    {
     "name": "stderr",
     "output_type": "stream",
     "text": [
      " WARNING (norm_resp): computed and reported sensitivities differ by more than 5 percent. \n",
      "\t Execution continuing.\n"
     ]
    },
    {
     "name": "stdout",
     "output_type": "stream",
     "text": [
      "No data available for the specified parameters.\n",
      "Processing from date:  2023-12-12T00:00:00.000000Z\n"
     ]
    },
    {
     "name": "stderr",
     "output_type": "stream",
     "text": [
      " WARNING (norm_resp): computed and reported sensitivities differ by more than 5 percent. \n",
      "\t Execution continuing.\n"
     ]
    },
    {
     "name": "stdout",
     "output_type": "stream",
     "text": [
      "No data available for the specified parameters.\n",
      "Processing from date:  2023-12-13T00:00:00.000000Z\n"
     ]
    },
    {
     "name": "stderr",
     "output_type": "stream",
     "text": [
      " WARNING (norm_resp): computed and reported sensitivities differ by more than 5 percent. \n",
      "\t Execution continuing.\n"
     ]
    },
    {
     "name": "stdout",
     "output_type": "stream",
     "text": [
      "No data available for the specified parameters.\n",
      "Processing from date:  2023-12-14T00:00:00.000000Z\n"
     ]
    },
    {
     "name": "stderr",
     "output_type": "stream",
     "text": [
      " WARNING (norm_resp): computed and reported sensitivities differ by more than 5 percent. \n",
      "\t Execution continuing.\n"
     ]
    },
    {
     "name": "stdout",
     "output_type": "stream",
     "text": [
      "No data available for the specified parameters.\n",
      "Processing from date:  2023-12-15T00:00:00.000000Z\n"
     ]
    },
    {
     "name": "stderr",
     "output_type": "stream",
     "text": [
      " WARNING (norm_resp): computed and reported sensitivities differ by more than 5 percent. \n",
      "\t Execution continuing.\n"
     ]
    },
    {
     "name": "stdout",
     "output_type": "stream",
     "text": [
      "No data available for the specified parameters.\n",
      "Processing from date:  2023-12-16T00:00:00.000000Z\n"
     ]
    },
    {
     "name": "stderr",
     "output_type": "stream",
     "text": [
      " WARNING (norm_resp): computed and reported sensitivities differ by more than 5 percent. \n",
      "\t Execution continuing.\n"
     ]
    },
    {
     "name": "stdout",
     "output_type": "stream",
     "text": [
      "No data available for the specified parameters.\n",
      "Processing from date:  2023-12-17T00:00:00.000000Z\n"
     ]
    },
    {
     "name": "stderr",
     "output_type": "stream",
     "text": [
      " WARNING (norm_resp): computed and reported sensitivities differ by more than 5 percent. \n",
      "\t Execution continuing.\n"
     ]
    },
    {
     "name": "stdout",
     "output_type": "stream",
     "text": [
      "No data available for the specified parameters.\n",
      "Processing from date:  2023-12-18T00:00:00.000000Z\n"
     ]
    },
    {
     "name": "stderr",
     "output_type": "stream",
     "text": [
      " WARNING (norm_resp): computed and reported sensitivities differ by more than 5 percent. \n",
      "\t Execution continuing.\n"
     ]
    },
    {
     "name": "stdout",
     "output_type": "stream",
     "text": [
      "No data available for the specified parameters.\n",
      "Processing from date:  2023-12-19T00:00:00.000000Z\n"
     ]
    },
    {
     "name": "stderr",
     "output_type": "stream",
     "text": [
      " WARNING (norm_resp): computed and reported sensitivities differ by more than 5 percent. \n",
      "\t Execution continuing.\n"
     ]
    },
    {
     "name": "stdout",
     "output_type": "stream",
     "text": [
      "No data available for the specified parameters.\n",
      "Processing from date:  2023-12-20T00:00:00.000000Z\n"
     ]
    },
    {
     "name": "stderr",
     "output_type": "stream",
     "text": [
      " WARNING (norm_resp): computed and reported sensitivities differ by more than 5 percent. \n",
      "\t Execution continuing.\n"
     ]
    },
    {
     "name": "stdout",
     "output_type": "stream",
     "text": [
      "85318\n"
     ]
    }
   ],
   "source": [
    "badday = 0\n",
    "\n",
    "while t<stopdate:\n",
    "    while True:\n",
    "        try:\n",
    "            st=waves.get_waveforms(station=station,channel=channel,network=network,location=location,starttime=t,endtime=t+dT-delta)\n",
    "            st.merge()\n",
    "            break\n",
    "        except FDSNNoDataException:\n",
    "            print(\"No data available for the specified parameters.\") #urllib.error.URLError: # URLError:\n",
    "            #print('Problems in connection: retry...')\n",
    "            break\n",
    "            #URLError:\n",
    "            #print('Problems in connection: retry...')\n",
    "    print('Processing from date: ',t)\n",
    "    t1=t\n",
    "    response=inv.get_response(FullName,t1)\n",
    "    response_old=response\n",
    "    resp,_=response.get_evalresp_response(t_samp=delta,nfft=Numfft,output='VEL')\n",
    "    TF=abs(resp)**2\n",
    "    TF[0]=1e-16\n",
    "    for n in range(0,M):\n",
    "        if ksave==0:\n",
    "            tsave=t1\n",
    "        v[ksave]=np.nan\n",
    "        ET_NN[k]=np.nan\n",
    "        ET_NN1[k]=np.nan\n",
    "        t2=t1+T-delta\n",
    "        tr=st.slice(t1,t2)\n",
    "        if tr.get_gaps()==[] and len(tr)>0:\n",
    "            tr1=tr[0]\n",
    "            #print(tr1.stats.npts,Numfft)\n",
    "            if tr1.stats.npts==Num:\n",
    "                response=inv.get_response(FullName,t1)\n",
    "                if response!=response_old:\n",
    "                    print('Calibration change detected at: ', t1)\n",
    "                    response_old=response\n",
    "                    # get a response in VEL\n",
    "                    resp,_=response.get_evalresp_response(t_samp=delta,nfft=Numfft,output='VEL')\n",
    "                    TF=abs(resp)**2\n",
    "                    TF[0]=1e-16\n",
    "                # PSD\n",
    "                s,_=mlab.psd(tr1.data,NFFT=Numfft,noverlap=NOvl,Fs=fs,detrend=\"linear\")\n",
    "                # move from PSD to PSD in VEL and then in displacement (2*pi*f)\n",
    "                s=(2*np.pi*f)**2*s/TF\n",
    "                # PSD displacement\n",
    "                v[ksave]=s[imin:imax+1]\n",
    "                \n",
    "                # fmin = 2 Hz Rosario code\n",
    "                proj=ET_proj(f[NNimin:NNimax+1],s[NNimin:NNimax+1])\n",
    "                ET_NN[k]=np.sqrt(1.0/(NN_fmax-NN_fmin)*df*np.sum((proj/ET_ASD[NNimin:NNimax+1])**2))\n",
    "                # fmin = 3 Hz\n",
    "                proj1=ET_proj(f[NNimin1:NNimax+1],s[NNimin1:NNimax+1])\n",
    "                ET_NN1[k]=np.sqrt(1.0/(NN_fmax-NN_fmin1)*df*np.sum((proj1/ET_ASD[NNimin1:NNimax+1])**2))\n",
    "                \n",
    "                # fmin = 2 Hz Davide modification\n",
    "                PSD_ETLF = proj**2 + PSD_ETLF_noNN_int[NNimin:NNimax+1]\n",
    "                PSD_ETHF = proj**2 + PSD_ETHF_noNN_int[NNimin:NNimax+1]\n",
    "                PSD_ETLHF = 1./(1./PSD_ETLF + 1./PSD_ETHF)\n",
    "                ET_DR[k]=np.sqrt(1.0/(NN_fmax-NN_fmin)*df*np.sum(PSD_ETLHF/(ASD_ET_int[NNimin:NNimax+1])**2))\n",
    "                # fmin = 3 Hz\n",
    "                PSD_ETLF1 = proj1**2 + PSD_ETLF_noNN_int[NNimin1:NNimax+1]\n",
    "                PSD_ETHF1 = proj1**2 + PSD_ETHF_noNN_int[NNimin1:NNimax+1]\n",
    "                PSD_ETLHF1 = 1./(1./PSD_ETLF1 + 1./PSD_ETHF1)\n",
    "                ET_DR1[k]=np.sqrt(1.0/(NN_fmax-NN_fmin1)*df*np.sum(PSD_ETLHF1/(ASD_ET_int[NNimin1:NNimax+1])**2))\n",
    "\n",
    "        else :\n",
    "            badday = badday+1\n",
    "            #print(badday,t1,t2)\n",
    "        \n",
    "        d[k]=date2num(t1.datetime)\n",
    "        dsave[ksave]=d[k]\n",
    "        t1=t1+T*(1-Ovl)\n",
    "        k=k+1\n",
    "        ksave=ksave+1\n",
    "        if ksave==Ksave:\n",
    "            ksave=0\n",
    "            if savespec==1:\n",
    "                NameFile='Spectra_'+station+'/Spec_'+FullName+'.'+str(tsave.year)+'.'+str(tsave.month)+'.'+str(tsave.day).zfill(3)+'.mat'\n",
    "                scipy.io.savemat(NameFile,mdict={'f':f[imin:imax+1],'d':dsave,'v':v})\n",
    "    t=t+TLong\n",
    "\n",
    "print(badday)"
   ]
  },
  {
   "cell_type": "code",
   "execution_count": 13,
   "id": "e80c84e9-94fd-454a-9687-d034aa063bbd",
   "metadata": {},
   "outputs": [],
   "source": [
    "nday=int((stopdate-startdate)/86400)\n",
    "NameFile='ET_DR_NN_Proj_'+FullName+'.'+str(startdate.year)+'.'+str(startdate.julday).zfill(3)+'_'+str(nday).zfill(4)+'.mat'\n",
    "scipy.io.savemat(NameFile,mdict={'d':d, 'ET_NN':ET_NN, 'ET_NN1':ET_NN1, 'ET_DR':ET_DR, 'ET_DR1':ET_DR1})"
   ]
  },
  {
   "cell_type": "code",
   "execution_count": null,
   "id": "263cd778-d827-403e-b971-dfa5a6416022",
   "metadata": {},
   "outputs": [],
   "source": []
  }
 ],
 "metadata": {
  "kernelspec": {
   "display_name": "Python 3 (ipykernel)",
   "language": "python",
   "name": "python3"
  },
  "language_info": {
   "codemirror_mode": {
    "name": "ipython",
    "version": 3
   },
   "file_extension": ".py",
   "mimetype": "text/x-python",
   "name": "python",
   "nbconvert_exporter": "python",
   "pygments_lexer": "ipython3",
   "version": "3.11.4"
  }
 },
 "nbformat": 4,
 "nbformat_minor": 5
}
